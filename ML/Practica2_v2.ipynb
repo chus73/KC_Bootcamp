{
 "cells": [
  {
   "cell_type": "markdown",
   "metadata": {},
   "source": [
    "# Machine Learning.\n",
    "## Parte 2. Problema de Regresión\n",
    "### Autor:   Jesús González Leal   \n",
    "### <div align=\"right\"> Fecha: 14 de Diciembre del 2018 </div>"
   ]
  },
  {
   "cell_type": "markdown",
   "metadata": {},
   "source": [
    "El objetivo es **estimar el precio** ( price ) de un diamante a partir de un conjunto de\n",
    "propiedades físicas del mismo:\n",
    "    \n",
    "- carat : peso del diamante\n",
    "- cut : calidad del corte: Fair, Good, Very good, Premium, Ideal.\n",
    "- color : desde color J (peor color) a D (mejor color)\n",
    "- clarity : medida de la claridad del diamante (I1 (peor calidad), SI2, SI1, VS2, VS1, VVS2, VVS1, IF (mejor claridad))\n",
    "- x : longitud en mm\n",
    "- y : anchura en mm.\n",
    "- z : profundidad en mm\n",
    "- depth : porcentaje de profundidad total 2 * z / (x + y)\n",
    "- table : ancho de la punta del diamante relativa al punto más ancho.\n",
    "\n",
    "--------------------"
   ]
  },
  {
   "cell_type": "markdown",
   "metadata": {},
   "source": [
    "# Carga del dataset y exploración de las variables"
   ]
  },
  {
   "cell_type": "code",
   "execution_count": 1,
   "metadata": {},
   "outputs": [],
   "source": [
    "# Carga de las librerías necesarias\n",
    "import pandas as pd\n",
    "import numpy as np\n",
    "import matplotlib.pyplot as plt\n",
    "%matplotlib inline\n",
    "\n",
    "from matplotlib.colors import ListedColormap\n",
    "cm = plt.cm.RdBu\n",
    "cm_bright = ListedColormap(['#FF0000', '#0000FF'])\n",
    "\n",
    "import warnings\n",
    "warnings.filterwarnings('ignore')"
   ]
  },
  {
   "cell_type": "code",
   "execution_count": 2,
   "metadata": {
    "scrolled": true
   },
   "outputs": [
    {
     "data": {
      "text/html": [
       "<div>\n",
       "<style scoped>\n",
       "    .dataframe tbody tr th:only-of-type {\n",
       "        vertical-align: middle;\n",
       "    }\n",
       "\n",
       "    .dataframe tbody tr th {\n",
       "        vertical-align: top;\n",
       "    }\n",
       "\n",
       "    .dataframe thead th {\n",
       "        text-align: right;\n",
       "    }\n",
       "</style>\n",
       "<table border=\"1\" class=\"dataframe\">\n",
       "  <thead>\n",
       "    <tr style=\"text-align: right;\">\n",
       "      <th></th>\n",
       "      <th>Unnamed: 0</th>\n",
       "      <th>carat</th>\n",
       "      <th>cut</th>\n",
       "      <th>color</th>\n",
       "      <th>clarity</th>\n",
       "      <th>depth</th>\n",
       "      <th>table</th>\n",
       "      <th>price</th>\n",
       "      <th>x</th>\n",
       "      <th>y</th>\n",
       "      <th>z</th>\n",
       "    </tr>\n",
       "  </thead>\n",
       "  <tbody>\n",
       "    <tr>\n",
       "      <th>0</th>\n",
       "      <td>1</td>\n",
       "      <td>0.23</td>\n",
       "      <td>Ideal</td>\n",
       "      <td>E</td>\n",
       "      <td>SI2</td>\n",
       "      <td>61.5</td>\n",
       "      <td>55.0</td>\n",
       "      <td>326</td>\n",
       "      <td>3.95</td>\n",
       "      <td>3.98</td>\n",
       "      <td>2.43</td>\n",
       "    </tr>\n",
       "    <tr>\n",
       "      <th>1</th>\n",
       "      <td>2</td>\n",
       "      <td>0.21</td>\n",
       "      <td>Premium</td>\n",
       "      <td>E</td>\n",
       "      <td>SI1</td>\n",
       "      <td>59.8</td>\n",
       "      <td>61.0</td>\n",
       "      <td>326</td>\n",
       "      <td>3.89</td>\n",
       "      <td>3.84</td>\n",
       "      <td>2.31</td>\n",
       "    </tr>\n",
       "    <tr>\n",
       "      <th>2</th>\n",
       "      <td>3</td>\n",
       "      <td>0.23</td>\n",
       "      <td>Good</td>\n",
       "      <td>E</td>\n",
       "      <td>VS1</td>\n",
       "      <td>56.9</td>\n",
       "      <td>65.0</td>\n",
       "      <td>327</td>\n",
       "      <td>4.05</td>\n",
       "      <td>4.07</td>\n",
       "      <td>2.31</td>\n",
       "    </tr>\n",
       "    <tr>\n",
       "      <th>3</th>\n",
       "      <td>4</td>\n",
       "      <td>0.29</td>\n",
       "      <td>Premium</td>\n",
       "      <td>I</td>\n",
       "      <td>VS2</td>\n",
       "      <td>62.4</td>\n",
       "      <td>58.0</td>\n",
       "      <td>334</td>\n",
       "      <td>4.20</td>\n",
       "      <td>4.23</td>\n",
       "      <td>2.63</td>\n",
       "    </tr>\n",
       "    <tr>\n",
       "      <th>4</th>\n",
       "      <td>5</td>\n",
       "      <td>0.31</td>\n",
       "      <td>Good</td>\n",
       "      <td>J</td>\n",
       "      <td>SI2</td>\n",
       "      <td>63.3</td>\n",
       "      <td>58.0</td>\n",
       "      <td>335</td>\n",
       "      <td>4.34</td>\n",
       "      <td>4.35</td>\n",
       "      <td>2.75</td>\n",
       "    </tr>\n",
       "  </tbody>\n",
       "</table>\n",
       "</div>"
      ],
      "text/plain": [
       "   Unnamed: 0  carat      cut color clarity  depth  table  price     x     y  \\\n",
       "0           1   0.23    Ideal     E     SI2   61.5   55.0    326  3.95  3.98   \n",
       "1           2   0.21  Premium     E     SI1   59.8   61.0    326  3.89  3.84   \n",
       "2           3   0.23     Good     E     VS1   56.9   65.0    327  4.05  4.07   \n",
       "3           4   0.29  Premium     I     VS2   62.4   58.0    334  4.20  4.23   \n",
       "4           5   0.31     Good     J     SI2   63.3   58.0    335  4.34  4.35   \n",
       "\n",
       "      z  \n",
       "0  2.43  \n",
       "1  2.31  \n",
       "2  2.31  \n",
       "3  2.63  \n",
       "4  2.75  "
      ]
     },
     "execution_count": 2,
     "metadata": {},
     "output_type": "execute_result"
    }
   ],
   "source": [
    "# Carga del dataset:\n",
    "data = pd.read_csv('../practica/diamonds.csv', sep=',', decimal='.')\n",
    "data.head()"
   ]
  },
  {
   "cell_type": "markdown",
   "metadata": {},
   "source": [
    "De la observación directa del dataset ya podemos ver que podemos eliminar la primera columna, ya que debe de ser un autonumérico que indique el número de fila del dataset.\n",
    "\n",
    "La variable cut, color y clarity **son categóricas** y la tendremos que tratar como tal.\n",
    "\n",
    "**price** es nuestra variable target. Después veremos como evoluciona.\n",
    "\n",
    "Vamos a mirar el tamaño de nuestro dataset y el tipo de datos que contine."
   ]
  },
  {
   "cell_type": "code",
   "execution_count": 3,
   "metadata": {},
   "outputs": [
    {
     "name": "stdout",
     "output_type": "stream",
     "text": [
      "(53940, 10)\n"
     ]
    }
   ],
   "source": [
    "data = data[data.columns[1:]]\n",
    "print(data.shape)"
   ]
  },
  {
   "cell_type": "code",
   "execution_count": 4,
   "metadata": {},
   "outputs": [
    {
     "name": "stdout",
     "output_type": "stream",
     "text": [
      "<class 'pandas.core.frame.DataFrame'>\n",
      "RangeIndex: 53940 entries, 0 to 53939\n",
      "Data columns (total 10 columns):\n",
      "carat      53940 non-null float64\n",
      "cut        53940 non-null object\n",
      "color      53940 non-null object\n",
      "clarity    53940 non-null object\n",
      "depth      53940 non-null float64\n",
      "table      53940 non-null float64\n",
      "price      53940 non-null int64\n",
      "x          53940 non-null float64\n",
      "y          53940 non-null float64\n",
      "z          53940 non-null float64\n",
      "dtypes: float64(6), int64(1), object(3)\n",
      "memory usage: 4.1+ MB\n"
     ]
    }
   ],
   "source": [
    "data.info(null_counts=True)"
   ]
  },
  {
   "cell_type": "markdown",
   "metadata": {},
   "source": [
    "No apreciamos valores nulos en las variables."
   ]
  },
  {
   "cell_type": "code",
   "execution_count": 5,
   "metadata": {},
   "outputs": [
    {
     "data": {
      "text/html": [
       "<div>\n",
       "<style scoped>\n",
       "    .dataframe tbody tr th:only-of-type {\n",
       "        vertical-align: middle;\n",
       "    }\n",
       "\n",
       "    .dataframe tbody tr th {\n",
       "        vertical-align: top;\n",
       "    }\n",
       "\n",
       "    .dataframe thead th {\n",
       "        text-align: right;\n",
       "    }\n",
       "</style>\n",
       "<table border=\"1\" class=\"dataframe\">\n",
       "  <thead>\n",
       "    <tr style=\"text-align: right;\">\n",
       "      <th></th>\n",
       "      <th>carat</th>\n",
       "      <th>cut</th>\n",
       "      <th>color</th>\n",
       "      <th>clarity</th>\n",
       "      <th>depth</th>\n",
       "      <th>table</th>\n",
       "      <th>price</th>\n",
       "      <th>x</th>\n",
       "      <th>y</th>\n",
       "      <th>z</th>\n",
       "    </tr>\n",
       "  </thead>\n",
       "  <tbody>\n",
       "    <tr>\n",
       "      <th>0</th>\n",
       "      <td>0.23</td>\n",
       "      <td>Ideal</td>\n",
       "      <td>E</td>\n",
       "      <td>SI2</td>\n",
       "      <td>61.5</td>\n",
       "      <td>55.0</td>\n",
       "      <td>326</td>\n",
       "      <td>3.95</td>\n",
       "      <td>3.98</td>\n",
       "      <td>2.43</td>\n",
       "    </tr>\n",
       "    <tr>\n",
       "      <th>1</th>\n",
       "      <td>0.21</td>\n",
       "      <td>Premium</td>\n",
       "      <td>E</td>\n",
       "      <td>SI1</td>\n",
       "      <td>59.8</td>\n",
       "      <td>61.0</td>\n",
       "      <td>326</td>\n",
       "      <td>3.89</td>\n",
       "      <td>3.84</td>\n",
       "      <td>2.31</td>\n",
       "    </tr>\n",
       "    <tr>\n",
       "      <th>2</th>\n",
       "      <td>0.23</td>\n",
       "      <td>Good</td>\n",
       "      <td>E</td>\n",
       "      <td>VS1</td>\n",
       "      <td>56.9</td>\n",
       "      <td>65.0</td>\n",
       "      <td>327</td>\n",
       "      <td>4.05</td>\n",
       "      <td>4.07</td>\n",
       "      <td>2.31</td>\n",
       "    </tr>\n",
       "    <tr>\n",
       "      <th>3</th>\n",
       "      <td>0.29</td>\n",
       "      <td>Premium</td>\n",
       "      <td>I</td>\n",
       "      <td>VS2</td>\n",
       "      <td>62.4</td>\n",
       "      <td>58.0</td>\n",
       "      <td>334</td>\n",
       "      <td>4.20</td>\n",
       "      <td>4.23</td>\n",
       "      <td>2.63</td>\n",
       "    </tr>\n",
       "    <tr>\n",
       "      <th>4</th>\n",
       "      <td>0.31</td>\n",
       "      <td>Good</td>\n",
       "      <td>J</td>\n",
       "      <td>SI2</td>\n",
       "      <td>63.3</td>\n",
       "      <td>58.0</td>\n",
       "      <td>335</td>\n",
       "      <td>4.34</td>\n",
       "      <td>4.35</td>\n",
       "      <td>2.75</td>\n",
       "    </tr>\n",
       "  </tbody>\n",
       "</table>\n",
       "</div>"
      ],
      "text/plain": [
       "   carat      cut color clarity  depth  table  price     x     y     z\n",
       "0   0.23    Ideal     E     SI2   61.5   55.0    326  3.95  3.98  2.43\n",
       "1   0.21  Premium     E     SI1   59.8   61.0    326  3.89  3.84  2.31\n",
       "2   0.23     Good     E     VS1   56.9   65.0    327  4.05  4.07  2.31\n",
       "3   0.29  Premium     I     VS2   62.4   58.0    334  4.20  4.23  2.63\n",
       "4   0.31     Good     J     SI2   63.3   58.0    335  4.34  4.35  2.75"
      ]
     },
     "execution_count": 5,
     "metadata": {},
     "output_type": "execute_result"
    }
   ],
   "source": [
    "data.head()"
   ]
  },
  {
   "cell_type": "markdown",
   "metadata": {},
   "source": [
    "Miremos la existencia de valores duplicados y nulos en las muestras."
   ]
  },
  {
   "cell_type": "code",
   "execution_count": 6,
   "metadata": {},
   "outputs": [
    {
     "name": "stdout",
     "output_type": "stream",
     "text": [
      "(53794, 10)\n",
      "(array([], dtype=int64), array([], dtype=int64))\n",
      "(array([], dtype=int64), array([], dtype=int64))\n"
     ]
    }
   ],
   "source": [
    "data = data.drop_duplicates()\n",
    "print(data.shape)\n",
    "print(np.where(pd.isnull(data)))\n",
    "print(np.where(pd.isna(data)))\n"
   ]
  },
  {
   "cell_type": "markdown",
   "metadata": {},
   "source": [
    "No parece que existan valores nulos."
   ]
  },
  {
   "cell_type": "markdown",
   "metadata": {},
   "source": [
    "# Preprocesamiento de las variables"
   ]
  },
  {
   "cell_type": "markdown",
   "metadata": {},
   "source": [
    " ## Codificación de las variables categóricas"
   ]
  },
  {
   "cell_type": "code",
   "execution_count": 7,
   "metadata": {},
   "outputs": [
    {
     "name": "stdout",
     "output_type": "stream",
     "text": [
      "1 object\n",
      "2 object\n",
      "3 object\n",
      "Categorical labels:  Index(['cut', 'color', 'clarity'], dtype='object')\n"
     ]
    }
   ],
   "source": [
    "index=[]\n",
    "for i, d in enumerate(data.dtypes):\n",
    "    if d == 'object':\n",
    "        print(i, d)\n",
    "        index.append(i)\n",
    "\n",
    "print('Categorical labels: ', data.columns[index])"
   ]
  },
  {
   "cell_type": "markdown",
   "metadata": {},
   "source": [
    "La variables anteriores son categóricas y las tendremos que codificar para que los algoritmos puedan interpretarlas. También vamos a mostrar el vector de orden de codificación, por si fuera necesario.\n",
    "\n",
    "Las variables categóricas tienen un orden de prioridad establecido que respetaremos tras la codificación numérica."
   ]
  },
  {
   "cell_type": "code",
   "execution_count": 8,
   "metadata": {},
   "outputs": [
    {
     "name": "stdout",
     "output_type": "stream",
     "text": [
      "['Fair' 'Good' 'Ideal' 'Premium' 'Very Good']\n",
      "[0 1 2 3 4]\n",
      "\n",
      "['D' 'E' 'F' 'G' 'H' 'I' 'J']\n",
      "[0 1 2 3 4 5 6]\n",
      "\n",
      "['I1' 'IF' 'SI1' 'SI2' 'VS1' 'VS2' 'VVS1' 'VVS2']\n",
      "[0 1 2 3 4 5 6 7]\n",
      "\n"
     ]
    }
   ],
   "source": [
    "# Encoding the categoric labels.\n",
    "# cut Encoding: Fair, Good, Very good, Premium, Ideal.\n",
    "print(np.unique(data['cut']))\n",
    "cut_encoding = {'cut':{'Fair':0, 'Good':1, 'Very Good':2, 'Premium':3, 'Ideal':4}}\n",
    "data.replace(cut_encoding, inplace=True)\n",
    "print(np.unique(data['cut']))\n",
    "print()\n",
    "\n",
    "# color: J (peor color) a D (mejor color)\n",
    "print(np.unique(data['color']))\n",
    "color_encoding = {'color':{'J':0, 'I':1, 'H':2, 'G':3, 'F':4, 'E':5, 'D':6}}\n",
    "data.replace(color_encoding, inplace=True)\n",
    "print(np.unique(data['color']))\n",
    "print()\n",
    "\n",
    "# clarity: I1 (peor calidad), SI2, SI1, VS2, VS1, VVS2, VVS1, IF (mejor claridad)\n",
    "print(np.unique(data['clarity']))\n",
    "clarity_encoding = {'clarity': {'I1':0, 'SI2':1, 'SI1':2, 'VS2':3, 'VS1':4, \n",
    "                    'VVS2':5, 'VVS1':6, 'IF':7 }}\n",
    "data.replace(clarity_encoding, inplace=True)\n",
    "print(np.unique(data['clarity']))\n",
    "print()\n",
    "\n",
    "\n"
   ]
  },
  {
   "cell_type": "markdown",
   "metadata": {},
   "source": [
    "## Análisis Exploratorio de las variables"
   ]
  },
  {
   "cell_type": "markdown",
   "metadata": {},
   "source": [
    "Empezaremos nuestro análisis por la variable target **price**."
   ]
  },
  {
   "cell_type": "code",
   "execution_count": 9,
   "metadata": {},
   "outputs": [
    {
     "name": "stdout",
     "output_type": "stream",
     "text": [
      "count    53794.000000\n",
      "mean      3933.065082\n",
      "std       3988.114460\n",
      "min        326.000000\n",
      "25%        951.000000\n",
      "50%       2401.000000\n",
      "75%       5326.750000\n",
      "max      18823.000000\n",
      "Name: price, dtype: float64\n"
     ]
    },
    {
     "data": {
      "image/png": "[encoded data removed]",
      "text/plain": [
       "<Figure size 432x288 with 1 Axes>"
      ]
     },
     "metadata": {
      "needs_background": "light"
     },
     "output_type": "display_data"
    }
   ],
   "source": [
    "print(data.price.describe().T)\n",
    "#data.price.hist()\n",
    "\n",
    "plt.figure()\n",
    "#plt.subplot(2,2,1)\n",
    "data.price.plot.hist(alpha=0.5, bins=25, grid = True)\n",
    "plt.title('price')\n",
    "\n",
    "plt.show()"
   ]
  },
  {
   "cell_type": "markdown",
   "metadata": {},
   "source": [
    "Vemos que la distribución de la muestra se encuentra muy escorada hacia la izquierda. Vamos a tratar de comprobar si es posible encontrar otra distribución que se le ajuste. Para ello vamos a intentar normalizarla aplicando **una transformación logarítmica**.\n",
    "\n",
    "Posteriormente, hemos aplicado **un Test de Shapiro-Wild** para comprobar la normalidad de la variable target. "
   ]
  },
  {
   "cell_type": "code",
   "execution_count": 10,
   "metadata": {},
   "outputs": [
    {
     "name": "stdout",
     "output_type": "stream",
     "text": [
      "(0.96355801820755, 0.0)\n"
     ]
    },
    {
     "data": {
      "text/plain": [
       "<matplotlib.axes._subplots.AxesSubplot at 0x22aa73805c0>"
      ]
     },
     "execution_count": 10,
     "metadata": {},
     "output_type": "execute_result"
    },
    {
     "data": {
      "image/png": "[encoded data removed]",
      "text/plain": [
       "<Figure size 432x288 with 1 Axes>"
      ]
     },
     "metadata": {
      "needs_background": "light"
     },
     "output_type": "display_data"
    }
   ],
   "source": [
    "from scipy import stats\n",
    "y_log = np.log10(data.price)\n",
    "print(stats.shapiro(y_log))\n",
    "y_log.hist(bins=25)"
   ]
  },
  {
   "cell_type": "markdown",
   "metadata": {},
   "source": [
    "Dado el resultado del p-valor, y la forma de la figura, rechazamos la hipótesis de normalidad de la muestra.\n",
    "Lamentablemente no hemos conseguido una normalidad de la variable target con la transformación.\n",
    "\n",
    "Lo que si se puede considerar es la **estandarización** de las variables predictoras, ya que **tenemos mezcladas varias unidades de medida diferentes.**\n",
    "\n",
    "Otra opción que podemos intentar es a filtrar los datos por la derecha. Examinando su mediana, con 2400  por pieza, podemos cortar en 4000 , con lo que nos quedaríamos con algo menos del 75 % de las muestras"
   ]
  },
  {
   "cell_type": "code",
   "execution_count": 11,
   "metadata": {},
   "outputs": [
    {
     "data": {
      "image/png": "[encoded data removed]",
      "text/plain": [
       "<Figure size 432x288 with 1 Axes>"
      ]
     },
     "metadata": {
      "needs_background": "light"
     },
     "output_type": "display_data"
    }
   ],
   "source": [
    "data_filtraded = data[data.price<4000]\n",
    "\n",
    "plt.figure()\n",
    "#plt.subplot(2,2,1)\n",
    "data_filtraded.price.plot.hist(alpha=0.5, bins=25, grid = True)\n",
    "plt.title('price')\n",
    "\n",
    "plt.show()"
   ]
  },
  {
   "cell_type": "code",
   "execution_count": 12,
   "metadata": {},
   "outputs": [
    {
     "name": "stdout",
     "output_type": "stream",
     "text": [
      "(0.9567750692367554, 0.0)\n"
     ]
    },
    {
     "data": {
      "text/plain": [
       "<matplotlib.axes._subplots.AxesSubplot at 0x22aa7411dd8>"
      ]
     },
     "execution_count": 12,
     "metadata": {},
     "output_type": "execute_result"
    },
    {
     "data": {
      "image/png": "[encoded data removed]",
      "text/plain": [
       "<Figure size 432x288 with 1 Axes>"
      ]
     },
     "metadata": {
      "needs_background": "light"
     },
     "output_type": "display_data"
    }
   ],
   "source": [
    "y_log = np.log10(data_filtraded.price)\n",
    "print(stats.shapiro(y_log))\n",
    "y_log.hist(bins=25)"
   ]
  },
  {
   "cell_type": "markdown",
   "metadata": {},
   "source": [
    "Vemos que no conseguimos ninguna mejoría en la normalidad, por lo que descartamos esta aproximación."
   ]
  },
  {
   "cell_type": "markdown",
   "metadata": {},
   "source": [
    "## Análisis de correlación\n",
    "\n",
    "   Lanzamos el análisis de correlación sobre todo el dataset."
   ]
  },
  {
   "cell_type": "code",
   "execution_count": 13,
   "metadata": {},
   "outputs": [
    {
     "data": {
      "text/html": [
       "<div>\n",
       "<style scoped>\n",
       "    .dataframe tbody tr th:only-of-type {\n",
       "        vertical-align: middle;\n",
       "    }\n",
       "\n",
       "    .dataframe tbody tr th {\n",
       "        vertical-align: top;\n",
       "    }\n",
       "\n",
       "    .dataframe thead th {\n",
       "        text-align: right;\n",
       "    }\n",
       "</style>\n",
       "<table border=\"1\" class=\"dataframe\">\n",
       "  <thead>\n",
       "    <tr style=\"text-align: right;\">\n",
       "      <th></th>\n",
       "      <th>carat</th>\n",
       "      <th>cut</th>\n",
       "      <th>color</th>\n",
       "      <th>clarity</th>\n",
       "      <th>depth</th>\n",
       "      <th>table</th>\n",
       "      <th>price</th>\n",
       "      <th>x</th>\n",
       "      <th>y</th>\n",
       "      <th>z</th>\n",
       "    </tr>\n",
       "  </thead>\n",
       "  <tbody>\n",
       "    <tr>\n",
       "      <th>carat</th>\n",
       "      <td>1.000000</td>\n",
       "      <td>-0.133376</td>\n",
       "      <td>-0.291019</td>\n",
       "      <td>-0.352288</td>\n",
       "      <td>0.027861</td>\n",
       "      <td>0.181091</td>\n",
       "      <td>0.921548</td>\n",
       "      <td>0.975380</td>\n",
       "      <td>0.951908</td>\n",
       "      <td>0.953542</td>\n",
       "    </tr>\n",
       "    <tr>\n",
       "      <th>cut</th>\n",
       "      <td>-0.133376</td>\n",
       "      <td>1.000000</td>\n",
       "      <td>0.020162</td>\n",
       "      <td>0.188327</td>\n",
       "      <td>-0.217078</td>\n",
       "      <td>-0.433700</td>\n",
       "      <td>-0.052241</td>\n",
       "      <td>-0.124303</td>\n",
       "      <td>-0.120233</td>\n",
       "      <td>-0.147940</td>\n",
       "    </tr>\n",
       "    <tr>\n",
       "      <th>color</th>\n",
       "      <td>-0.291019</td>\n",
       "      <td>0.020162</td>\n",
       "      <td>1.000000</td>\n",
       "      <td>-0.025542</td>\n",
       "      <td>-0.047572</td>\n",
       "      <td>-0.026102</td>\n",
       "      <td>-0.171825</td>\n",
       "      <td>-0.269876</td>\n",
       "      <td>-0.263153</td>\n",
       "      <td>-0.267825</td>\n",
       "    </tr>\n",
       "    <tr>\n",
       "      <th>clarity</th>\n",
       "      <td>-0.352288</td>\n",
       "      <td>0.188327</td>\n",
       "      <td>-0.025542</td>\n",
       "      <td>1.000000</td>\n",
       "      <td>-0.067292</td>\n",
       "      <td>-0.160000</td>\n",
       "      <td>-0.146149</td>\n",
       "      <td>-0.371636</td>\n",
       "      <td>-0.358048</td>\n",
       "      <td>-0.366568</td>\n",
       "    </tr>\n",
       "    <tr>\n",
       "      <th>depth</th>\n",
       "      <td>0.027861</td>\n",
       "      <td>-0.217078</td>\n",
       "      <td>-0.047572</td>\n",
       "      <td>-0.067292</td>\n",
       "      <td>1.000000</td>\n",
       "      <td>-0.297669</td>\n",
       "      <td>-0.011048</td>\n",
       "      <td>-0.025348</td>\n",
       "      <td>-0.029389</td>\n",
       "      <td>0.094757</td>\n",
       "    </tr>\n",
       "    <tr>\n",
       "      <th>table</th>\n",
       "      <td>0.181091</td>\n",
       "      <td>-0.433700</td>\n",
       "      <td>-0.026102</td>\n",
       "      <td>-0.160000</td>\n",
       "      <td>-0.297669</td>\n",
       "      <td>1.000000</td>\n",
       "      <td>0.126566</td>\n",
       "      <td>0.194855</td>\n",
       "      <td>0.183231</td>\n",
       "      <td>0.150270</td>\n",
       "    </tr>\n",
       "    <tr>\n",
       "      <th>price</th>\n",
       "      <td>0.921548</td>\n",
       "      <td>-0.052241</td>\n",
       "      <td>-0.171825</td>\n",
       "      <td>-0.146149</td>\n",
       "      <td>-0.011048</td>\n",
       "      <td>0.126566</td>\n",
       "      <td>1.000000</td>\n",
       "      <td>0.884504</td>\n",
       "      <td>0.865395</td>\n",
       "      <td>0.861208</td>\n",
       "    </tr>\n",
       "    <tr>\n",
       "      <th>x</th>\n",
       "      <td>0.975380</td>\n",
       "      <td>-0.124303</td>\n",
       "      <td>-0.269876</td>\n",
       "      <td>-0.371636</td>\n",
       "      <td>-0.025348</td>\n",
       "      <td>0.194855</td>\n",
       "      <td>0.884504</td>\n",
       "      <td>1.000000</td>\n",
       "      <td>0.974592</td>\n",
       "      <td>0.970686</td>\n",
       "    </tr>\n",
       "    <tr>\n",
       "      <th>y</th>\n",
       "      <td>0.951908</td>\n",
       "      <td>-0.120233</td>\n",
       "      <td>-0.263153</td>\n",
       "      <td>-0.358048</td>\n",
       "      <td>-0.029389</td>\n",
       "      <td>0.183231</td>\n",
       "      <td>0.865395</td>\n",
       "      <td>0.974592</td>\n",
       "      <td>1.000000</td>\n",
       "      <td>0.951844</td>\n",
       "    </tr>\n",
       "    <tr>\n",
       "      <th>z</th>\n",
       "      <td>0.953542</td>\n",
       "      <td>-0.147940</td>\n",
       "      <td>-0.267825</td>\n",
       "      <td>-0.366568</td>\n",
       "      <td>0.094757</td>\n",
       "      <td>0.150270</td>\n",
       "      <td>0.861208</td>\n",
       "      <td>0.970686</td>\n",
       "      <td>0.951844</td>\n",
       "      <td>1.000000</td>\n",
       "    </tr>\n",
       "  </tbody>\n",
       "</table>\n",
       "</div>"
      ],
      "text/plain": [
       "            carat       cut     color   clarity     depth     table     price  \\\n",
       "carat    1.000000 -0.133376 -0.291019 -0.352288  0.027861  0.181091  0.921548   \n",
       "cut     -0.133376  1.000000  0.020162  0.188327 -0.217078 -0.433700 -0.052241   \n",
       "color   -0.291019  0.020162  1.000000 -0.025542 -0.047572 -0.026102 -0.171825   \n",
       "clarity -0.352288  0.188327 -0.025542  1.000000 -0.067292 -0.160000 -0.146149   \n",
       "depth    0.027861 -0.217078 -0.047572 -0.067292  1.000000 -0.297669 -0.011048   \n",
       "table    0.181091 -0.433700 -0.026102 -0.160000 -0.297669  1.000000  0.126566   \n",
       "price    0.921548 -0.052241 -0.171825 -0.146149 -0.011048  0.126566  1.000000   \n",
       "x        0.975380 -0.124303 -0.269876 -0.371636 -0.025348  0.194855  0.884504   \n",
       "y        0.951908 -0.120233 -0.263153 -0.358048 -0.029389  0.183231  0.865395   \n",
       "z        0.953542 -0.147940 -0.267825 -0.366568  0.094757  0.150270  0.861208   \n",
       "\n",
       "                x         y         z  \n",
       "carat    0.975380  0.951908  0.953542  \n",
       "cut     -0.124303 -0.120233 -0.147940  \n",
       "color   -0.269876 -0.263153 -0.267825  \n",
       "clarity -0.371636 -0.358048 -0.366568  \n",
       "depth   -0.025348 -0.029389  0.094757  \n",
       "table    0.194855  0.183231  0.150270  \n",
       "price    0.884504  0.865395  0.861208  \n",
       "x        1.000000  0.974592  0.970686  \n",
       "y        0.974592  1.000000  0.951844  \n",
       "z        0.970686  0.951844  1.000000  "
      ]
     },
     "execution_count": 13,
     "metadata": {},
     "output_type": "execute_result"
    }
   ],
   "source": [
    "data.corr()"
   ]
  },
  {
   "cell_type": "markdown",
   "metadata": {},
   "source": [
    "Apreciamos como la variable **'carat'**, junto con las medidad del diamante **'x', 'y', 'z',** tiene una correlación muy fuerte con la variable de salida.\n",
    "\n",
    "A su vez, estas cuatro variables están tambien correlacionadas entre ellas.\n",
    "\n",
    "Tiene sentido el pensar que el precio del diamante está directamente relacionado con sus medidas y con su peso.\n",
    "\n",
    "Dado que estamos hablando de un mismo objeto, diamante, al que suponemos una densidad constante, podemos agrupar las cuatro variables en **una variable de volumen**. Tendremos que tener en cuenta sus unidades cúbicas."
   ]
  },
  {
   "cell_type": "code",
   "execution_count": 14,
   "metadata": {},
   "outputs": [
    {
     "data": {
      "text/html": [
       "<div>\n",
       "<style scoped>\n",
       "    .dataframe tbody tr th:only-of-type {\n",
       "        vertical-align: middle;\n",
       "    }\n",
       "\n",
       "    .dataframe tbody tr th {\n",
       "        vertical-align: top;\n",
       "    }\n",
       "\n",
       "    .dataframe thead th {\n",
       "        text-align: right;\n",
       "    }\n",
       "</style>\n",
       "<table border=\"1\" class=\"dataframe\">\n",
       "  <thead>\n",
       "    <tr style=\"text-align: right;\">\n",
       "      <th></th>\n",
       "      <th>carat</th>\n",
       "      <th>cut</th>\n",
       "      <th>color</th>\n",
       "      <th>clarity</th>\n",
       "      <th>depth</th>\n",
       "      <th>table</th>\n",
       "      <th>price</th>\n",
       "      <th>x</th>\n",
       "      <th>y</th>\n",
       "      <th>z</th>\n",
       "      <th>vol</th>\n",
       "    </tr>\n",
       "  </thead>\n",
       "  <tbody>\n",
       "    <tr>\n",
       "      <th>0</th>\n",
       "      <td>0.23</td>\n",
       "      <td>4</td>\n",
       "      <td>5</td>\n",
       "      <td>1</td>\n",
       "      <td>61.5</td>\n",
       "      <td>55.0</td>\n",
       "      <td>326</td>\n",
       "      <td>3.95</td>\n",
       "      <td>3.98</td>\n",
       "      <td>2.43</td>\n",
       "      <td>38.202030</td>\n",
       "    </tr>\n",
       "    <tr>\n",
       "      <th>1</th>\n",
       "      <td>0.21</td>\n",
       "      <td>3</td>\n",
       "      <td>5</td>\n",
       "      <td>2</td>\n",
       "      <td>59.8</td>\n",
       "      <td>61.0</td>\n",
       "      <td>326</td>\n",
       "      <td>3.89</td>\n",
       "      <td>3.84</td>\n",
       "      <td>2.31</td>\n",
       "      <td>34.505856</td>\n",
       "    </tr>\n",
       "    <tr>\n",
       "      <th>2</th>\n",
       "      <td>0.23</td>\n",
       "      <td>1</td>\n",
       "      <td>5</td>\n",
       "      <td>4</td>\n",
       "      <td>56.9</td>\n",
       "      <td>65.0</td>\n",
       "      <td>327</td>\n",
       "      <td>4.05</td>\n",
       "      <td>4.07</td>\n",
       "      <td>2.31</td>\n",
       "      <td>38.076885</td>\n",
       "    </tr>\n",
       "    <tr>\n",
       "      <th>3</th>\n",
       "      <td>0.29</td>\n",
       "      <td>3</td>\n",
       "      <td>1</td>\n",
       "      <td>3</td>\n",
       "      <td>62.4</td>\n",
       "      <td>58.0</td>\n",
       "      <td>334</td>\n",
       "      <td>4.20</td>\n",
       "      <td>4.23</td>\n",
       "      <td>2.63</td>\n",
       "      <td>46.724580</td>\n",
       "    </tr>\n",
       "    <tr>\n",
       "      <th>4</th>\n",
       "      <td>0.31</td>\n",
       "      <td>1</td>\n",
       "      <td>0</td>\n",
       "      <td>1</td>\n",
       "      <td>63.3</td>\n",
       "      <td>58.0</td>\n",
       "      <td>335</td>\n",
       "      <td>4.34</td>\n",
       "      <td>4.35</td>\n",
       "      <td>2.75</td>\n",
       "      <td>51.917250</td>\n",
       "    </tr>\n",
       "  </tbody>\n",
       "</table>\n",
       "</div>"
      ],
      "text/plain": [
       "   carat  cut  color  clarity  depth  table  price     x     y     z  \\\n",
       "0   0.23    4      5        1   61.5   55.0    326  3.95  3.98  2.43   \n",
       "1   0.21    3      5        2   59.8   61.0    326  3.89  3.84  2.31   \n",
       "2   0.23    1      5        4   56.9   65.0    327  4.05  4.07  2.31   \n",
       "3   0.29    3      1        3   62.4   58.0    334  4.20  4.23  2.63   \n",
       "4   0.31    1      0        1   63.3   58.0    335  4.34  4.35  2.75   \n",
       "\n",
       "         vol  \n",
       "0  38.202030  \n",
       "1  34.505856  \n",
       "2  38.076885  \n",
       "3  46.724580  \n",
       "4  51.917250  "
      ]
     },
     "execution_count": 14,
     "metadata": {},
     "output_type": "execute_result"
    }
   ],
   "source": [
    "data['vol'] = data['x']*data['y']*data['z']\n",
    "data.head()"
   ]
  },
  {
   "cell_type": "markdown",
   "metadata": {},
   "source": [
    "Ahora, ya podemos eliminar las variables correlacionadas"
   ]
  },
  {
   "cell_type": "code",
   "execution_count": 15,
   "metadata": {},
   "outputs": [
    {
     "data": {
      "text/html": [
       "<div>\n",
       "<style scoped>\n",
       "    .dataframe tbody tr th:only-of-type {\n",
       "        vertical-align: middle;\n",
       "    }\n",
       "\n",
       "    .dataframe tbody tr th {\n",
       "        vertical-align: top;\n",
       "    }\n",
       "\n",
       "    .dataframe thead th {\n",
       "        text-align: right;\n",
       "    }\n",
       "</style>\n",
       "<table border=\"1\" class=\"dataframe\">\n",
       "  <thead>\n",
       "    <tr style=\"text-align: right;\">\n",
       "      <th></th>\n",
       "      <th>cut</th>\n",
       "      <th>color</th>\n",
       "      <th>clarity</th>\n",
       "      <th>depth</th>\n",
       "      <th>table</th>\n",
       "      <th>price</th>\n",
       "      <th>vol</th>\n",
       "    </tr>\n",
       "  </thead>\n",
       "  <tbody>\n",
       "    <tr>\n",
       "      <th>0</th>\n",
       "      <td>4</td>\n",
       "      <td>5</td>\n",
       "      <td>1</td>\n",
       "      <td>61.5</td>\n",
       "      <td>55.0</td>\n",
       "      <td>326</td>\n",
       "      <td>38.202030</td>\n",
       "    </tr>\n",
       "    <tr>\n",
       "      <th>1</th>\n",
       "      <td>3</td>\n",
       "      <td>5</td>\n",
       "      <td>2</td>\n",
       "      <td>59.8</td>\n",
       "      <td>61.0</td>\n",
       "      <td>326</td>\n",
       "      <td>34.505856</td>\n",
       "    </tr>\n",
       "    <tr>\n",
       "      <th>2</th>\n",
       "      <td>1</td>\n",
       "      <td>5</td>\n",
       "      <td>4</td>\n",
       "      <td>56.9</td>\n",
       "      <td>65.0</td>\n",
       "      <td>327</td>\n",
       "      <td>38.076885</td>\n",
       "    </tr>\n",
       "    <tr>\n",
       "      <th>3</th>\n",
       "      <td>3</td>\n",
       "      <td>1</td>\n",
       "      <td>3</td>\n",
       "      <td>62.4</td>\n",
       "      <td>58.0</td>\n",
       "      <td>334</td>\n",
       "      <td>46.724580</td>\n",
       "    </tr>\n",
       "    <tr>\n",
       "      <th>4</th>\n",
       "      <td>1</td>\n",
       "      <td>0</td>\n",
       "      <td>1</td>\n",
       "      <td>63.3</td>\n",
       "      <td>58.0</td>\n",
       "      <td>335</td>\n",
       "      <td>51.917250</td>\n",
       "    </tr>\n",
       "  </tbody>\n",
       "</table>\n",
       "</div>"
      ],
      "text/plain": [
       "   cut  color  clarity  depth  table  price        vol\n",
       "0    4      5        1   61.5   55.0    326  38.202030\n",
       "1    3      5        2   59.8   61.0    326  34.505856\n",
       "2    1      5        4   56.9   65.0    327  38.076885\n",
       "3    3      1        3   62.4   58.0    334  46.724580\n",
       "4    1      0        1   63.3   58.0    335  51.917250"
      ]
     },
     "execution_count": 15,
     "metadata": {},
     "output_type": "execute_result"
    }
   ],
   "source": [
    "data=data.drop(['carat', 'x', 'y', 'z'], axis=1)\n",
    "data.head()"
   ]
  },
  {
   "cell_type": "markdown",
   "metadata": {},
   "source": [
    "Y volvemos a lanzar un análisis de correlación sobre las variables."
   ]
  },
  {
   "cell_type": "code",
   "execution_count": 16,
   "metadata": {
    "scrolled": true
   },
   "outputs": [
    {
     "data": {
      "text/html": [
       "<div>\n",
       "<style scoped>\n",
       "    .dataframe tbody tr th:only-of-type {\n",
       "        vertical-align: middle;\n",
       "    }\n",
       "\n",
       "    .dataframe tbody tr th {\n",
       "        vertical-align: top;\n",
       "    }\n",
       "\n",
       "    .dataframe thead th {\n",
       "        text-align: right;\n",
       "    }\n",
       "</style>\n",
       "<table border=\"1\" class=\"dataframe\">\n",
       "  <thead>\n",
       "    <tr style=\"text-align: right;\">\n",
       "      <th></th>\n",
       "      <th>cut</th>\n",
       "      <th>color</th>\n",
       "      <th>clarity</th>\n",
       "      <th>depth</th>\n",
       "      <th>table</th>\n",
       "      <th>price</th>\n",
       "      <th>vol</th>\n",
       "    </tr>\n",
       "  </thead>\n",
       "  <tbody>\n",
       "    <tr>\n",
       "      <th>cut</th>\n",
       "      <td>1.000000</td>\n",
       "      <td>0.020162</td>\n",
       "      <td>0.188327</td>\n",
       "      <td>-0.217078</td>\n",
       "      <td>-0.433700</td>\n",
       "      <td>-0.052241</td>\n",
       "      <td>-0.116803</td>\n",
       "    </tr>\n",
       "    <tr>\n",
       "      <th>color</th>\n",
       "      <td>0.020162</td>\n",
       "      <td>1.000000</td>\n",
       "      <td>-0.025542</td>\n",
       "      <td>-0.047572</td>\n",
       "      <td>-0.026102</td>\n",
       "      <td>-0.171825</td>\n",
       "      <td>-0.283789</td>\n",
       "    </tr>\n",
       "    <tr>\n",
       "      <th>clarity</th>\n",
       "      <td>0.188327</td>\n",
       "      <td>-0.025542</td>\n",
       "      <td>1.000000</td>\n",
       "      <td>-0.067292</td>\n",
       "      <td>-0.160000</td>\n",
       "      <td>-0.146149</td>\n",
       "      <td>-0.340515</td>\n",
       "    </tr>\n",
       "    <tr>\n",
       "      <th>depth</th>\n",
       "      <td>-0.217078</td>\n",
       "      <td>-0.047572</td>\n",
       "      <td>-0.067292</td>\n",
       "      <td>1.000000</td>\n",
       "      <td>-0.297669</td>\n",
       "      <td>-0.011048</td>\n",
       "      <td>0.008704</td>\n",
       "    </tr>\n",
       "    <tr>\n",
       "      <th>table</th>\n",
       "      <td>-0.433700</td>\n",
       "      <td>-0.026102</td>\n",
       "      <td>-0.160000</td>\n",
       "      <td>-0.297669</td>\n",
       "      <td>1.000000</td>\n",
       "      <td>0.126566</td>\n",
       "      <td>0.166813</td>\n",
       "    </tr>\n",
       "    <tr>\n",
       "      <th>price</th>\n",
       "      <td>-0.052241</td>\n",
       "      <td>-0.171825</td>\n",
       "      <td>-0.146149</td>\n",
       "      <td>-0.011048</td>\n",
       "      <td>0.126566</td>\n",
       "      <td>1.000000</td>\n",
       "      <td>0.902231</td>\n",
       "    </tr>\n",
       "    <tr>\n",
       "      <th>vol</th>\n",
       "      <td>-0.116803</td>\n",
       "      <td>-0.283789</td>\n",
       "      <td>-0.340515</td>\n",
       "      <td>0.008704</td>\n",
       "      <td>0.166813</td>\n",
       "      <td>0.902231</td>\n",
       "      <td>1.000000</td>\n",
       "    </tr>\n",
       "  </tbody>\n",
       "</table>\n",
       "</div>"
      ],
      "text/plain": [
       "              cut     color   clarity     depth     table     price       vol\n",
       "cut      1.000000  0.020162  0.188327 -0.217078 -0.433700 -0.052241 -0.116803\n",
       "color    0.020162  1.000000 -0.025542 -0.047572 -0.026102 -0.171825 -0.283789\n",
       "clarity  0.188327 -0.025542  1.000000 -0.067292 -0.160000 -0.146149 -0.340515\n",
       "depth   -0.217078 -0.047572 -0.067292  1.000000 -0.297669 -0.011048  0.008704\n",
       "table   -0.433700 -0.026102 -0.160000 -0.297669  1.000000  0.126566  0.166813\n",
       "price   -0.052241 -0.171825 -0.146149 -0.011048  0.126566  1.000000  0.902231\n",
       "vol     -0.116803 -0.283789 -0.340515  0.008704  0.166813  0.902231  1.000000"
      ]
     },
     "execution_count": 16,
     "metadata": {},
     "output_type": "execute_result"
    }
   ],
   "source": [
    "data.corr()"
   ]
  },
  {
   "cell_type": "markdown",
   "metadata": {},
   "source": [
    "La correlación entre el volumen de la pieza y el precio es muy fuerte!"
   ]
  },
  {
   "cell_type": "markdown",
   "metadata": {},
   "source": [
    "### Histogramas\n",
    "\n",
    "Pintamos histogramas para cada clase predictora."
   ]
  },
  {
   "cell_type": "code",
   "execution_count": 19,
   "metadata": {},
   "outputs": [
    {
     "data": {
      "image/png": "[encoded data removed]",
      "text/plain": [
       "<Figure size 1440x1440 with 6 Axes>"
      ]
     },
     "metadata": {
      "needs_background": "light"
     },
     "output_type": "display_data"
    }
   ],
   "source": [
    "X_columns = data.columns.drop('price')\n",
    "X_columns\n",
    "X = X_train[X_columns]\n",
    "\n",
    "plt.figure(figsize=(20,20))\n",
    "\n",
    "for i,feature in enumerate(X.columns):\n",
    "    plt.subplot(6,5,i+1)   \n",
    "    X[feature].plot.hist(alpha=0.5, bins=25, grid = True)\n",
    "    plt.title(feature)\n",
    "    \n",
    "plt.show()"
   ]
  },
  {
   "cell_type": "markdown",
   "metadata": {},
   "source": [
    "# Etapa de Aprendizaje"
   ]
  },
  {
   "cell_type": "markdown",
   "metadata": {},
   "source": [
    "## Separación de datos en Entrenamiento y Test."
   ]
  },
  {
   "cell_type": "code",
   "execution_count": 20,
   "metadata": {},
   "outputs": [
    {
     "name": "stdout",
     "output_type": "stream",
     "text": [
      "Datos entrenamiento:  (43035, 6)\n",
      "Datos test:  (10759, 6)\n"
     ]
    }
   ],
   "source": [
    "from sklearn.model_selection import train_test_split\n",
    "\n",
    "# Dividimos los datos en entrenamiento y test (80 training, 20 test)\n",
    "# Utilizamos el valor de shuffle para mezclar los datos\n",
    "y = data['price']\n",
    "X = data.drop('price', axis=1)\n",
    "X_train, X_test, y_train, y_test = train_test_split(X, y, test_size=.2,  random_state = 0)\n",
    "\n",
    "print('Datos entrenamiento: ', X_train.shape)\n",
    "print('Datos test: ', X_test.shape)"
   ]
  },
  {
   "cell_type": "markdown",
   "metadata": {},
   "source": [
    "### Estandarización de las variables predictoras"
   ]
  },
  {
   "cell_type": "markdown",
   "metadata": {},
   "source": [
    "Ahora si aplicamos una estadarización de las variables, evitando el impacto de trabajar con unidades diferentes."
   ]
  },
  {
   "cell_type": "code",
   "execution_count": 21,
   "metadata": {
    "scrolled": true
   },
   "outputs": [
    {
     "data": {
      "text/html": [
       "<div>\n",
       "<style scoped>\n",
       "    .dataframe tbody tr th:only-of-type {\n",
       "        vertical-align: middle;\n",
       "    }\n",
       "\n",
       "    .dataframe tbody tr th {\n",
       "        vertical-align: top;\n",
       "    }\n",
       "\n",
       "    .dataframe thead th {\n",
       "        text-align: right;\n",
       "    }\n",
       "</style>\n",
       "<table border=\"1\" class=\"dataframe\">\n",
       "  <thead>\n",
       "    <tr style=\"text-align: right;\">\n",
       "      <th></th>\n",
       "      <th>cut</th>\n",
       "      <th>color</th>\n",
       "      <th>clarity</th>\n",
       "      <th>depth</th>\n",
       "      <th>table</th>\n",
       "      <th>vol</th>\n",
       "    </tr>\n",
       "  </thead>\n",
       "  <tbody>\n",
       "    <tr>\n",
       "      <th>0</th>\n",
       "      <td>0.085168</td>\n",
       "      <td>1.520630</td>\n",
       "      <td>-1.246629</td>\n",
       "      <td>0.244989</td>\n",
       "      <td>0.689823</td>\n",
       "      <td>-1.009613</td>\n",
       "    </tr>\n",
       "    <tr>\n",
       "      <th>1</th>\n",
       "      <td>-0.812504</td>\n",
       "      <td>-2.005281</td>\n",
       "      <td>-0.029471</td>\n",
       "      <td>1.017086</td>\n",
       "      <td>1.138421</td>\n",
       "      <td>-0.624951</td>\n",
       "    </tr>\n",
       "    <tr>\n",
       "      <th>2</th>\n",
       "      <td>-0.812504</td>\n",
       "      <td>0.932978</td>\n",
       "      <td>-0.638050</td>\n",
       "      <td>-1.158823</td>\n",
       "      <td>1.587018</td>\n",
       "      <td>-1.010827</td>\n",
       "    </tr>\n",
       "    <tr>\n",
       "      <th>3</th>\n",
       "      <td>-0.812504</td>\n",
       "      <td>-1.417629</td>\n",
       "      <td>0.579108</td>\n",
       "      <td>-0.597298</td>\n",
       "      <td>-0.207371</td>\n",
       "      <td>-1.062647</td>\n",
       "    </tr>\n",
       "    <tr>\n",
       "      <th>4</th>\n",
       "      <td>0.982839</td>\n",
       "      <td>-0.829977</td>\n",
       "      <td>-0.638050</td>\n",
       "      <td>-0.386726</td>\n",
       "      <td>-1.059706</td>\n",
       "      <td>-0.838121</td>\n",
       "    </tr>\n",
       "  </tbody>\n",
       "</table>\n",
       "</div>"
      ],
      "text/plain": [
       "        cut     color   clarity     depth     table       vol\n",
       "0  0.085168  1.520630 -1.246629  0.244989  0.689823 -1.009613\n",
       "1 -0.812504 -2.005281 -0.029471  1.017086  1.138421 -0.624951\n",
       "2 -0.812504  0.932978 -0.638050 -1.158823  1.587018 -1.010827\n",
       "3 -0.812504 -1.417629  0.579108 -0.597298 -0.207371 -1.062647\n",
       "4  0.982839 -0.829977 -0.638050 -0.386726 -1.059706 -0.838121"
      ]
     },
     "execution_count": 21,
     "metadata": {},
     "output_type": "execute_result"
    }
   ],
   "source": [
    "# Stantard procedure over the training data\n",
    "from sklearn import preprocessing\n",
    "\n",
    "X_columns = data.columns.drop('price')\n",
    "X_columns\n",
    "X = X_train[X_columns]\n",
    "\n",
    "# Create the Scaler object\n",
    "scaler = preprocessing.StandardScaler()\n",
    "# Fit your data on the scaler object\n",
    "scaled_df = scaler.fit_transform(X)\n",
    "X_s = pd.DataFrame(scaled_df, columns=X_columns)\n",
    "\n",
    "X_s.head()"
   ]
  },
  {
   "cell_type": "markdown",
   "metadata": {},
   "source": [
    "## Regresión mediante regresión lineal múltiple"
   ]
  },
  {
   "cell_type": "markdown",
   "metadata": {},
   "source": [
    "Vamos a probar el comportamiento predictivo con una regresión lineal de múltiples variables. En nuestro modelo tenemos 6 variables predictivas, después de haber sustituido las variables relativas a la dimensión del diamante por una sólo variable de volumen."
   ]
  },
  {
   "cell_type": "code",
   "execution_count": 189,
   "metadata": {},
   "outputs": [
    {
     "name": "stdout",
     "output_type": "stream",
     "text": [
      "RMSE Regresión lineal (train): 1.57e+03\n",
      "RMSE Regresión lineal (test) : 1.27e+03\n",
      "R2:  0.8997644426762768\n",
      "\n",
      "Coecifient value: \n",
      "cut 114.33824117941538\n",
      "color 266.62120112685534\n",
      "clarity 458.2173708932736\n",
      "depth 24.87089007575959\n",
      "table 18.67201002798796\n",
      "vol 50.52792815386118\n",
      "Intercept value:  -7869.788843471151\n"
     ]
    }
   ],
   "source": [
    "from sklearn.linear_model import LinearRegression\n",
    "from sklearn.metrics import mean_squared_error, r2_score\n",
    "\n",
    "features = data.columns.drop('price')\n",
    "lrModel = LinearRegression().fit(X_train, y_train)\n",
    "\n",
    "ytrainLineal = lrModel.predict(X_train)\n",
    "y_predict  = lrModel.predict(X_test)\n",
    "\n",
    "rmseTrainModel = np.sqrt(mean_squared_error(y_train,ytrainLineal))\n",
    "rmseTestModel = np.sqrt(mean_squared_error(y_test,y_predict))\n",
    "\n",
    "print('RMSE Regresión lineal (train): %0.3g' % rmseTrainModel)\n",
    "print('RMSE Regresión lineal (test) : %0.3g' % rmseTestModel)\n",
    "print ('R2: ', r2_score(y_test, y_predict))\n",
    "print()\n",
    "print('Coecifient value: ')\n",
    "w = lrModel.coef_\n",
    "for f,wi in zip(features,w):\n",
    "    print(f,wi)\n",
    "\n",
    "print(\"Intercept value: \", lrModel.intercept_)"
   ]
  },
  {
   "cell_type": "markdown",
   "metadata": {},
   "source": [
    "Como podemos comprobar, el Root mean square error (RMSE) que obtenemos en la predicción de regresión es muy alto. \n",
    "\n",
    "Este modelo nos servirá de base para poder comparar con otros modelos."
   ]
  },
  {
   "cell_type": "markdown",
   "metadata": {},
   "source": [
    "### Selección de características"
   ]
  },
  {
   "cell_type": "markdown",
   "metadata": {},
   "source": [
    "Vamos a intentar mejorar el modelo utilizando una selección de características. Seleccionaremos las 2 características más significativas **según su F-score.**\n"
   ]
  },
  {
   "cell_type": "code",
   "execution_count": 190,
   "metadata": {},
   "outputs": [
    {
     "name": "stdout",
     "output_type": "stream",
     "text": [
      "Columna escogida:  color\n",
      "Columna escogida:  vol\n",
      "Train:  (43035, 2)\n",
      "Test:  (10759, 2)\n"
     ]
    }
   ],
   "source": [
    "from  sklearn.feature_selection import SelectKBest, f_regression\n",
    "\n",
    "#Feature Selection\n",
    "\n",
    "# Create and fit selector\n",
    "selector = SelectKBest(f_regression, k=2).fit(X_s, y_train)\n",
    "\n",
    "# Get idxs of columns to keep\n",
    "cols = selector.get_support(indices=True)\n",
    "for i in cols:\n",
    "    print('Columna escogida: ', X_s.columns[i])\n",
    "\n",
    "X_one_train= X_train.drop(['cut', 'clarity', 'depth', 'table'], axis=1)\n",
    "X_one_test= X_test.drop(['cut', 'clarity', 'depth', 'table'], axis=1)\n",
    "print('Train: ', X_one_train.shape)\n",
    "print('Test: ', X_one_test.shape)"
   ]
  },
  {
   "cell_type": "code",
   "execution_count": 191,
   "metadata": {},
   "outputs": [
    {
     "name": "stdout",
     "output_type": "stream",
     "text": [
      "RMSE Regresión lineal selected (train): 1.72e+03\n",
      "RMSE Regresión lineal selected (test) : 1.51e+03\n",
      "R2:  0.8571547448162784\n",
      "\n",
      "Intercept value:  -7869.788843471151\n"
     ]
    }
   ],
   "source": [
    "lrModel_one = LinearRegression().fit(X_one_train, y_train)\n",
    "\n",
    "ytrainLineal = lrModel_one.predict(X_one_train)\n",
    "y_predict  = lrModel_one.predict(X_one_test)\n",
    "\n",
    "rmseTrainModel = np.sqrt(mean_squared_error(y_train,ytrainLineal))\n",
    "rmseTestModel = np.sqrt(mean_squared_error(y_test,y_predict))\n",
    "\n",
    "print('RMSE Regresión lineal selected (train): %0.3g' % rmseTrainModel)\n",
    "print('RMSE Regresión lineal selected (test) : %0.3g' % rmseTestModel)\n",
    "print ('R2: ', r2_score(y_test, y_predict))\n",
    "print()\n",
    "print(\"Intercept value: \", lrModel.intercept_)"
   ]
  },
  {
   "cell_type": "markdown",
   "metadata": {},
   "source": [
    "La selección de características mediante este método **no nos ha arrojado mejor resultado.**   \n",
    "Por tanto, teniendo en cuenta que la dimensionalidad de la muestra no es muy alta, alimentaremos los modelos predictivos con todas las variables."
   ]
  },
  {
   "cell_type": "markdown",
   "metadata": {},
   "source": [
    "## Regresión mediante árbol de decisión"
   ]
  },
  {
   "cell_type": "code",
   "execution_count": 192,
   "metadata": {},
   "outputs": [
    {
     "data": {
      "image/png": "[encoded data removed]",
      "text/plain": [
       "<Figure size 432x288 with 1 Axes>"
      ]
     },
     "metadata": {
      "needs_background": "light"
     },
     "output_type": "display_data"
    },
    {
     "name": "stdout",
     "output_type": "stream",
     "text": [
      "RMSE:  714.18  $\n",
      "R2:  0.9681\n"
     ]
    }
   ],
   "source": [
    "from sklearn.tree import DecisionTreeRegressor\n",
    "\n",
    "\n",
    "regTree = DecisionTreeRegressor(criterion='mse')\n",
    "# Entrenamos el modelo\n",
    "regTree.fit(X_train,y_train)\n",
    "# Predicción con los datos de test\n",
    "y_predict = regTree.predict(X_test)\n",
    "# Calculamos el Root Mean Square Error \n",
    "\n",
    "#error = np.round(np.sqrt(np.power(y_test -y_predict,2)),2)\n",
    "RMSE = np.round(np.sqrt(np.mean(np.power(y_test -y_predict,2))),2)\n",
    "plt.scatter( y_test, y_predict)\n",
    "#plt.plot(error, color='red')\n",
    "plt.plot([0, 17500], [0, 17500], color='black', linestyle='--')\n",
    "\n",
    "plt.title('Real vs predict')\n",
    "plt.show()\n",
    "\n",
    "print('RMSE: ', RMSE, ' $')\n",
    "print ('R2: ', round(r2_score(y_test, y_predict),4))"
   ]
  },
  {
   "cell_type": "markdown",
   "metadata": {},
   "source": [
    "Hemos podido mejorar nuestro error cuadrático medio obteniendo un valor de R<sup>2</sup> muy bueno.\n",
    "\n",
    "Vamos a probar a entrenar de nuevo nuestro árbol de decisión, pero esta vez vamos a jugar con el parámetro que controla **la profundidad del árbol**, utilizando validación cruzada."
   ]
  },
  {
   "cell_type": "code",
   "execution_count": 193,
   "metadata": {},
   "outputs": [
    {
     "name": "stdout",
     "output_type": "stream",
     "text": [
      "best mean cross-validation score: 0.941\n",
      "best parameters: {'max_depth': 18}\n"
     ]
    },
    {
     "data": {
      "image/png": "[encoded data removed]",
      "text/plain": [
       "<Figure size 432x288 with 1 Axes>"
      ]
     },
     "metadata": {
      "needs_background": "light"
     },
     "output_type": "display_data"
    }
   ],
   "source": [
    "from sklearn.model_selection import GridSearchCV\n",
    "maxDepth = range(1,20)\n",
    "tuned_parameters = {'max_depth': maxDepth}\n",
    "\n",
    "grid = GridSearchCV(DecisionTreeRegressor(random_state=0, criterion='mse', max_features='sqrt'), param_grid=tuned_parameters,cv=10) \n",
    "grid.fit(X_train, y_train)\n",
    "\n",
    "print(\"best mean cross-validation score: {:.3f}\".format(grid.best_score_))\n",
    "print(\"best parameters: {}\".format(grid.best_params_))\n",
    "\n",
    "scores = np.array(grid.cv_results_['mean_test_score'])\n",
    "plt.plot(maxDepth,scores,'-o')\n",
    "plt.xlabel('max_depth')\n",
    "plt.ylabel('10-fold ACC')\n",
    "\n",
    "plt.show()\n"
   ]
  },
  {
   "cell_type": "markdown",
   "metadata": {},
   "source": [
    "Los datos de test nos acabarán de decir que tal bueno es este modelo."
   ]
  },
  {
   "cell_type": "code",
   "execution_count": 194,
   "metadata": {},
   "outputs": [
    {
     "name": "stdout",
     "output_type": "stream",
     "text": [
      "R2 Train:  0.9976855035731991\n",
      "R2 Test:  0.9695165633172401\n"
     ]
    }
   ],
   "source": [
    "maxDepthOptimo = grid.best_params_['max_depth']\n",
    "regtree = DecisionTreeRegressor(criterion='mse', max_depth=maxDepthOptimo).fit(X_train,y_train)\n",
    "\n",
    "print(\"R2 Train: \",regtree.score(X_train,y_train))\n",
    "print(\"R2 Test: \",regtree.score(X_test,y_test))"
   ]
  },
  {
   "cell_type": "markdown",
   "metadata": {},
   "source": [
    "El modelo se encuentra **sobreajustado**. Forzando un valor más bajo de profundidad nos podremos alejar del overfitting."
   ]
  },
  {
   "cell_type": "code",
   "execution_count": 195,
   "metadata": {},
   "outputs": [
    {
     "name": "stdout",
     "output_type": "stream",
     "text": [
      "R2 Train:  0.9875782600648634\n",
      "R2 Test:  0.9758529563427292\n"
     ]
    }
   ],
   "source": [
    "regtree = DecisionTreeRegressor(criterion='mse', max_depth=12).fit(X_train,y_train)\n",
    "\n",
    "print(\"R2 Train: \",regtree.score(X_train,y_train))\n",
    "print(\"R2 Test: \",regtree.score(X_test,y_test))"
   ]
  },
  {
   "cell_type": "markdown",
   "metadata": {},
   "source": [
    "Bajando la profundidad nos encontramos con que ha mejorado las prestaciones de nuestro modelo."
   ]
  },
  {
   "cell_type": "code",
   "execution_count": 196,
   "metadata": {},
   "outputs": [
    {
     "data": {
      "image/png": "[encoded data removed]",
      "text/plain": [
       "<Figure size 432x288 with 1 Axes>"
      ]
     },
     "metadata": {
      "needs_background": "light"
     },
     "output_type": "display_data"
    },
    {
     "name": "stdout",
     "output_type": "stream",
     "text": [
      "RMSE Regresion Tree (test) : 621\n",
      "R2:  0.9759\n"
     ]
    }
   ],
   "source": [
    "y_predict = regtree.predict(X_test)\n",
    "y_error = np.array(y_test)\n",
    "y_error = y_test - y_predict\n",
    "\n",
    "RMSE = np.round(np.sqrt(np.mean(np.power(y_test -y_predict,2))),2)\n",
    "R2 = round(r2_score(y_test, y_predict),4)\n",
    "\n",
    "plt.scatter(y_test, y_error)\n",
    "plt.axhline(y=RMSE, color='r', linestyle=':')\n",
    "plt.axhline(y=0, color='r', linestyle='--')\n",
    "plt.axhline(y=(-1)*RMSE, color='r', linestyle=':')\n",
    "plt.title('Error Evolution')\n",
    "plt.show()\n",
    "\n",
    "print('RMSE Regresion Tree (test) : %0.3g' % RMSE)\n",
    "print ('R2: ', R2)"
   ]
  },
  {
   "cell_type": "markdown",
   "metadata": {},
   "source": [
    "En el gráfico superior mostramos la evolución del error cometido al predecir sobre los datos de TEST. Se ha marcado con líneas discontinuas el valor de error medio obtenido."
   ]
  },
  {
   "cell_type": "markdown",
   "metadata": {},
   "source": [
    "## Regresión mediante Boosted Tree\n",
    "\n",
    "Como parámetros libres tenemos el número de árboles, la tasa de aprendizaje y la profundidad del árbol.\n",
    "\n",
    "Tasa de aprendizaje y número de árboles están inversamente relacionados. \n",
    "\n",
    "Se recomienda que la profundidad de los árboles sea pequeña. Valores entre 2 y 5 serían ideales.\n",
    "\n",
    "Por tanto, vamos a fijar la profundidad a 3 e iremos iterando para encontrar el mejor juego de parámetros libres."
   ]
  },
  {
   "cell_type": "code",
   "execution_count": 197,
   "metadata": {},
   "outputs": [
    {
     "name": "stdout",
     "output_type": "stream",
     "text": [
      "best mean cross-validation score: 0.978\n",
      "best parameters: {'learning_rate': 0.05, 'n_estimators': 2000}\n"
     ]
    }
   ],
   "source": [
    "from sklearn.model_selection import GridSearchCV\n",
    "from sklearn.ensemble import GradientBoostingRegressor\n",
    "\n",
    "Niterations = [500,1000,1500,2000, 2500, 3000]\n",
    "learningRate = [0.1,0.05, 0.01]\n",
    "# mantenemos max_depth estático: max_depth=3\n",
    "\n",
    "param_grid = {'n_estimators': Niterations,'learning_rate':learningRate }\n",
    "grid = GridSearchCV(GradientBoostingRegressor(random_state=0, max_depth=3), param_grid=param_grid, cv = 5)\n",
    "grid.fit(X_train, y_train)\n",
    "print(\"best mean cross-validation score: {:.3f}\".format(grid.best_score_))\n",
    "print(\"best parameters: {}\".format(grid.best_params_))"
   ]
  },
  {
   "cell_type": "markdown",
   "metadata": {},
   "source": [
    "El mejor score de 0.978 lo hemos obtenido para una tasa de aprendizaje del 0.05 y con 2500 iteraciones.     \n",
    "Graficando el resultado obtenido:"
   ]
  },
  {
   "cell_type": "code",
   "execution_count": 198,
   "metadata": {
    "scrolled": true
   },
   "outputs": [
    {
     "data": {
      "image/png": "[encoded data removed]",
      "text/plain": [
       "<Figure size 432x288 with 1 Axes>"
      ]
     },
     "metadata": {
      "needs_background": "light"
     },
     "output_type": "display_data"
    }
   ],
   "source": [
    "bt = GradientBoostingRegressor(random_state=0, max_depth=3,learning_rate= 0.05, n_estimators= 2500)\n",
    "bt.fit(X_train,y_train)\n",
    "\n",
    "error = 1-grid.cv_results_['mean_test_score'].reshape(len(learningRate),len(Niterations))\n",
    "colors = ['r','b','g','k','m']\n",
    "for i,lr in enumerate(learningRate):    \n",
    "    plt.plot(Niterations,error[i,:],colors[i] + '--o',label='lr = %g'%lr)\n",
    "\n",
    "plt.legend()\n",
    "plt.xlabel('# iteraciones')\n",
    "plt.ylabel('5-fold CV Error')\n",
    "plt.title('train: %0.3f\\ntest:  %0.3f'%(bt.score(X_train,y_train),bt.score(X_test,y_test)))\n",
    "plt.grid()\n",
    "plt.show()"
   ]
  },
  {
   "cell_type": "markdown",
   "metadata": {},
   "source": [
    "Es interesante ver el comportamiento de lr=0.01. Este sería el comportamiento ideal de la tasa de aprendizaje. Podríamos pensar, y así parece, <u> que la asíndota que limita el error de la curva </u>se obtiene para un valor muy superior a 3.000 iteraciones, y vernos tentados en aumentar a un número por encima de este valor, pero <u>esta decisión complicaría el modelo en tiempo de computación</u>.   \n",
    "\n",
    "Un lr= 0.1 converge con el lr=0.05 en 1.500 iteraciones, siendo este el mínimo de la curva. A partir de allí, la tasa de aprendizaje se incrementa.\n",
    "\n",
    "Es por ello, que hemos **fijado el lr a 0.05**, manteniéndose el error estable a partir de las 2.000 iteraciones. Lo que nos ofrece una modelo más robusto."
   ]
  },
  {
   "cell_type": "code",
   "execution_count": 199,
   "metadata": {},
   "outputs": [
    {
     "data": {
      "image/png": "[encoded data removed]",
      "text/plain": [
       "<Figure size 432x288 with 1 Axes>"
      ]
     },
     "metadata": {
      "needs_background": "light"
     },
     "output_type": "display_data"
    },
    {
     "name": "stdout",
     "output_type": "stream",
     "text": [
      "RMSE Boosted Tree (test) : 554\n",
      "R2:  0.9808\n"
     ]
    }
   ],
   "source": [
    "y_predict = bt.predict(X_test)\n",
    "y_error = np.array(y_test)\n",
    "y_error = y_test - y_predict\n",
    "\n",
    "RMSE = np.round(np.sqrt(np.mean(np.power(y_test -y_predict,2))),2)\n",
    "R2 = round(r2_score(y_test, y_predict),4)\n",
    "\n",
    "plt.scatter(y_test, y_error)\n",
    "plt.axhline(y=RMSE, color='r', linestyle=':')\n",
    "plt.axhline(y=0, color='r', linestyle='--')\n",
    "plt.axhline(y=(-1)*RMSE, color='r', linestyle=':')\n",
    "plt.title('Error Evolution')\n",
    "plt.show()\n",
    "\n",
    "print('RMSE Boosted Tree (test) : %0.3g' % RMSE)\n",
    "print ('R2: ', R2)"
   ]
  },
  {
   "cell_type": "markdown",
   "metadata": {},
   "source": [
    "Como podemos observar, obtenemos un buen resultado fijando el modelo a los parámetros encontrados anteriormente."
   ]
  },
  {
   "cell_type": "markdown",
   "metadata": {},
   "source": [
    "## Regresión mediante Support Vector Regression."
   ]
  },
  {
   "cell_type": "markdown",
   "metadata": {},
   "source": [
    "### SVR Lineal"
   ]
  },
  {
   "cell_type": "markdown",
   "metadata": {},
   "source": [
    "Vamos a utlizar un kernel lineal para comprobar su funcionamiento. \n",
    "Los parámetros libres del SVR para regresión, son: **C  y epsilon**.    \n",
    "Con C penalizamos los errores, y con Épsilon vamos a controlar el margen de error permitido. Este último parámetro, Épsilon, está relacionado con la sensibilidad que queramos permitir al modelo.    \n",
    "Viendo que el mejor RMSE conseguido hasta ahora está en algo menos de 600, tomaremos este valor como referencia."
   ]
  },
  {
   "cell_type": "code",
   "execution_count": 200,
   "metadata": {},
   "outputs": [
    {
     "name": "stdout",
     "output_type": "stream",
     "text": [
      "Fitting 10 folds for each of 30 candidates, totalling 300 fits\n"
     ]
    },
    {
     "name": "stderr",
     "output_type": "stream",
     "text": [
      "[Parallel(n_jobs=1)]: Using backend SequentialBackend with 1 concurrent workers.\n",
      "[Parallel(n_jobs=1)]: Done 300 out of 300 | elapsed: 16.0min finished\n"
     ]
    }
   ],
   "source": [
    "from sklearn.svm import LinearSVR\n",
    "import pickle\n",
    "\n",
    "vectorC = np.logspace(-2, 2, 10)\n",
    "vectorE = [800, 1000, 1500]\n",
    "\n",
    "param_grid = {'C': vectorC, 'epsilon':vectorE}\n",
    "\n",
    "grid = GridSearchCV(LinearSVR(epsilon=0), param_grid=param_grid, cv = 10, verbose=1)\n",
    "grid.fit(X_train, y_train)\n",
    "\n",
    "# Persistence layer\n",
    "filename = 'LinearSVRmodel'\n",
    "outfile = open(filename,'wb')\n",
    "pickle.dump(grid,outfile)\n",
    "outfile.close()"
   ]
  },
  {
   "cell_type": "code",
   "execution_count": 201,
   "metadata": {},
   "outputs": [
    {
     "name": "stdout",
     "output_type": "stream",
     "text": [
      "best mean cross-validation score: 0.845\n",
      "best parameters: {'C': 0.5994842503189409, 'epsilon': 800}\n"
     ]
    },
    {
     "data": {
      "image/png": "[encoded data removed]",
      "text/plain": [
       "<Figure size 720x432 with 2 Axes>"
      ]
     },
     "metadata": {
      "needs_background": "light"
     },
     "output_type": "display_data"
    }
   ],
   "source": [
    "print(\"best mean cross-validation score: {:.3f}\".format(grid.best_score_))\n",
    "print(\"best parameters: {}\".format(grid.best_params_))\n",
    "\n",
    "# Mostramos prestaciones en CV\n",
    "scores = grid.cv_results_['mean_test_score'].reshape(len(vectorC),len(vectorE))\n",
    "\n",
    "plt.figure(figsize=(10,6))\n",
    "plt.imshow(scores, interpolation='nearest', vmin= 0.6, vmax=0.9)\n",
    "plt.xlabel('log(epsilon)')\n",
    "plt.ylabel('log(C)')\n",
    "plt.colorbar()\n",
    "plt.xticks(np.arange(len(vectorE)), np.log10(vectorE), rotation=90)\n",
    "plt.yticks(np.arange(len(vectorC)), np.log10(vectorC))\n",
    "plt.title('10-fold accuracy')\n",
    "plt.show()"
   ]
  },
  {
   "cell_type": "code",
   "execution_count": 202,
   "metadata": {},
   "outputs": [
    {
     "name": "stdout",
     "output_type": "stream",
     "text": [
      "R2 Train:  0.8436405095988923\n",
      "R2 Test:  0.9001079866910573\n"
     ]
    }
   ],
   "source": [
    "Best_C = grid.best_params_['C']\n",
    "Best_Epsilon = grid.best_params_['epsilon']\n",
    "\n",
    "SVRlineal= LinearSVR( C=Best_C, epsilon=Best_Epsilon).fit(X_train, y_train)\n",
    "\n",
    "print(\"R2 Train: \",SVRlineal.score(X_train,y_train))\n",
    "print(\"R2 Test: \",SVRlineal.score(X_test,y_test))"
   ]
  },
  {
   "cell_type": "markdown",
   "metadata": {},
   "source": [
    "Best Lineal SVR Kernel Results: C=6; epsilon= 1000; R2 Train:  0.8269;  R2 Test: 0.8756"
   ]
  },
  {
   "cell_type": "code",
   "execution_count": 203,
   "metadata": {},
   "outputs": [
    {
     "data": {
      "image/png": "[encoded data removed]",
      "text/plain": [
       "<Figure size 432x288 with 1 Axes>"
      ]
     },
     "metadata": {
      "needs_background": "light"
     },
     "output_type": "display_data"
    },
    {
     "name": "stdout",
     "output_type": "stream",
     "text": [
      "RMSE Boosted Tree (test) : 1.26e+03\n",
      "R2:  0.9001\n"
     ]
    }
   ],
   "source": [
    "y_predict = SVRlineal.predict(X_test)\n",
    "y_error = np.array(y_test)\n",
    "y_error = y_test - y_predict\n",
    "\n",
    "RMSE = np.round(np.sqrt(np.mean(np.power(y_test -y_predict,2))),2)\n",
    "R2 = round(r2_score(y_test, y_predict),4)\n",
    "\n",
    "plt.scatter(y_test, y_error)\n",
    "plt.axhline(y=RMSE, color='r', linestyle=':')\n",
    "plt.axhline(y=0, color='r', linestyle='--')\n",
    "plt.axhline(y=(-1)*RMSE, color='r', linestyle=':')\n",
    "plt.title('Error Evolution')\n",
    "plt.show()\n",
    "\n",
    "print('RMSE Boosted Tree (test) : %0.3g' % RMSE)\n",
    "print ('R2: ', R2)"
   ]
  },
  {
   "cell_type": "markdown",
   "metadata": {},
   "source": [
    "Es cusioso que en este modelo estemos obteniendo mejores valores de R<sup>2</sup> en test que en train. En todo caso, el RMSE obtenido se dispara con respecto las anteriores aproximaciones. Se ha probado aumentando con diferentes valores de Epsilon, y se se ha visto que el valor máximo se optiene para Epsilon=1000. Forzando a un valor inferior, no se consigue correguir la desigualdad de R<sup>2</sup> entre train y test.\n",
    "\n",
    "Observando en la gráfica como evoluciona el error, vemos como para valores más altos de 10.000 $, éste tiende a aumentar positivamente en exceso."
   ]
  },
  {
   "cell_type": "markdown",
   "metadata": {},
   "source": [
    "### SVR Polynomial kernel"
   ]
  },
  {
   "cell_type": "markdown",
   "metadata": {},
   "source": [
    "Se ha comprobado que un kernel lineal no ofrece unos resultados aceptables. Esto puede ser debido a que este tipo de kernel es bastante rígido. \n",
    "Un modelo polinómico permite una mejor adaptación a las variaciones. \n",
    "*(Tarda lo suyo ...)*\n",
    "\n",
    "* Con verbose=2 se puede ver como en mi máquina tarda 1 mín. por cada iteración con gamma= auto. *\n",
    "* Time = NumC x NumD x cv x 1 min *\n",
    "\n",
    "\n",
    "- Primera ejecución: gamma fijado a auto. Barremos el parámetro de penalización del error C y el grado del polinomio\n",
    "    - vectorC = np.logspace(-2, 3, 5)\n",
    "    - vectorD = [1,2,3]\n",
    "    - Results: C=100, degree=1; R2 Train:  0.8178; R2 Test:  0.8589\n",
    "- Segunda ejecución: Una vez fijado C y degree, barremos para gamma.\n",
    "    - vectorD = 1\n",
    "    - vectorC = 100\n",
    "    - vectorG = np.logspace(-2, 2, 5)\n",
    "    - Results: 'C': 100, 'degree': 1, 'gamma': 100.0; R2 Train:  0.8178; R2 Test:  0.8589"
   ]
  },
  {
   "cell_type": "code",
   "execution_count": null,
   "metadata": {},
   "outputs": [
    {
     "name": "stdout",
     "output_type": "stream",
     "text": [
      "Fitting 5 folds for each of 5 candidates, totalling 25 fits\n"
     ]
    },
    {
     "name": "stderr",
     "output_type": "stream",
     "text": [
      "[Parallel(n_jobs=-1)]: Using backend LokyBackend with 4 concurrent workers.\n"
     ]
    }
   ],
   "source": [
    "from sklearn.svm import SVR\n",
    "from sklearn.model_selection import GridSearchCV\n",
    "import pickle\n",
    "\n",
    "#vectorC = np.logspace(-2, 2, 5)\n",
    "vectorD = [1]\n",
    "vectorC = [100]\n",
    "vectorG = np.logspace(-2, 2, 5)\n",
    "#vectorD = [3]\n",
    "\n",
    "param_grid = {'C': vectorC, 'degree':vectorD, 'gamma': vectorG}\n",
    "\n",
    "grid = GridSearchCV(SVR(kernel= 'poly', epsilon=0), param_grid=param_grid, cv = 5, n_jobs=2, verbose=2)\n",
    "\n",
    "grid.fit(X_train, y_train)\n",
    "\n",
    "# Persistence layer\n",
    "filename = 'SVR_poly'\n",
    "outfile = open(filename,'wb')\n",
    "pickle.dump(grid,outfile)\n",
    "outfile.close()"
   ]
  },
  {
   "cell_type": "markdown",
   "metadata": {},
   "source": [
    "Best Value Selected:\n",
    "\n",
    "GridSearchCV(cv=5, error_score='raise-deprecating',\n",
    "       estimator=SVR(C=1.0, cache_size=200, coef0=0.0, degree=3, epsilon=0,\n",
    "  gamma='auto_deprecated', kernel='poly', max_iter=-1, shrinking=True,\n",
    "  tol=0.001, verbose=False)"
   ]
  },
  {
   "cell_type": "code",
   "execution_count": 248,
   "metadata": {},
   "outputs": [
    {
     "name": "stdout",
     "output_type": "stream",
     "text": [
      "best mean cross-validation score: 0.819\n",
      "best parameters: {'C': 100, 'degree': 1, 'gamma': 100.0}\n"
     ]
    },
    {
     "data": {
      "image/png": "[encoded data removed]",
      "text/plain": [
       "<Figure size 720x432 with 2 Axes>"
      ]
     },
     "metadata": {
      "needs_background": "light"
     },
     "output_type": "display_data"
    }
   ],
   "source": [
    "print(\"best mean cross-validation score: {:.3f}\".format(grid.best_score_))\n",
    "print(\"best parameters: {}\".format(grid.best_params_))\n",
    "\n",
    "# Mostramos prestaciones en CV\n",
    "scores = grid.cv_results_['mean_test_score'].reshape(len(vectorC),len(vectorG))\n",
    "\n",
    "plt.figure(figsize=(10,6))\n",
    "plt.imshow(scores, interpolation='nearest', vmin= 0.6, vmax=0.9)\n",
    "plt.xlabel('log(gamma)')\n",
    "plt.ylabel('log(C)')\n",
    "plt.colorbar()\n",
    "plt.xticks(np.arange(len(vectorG)), np.log10(vectorG), rotation=90)\n",
    "plt.yticks(np.arange(len(vectorC)), np.log10(vectorC))\n",
    "plt.title('5-fold accuracy')\n",
    "plt.show()"
   ]
  },
  {
   "cell_type": "code",
   "execution_count": 249,
   "metadata": {},
   "outputs": [
    {
     "name": "stdout",
     "output_type": "stream",
     "text": [
      "R2 Train:  0.8178206784684994\n",
      "R2 Test:  0.8589803099707038\n"
     ]
    }
   ],
   "source": [
    "Best_C = grid.best_params_['C']\n",
    "Best_Degree = grid.best_params_['degree']\n",
    "\n",
    "SVR_poly= SVR(kernel='poly', C= Best_C, degree=Best_Degree).fit(X_train, y_train)\n",
    "\n",
    "print(\"R2 Train: \",SVR_poly.score(X_train,y_train))\n",
    "print(\"R2 Test: \",SVR_poly.score(X_test,y_test))"
   ]
  },
  {
   "cell_type": "code",
   "execution_count": 250,
   "metadata": {},
   "outputs": [
    {
     "data": {
      "image/png": "[encoded data removed]",
      "text/plain": [
       "<Figure size 432x288 with 1 Axes>"
      ]
     },
     "metadata": {
      "needs_background": "light"
     },
     "output_type": "display_data"
    },
    {
     "name": "stdout",
     "output_type": "stream",
     "text": [
      "RMSE Boosted Tree (test) : 1.5e+03\n",
      "R2:  0.859\n"
     ]
    }
   ],
   "source": [
    "y_predict = SVR_poly.predict(X_test)\n",
    "y_error = np.array(y_test)\n",
    "y_error = y_test - y_predict\n",
    "\n",
    "RMSE = np.round(np.sqrt(np.mean(np.power(y_test -y_predict,2))),2)\n",
    "R2 = round(r2_score(y_test, y_predict),4)\n",
    "\n",
    "plt.scatter(y_test, y_error)\n",
    "plt.axhline(y=RMSE, color='r', linestyle=':')\n",
    "plt.axhline(y=0, color='r', linestyle='--')\n",
    "plt.axhline(y=(-1)*RMSE, color='r', linestyle=':')\n",
    "plt.title('Error Evolution')\n",
    "plt.show()\n",
    "\n",
    "print('RMSE Boosted Tree (test) : %0.3g' % RMSE)\n",
    "print ('R2: ', R2)"
   ]
  },
  {
   "cell_type": "markdown",
   "metadata": {},
   "source": [
    "Tal y como nos pasaba en el SVR lineal, el error se mantiene más o menos concentrado para valores por debajo de 7.500 $. A partir de aquí, el comportamiento del error cometido por el modelo es a evolucionar positivamente haciendo que el RMSE crezca en demasía."
   ]
  },
  {
   "cell_type": "markdown",
   "metadata": {},
   "source": [
    "# Conclusiones"
   ]
  },
  {
   "cell_type": "markdown",
   "metadata": {},
   "source": [
    "A continuación se expone una tabla con las métricas por modelo encontradas.  \n",
    "\n",
    "\n",
    "| Modelo |R <sup>2</sup> | RMSE |\n",
    "| ------ | --- | --- |\n",
    "| Regresión Lineal | 0.90 | 1.27 k |\n",
    "| Regresión Lineal 2 var. | 0.86 | 1.51 k |\n",
    "| árbol de decisión | 0.98 | 621 |\n",
    "| Boosted Tree | 0.98 | 554 |\n",
    "| SVR lineal | 0.90 | 1.26 k |\n",
    "| SVR Polynomial |  0.86 | 1.5 k |"
   ]
  },
  {
   "cell_type": "markdown",
   "metadata": {},
   "source": [
    "Los modelos basados en árboles de decisión son los que mejor métrica nos ofrecen, por encima de los basados en regresión lineal o polinomial.   \n",
    "De los dos modelos probados, **Boosted Tree** nos ofrece un modelo con un error medio más bajo, aunque es de notar que la simplicidad del **árbol de decisión** nos ofrezca unas métricas tan buenas.\n",
    "\n",
    "Visto el comportamiento de la evolución del error en los modelos SVR, se podría realizar un filtraje para entrenar estos modelos con datos hasta 7.500 $ y ver si podemos mejorar sus prestaciones."
   ]
  }
 ],
 "metadata": {
  "kernelspec": {
   "display_name": "Python 3",
   "language": "python",
   "name": "python3"
  },
  "language_info": {
   "codemirror_mode": {
    "name": "ipython",
    "version": 3
   },
   "file_extension": ".py",
   "mimetype": "text/x-python",
   "name": "python",
   "nbconvert_exporter": "python",
   "pygments_lexer": "ipython3",
   "version": "3.7.2"
  }
 },
 "nbformat": 4,
 "nbformat_minor": 2
}
