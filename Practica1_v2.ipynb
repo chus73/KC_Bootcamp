{
 "cells": [
  {
   "cell_type": "markdown",
   "metadata": {},
   "source": [
    "# Comparación entre diferentes algoritmos de Machine Learning. \n",
    "## Parte 1. Problema de Clasificación\n",
    "#### Autor:   Jesús González Leal <div align=\"right\">  Fecha: 14 de Diciembre del 2018 </div>"
   ]
  },
  {
   "cell_type": "markdown",
   "metadata": {},
   "source": [
    "Este conjunto de datos es una versión modificada del utilizado en el artículo [\"Scaling Up the Accuracy of Naive-Bayes Classifiers: a Decision-Tree Hybrid \"] (https://www.aaai.org/Papers/KDD/1996/KDD96-033.pdf), escrito por Ron Kohavi. \n",
    "\n",
    "Los datos originales se pueden encontrar en el [UC Irvine Machine Learning Repository] (https://archive.ics.uci.edu/ml/datasets/Census+Income) ."
   ]
  },
  {
   "cell_type": "markdown",
   "metadata": {},
   "source": [
    "El objetivo es predecir si los ingresos de una persona superan o no los 50.000$ (variable target **income** )\n",
    "- **age** : Edad\n",
    "- **workclass** : tipo de ocupación (Private, Self-emp-not-inc, Self-emp-inc, Federal-gov,\n",
    "Local-gov, State-gov, Without-pay, Never-worked)\n",
    "- **education_level** : Nivel educativo (Bachelors, Some-college, 11th, HS-grad,\n",
    "Prof-school, Assoc-acdm, Assoc-voc, 9th, 7th-8th, 12th, Masters, 1st-4th, 10th,\n",
    "Doctorate, 5th-6th, Preschool)\n",
    "- **education-num** : Número de años de educación completados.\n",
    "- **marital-status** : estado civil (Married-civ-spouse, Divorced, Never-married,\n",
    "Separated, Widowed, Married-spouse-absent, Married-AF-spouse)\n",
    "- **occupation** : ocupación (Tech-support, Craft-repair, Other-service, Sales,\n",
    "Exec-managerial, Prof-specialty, Handlers-cleaners, Machine-op-inspct,\n",
    "Adm-clerical, Farming-fishing, Transport-moving, Priv-house-serv, Protective-serv,\n",
    "Armed-Forces)\n",
    "- **relationship** : familia (Wife, Own-child, Husband, Not-in-family, Other-relative,\n",
    "Unmarried)\n",
    "- **race** : raza (White, Asian-Pac-Islander, Amer-Indian-Eskimo, Other, Black)\n",
    "- **sex** : Género (Female, Male)\n",
    "- **capital-gain** : Ganancia de capitales\n",
    "- **capital-loss** : Pérdida de capitales\n",
    "- **hours-per-week** : Promedio de horas trabajadas por semana\n",
    "- **native-country** : País de origen (United-States, Cambodia, England, Puerto-Rico,\n",
    "Canada, Germany, Outlying-US(Guam-USVI-etc), India, Japan, Greece, South,\n",
    "China, Cuba, Iran, Honduras, Philippines, Italy, Poland, Jamaica, Vietnam, Mexico,\n",
    "Portugal, Ireland, France, Dominican-Republic, Laos, Ecuador, Taiwan, Haiti,\n",
    "Columbia, Hungary, Guatemala, Nicaragua, Scotland, Thailand, Yugoslavia,\n",
    "El-Salvador, Trinidad&Tobago, Peru, Hong, Holand-Netherlands)\n",
    "\n",
    "En total, el Dataset está compuesto por 13 variables.\n",
    "\n",
    "-----------------------"
   ]
  },
  {
   "cell_type": "markdown",
   "metadata": {},
   "source": [
    "# Carga  y exploración del dataset"
   ]
  },
  {
   "cell_type": "code",
   "execution_count": 1,
   "metadata": {},
   "outputs": [],
   "source": [
    "# Carga de las librerías necesarias\n",
    "import pandas as pd\n",
    "import numpy as np\n",
    "import matplotlib.pyplot as plt\n",
    "%matplotlib inline\n",
    "\n",
    "from matplotlib.colors import ListedColormap\n",
    "cm = plt.cm.RdBu\n",
    "cm_bright = ListedColormap(['#FF0000', '#0000FF'])\n",
    "\n",
    "import warnings\n",
    "warnings.filterwarnings('ignore')"
   ]
  },
  {
   "cell_type": "code",
   "execution_count": 2,
   "metadata": {},
   "outputs": [
    {
     "data": {
      "text/html": [
       "<div>\n",
       "<style scoped>\n",
       "    .dataframe tbody tr th:only-of-type {\n",
       "        vertical-align: middle;\n",
       "    }\n",
       "\n",
       "    .dataframe tbody tr th {\n",
       "        vertical-align: top;\n",
       "    }\n",
       "\n",
       "    .dataframe thead th {\n",
       "        text-align: right;\n",
       "    }\n",
       "</style>\n",
       "<table border=\"1\" class=\"dataframe\">\n",
       "  <thead>\n",
       "    <tr style=\"text-align: right;\">\n",
       "      <th></th>\n",
       "      <th>age</th>\n",
       "      <th>workclass</th>\n",
       "      <th>education_level</th>\n",
       "      <th>education-num</th>\n",
       "      <th>marital-status</th>\n",
       "      <th>occupation</th>\n",
       "      <th>relationship</th>\n",
       "      <th>race</th>\n",
       "      <th>sex</th>\n",
       "      <th>capital-gain</th>\n",
       "      <th>capital-loss</th>\n",
       "      <th>hours-per-week</th>\n",
       "      <th>native-country</th>\n",
       "      <th>income</th>\n",
       "    </tr>\n",
       "  </thead>\n",
       "  <tbody>\n",
       "    <tr>\n",
       "      <th>0</th>\n",
       "      <td>39</td>\n",
       "      <td>State-gov</td>\n",
       "      <td>Bachelors</td>\n",
       "      <td>13.0</td>\n",
       "      <td>Never-married</td>\n",
       "      <td>Adm-clerical</td>\n",
       "      <td>Not-in-family</td>\n",
       "      <td>White</td>\n",
       "      <td>Male</td>\n",
       "      <td>2174.0</td>\n",
       "      <td>0.0</td>\n",
       "      <td>40.0</td>\n",
       "      <td>United-States</td>\n",
       "      <td>&lt;=50K</td>\n",
       "    </tr>\n",
       "    <tr>\n",
       "      <th>1</th>\n",
       "      <td>50</td>\n",
       "      <td>Self-emp-not-inc</td>\n",
       "      <td>Bachelors</td>\n",
       "      <td>13.0</td>\n",
       "      <td>Married-civ-spouse</td>\n",
       "      <td>Exec-managerial</td>\n",
       "      <td>Husband</td>\n",
       "      <td>White</td>\n",
       "      <td>Male</td>\n",
       "      <td>0.0</td>\n",
       "      <td>0.0</td>\n",
       "      <td>13.0</td>\n",
       "      <td>United-States</td>\n",
       "      <td>&lt;=50K</td>\n",
       "    </tr>\n",
       "    <tr>\n",
       "      <th>2</th>\n",
       "      <td>38</td>\n",
       "      <td>Private</td>\n",
       "      <td>HS-grad</td>\n",
       "      <td>9.0</td>\n",
       "      <td>Divorced</td>\n",
       "      <td>Handlers-cleaners</td>\n",
       "      <td>Not-in-family</td>\n",
       "      <td>White</td>\n",
       "      <td>Male</td>\n",
       "      <td>0.0</td>\n",
       "      <td>0.0</td>\n",
       "      <td>40.0</td>\n",
       "      <td>United-States</td>\n",
       "      <td>&lt;=50K</td>\n",
       "    </tr>\n",
       "    <tr>\n",
       "      <th>3</th>\n",
       "      <td>53</td>\n",
       "      <td>Private</td>\n",
       "      <td>11th</td>\n",
       "      <td>7.0</td>\n",
       "      <td>Married-civ-spouse</td>\n",
       "      <td>Handlers-cleaners</td>\n",
       "      <td>Husband</td>\n",
       "      <td>Black</td>\n",
       "      <td>Male</td>\n",
       "      <td>0.0</td>\n",
       "      <td>0.0</td>\n",
       "      <td>40.0</td>\n",
       "      <td>United-States</td>\n",
       "      <td>&lt;=50K</td>\n",
       "    </tr>\n",
       "    <tr>\n",
       "      <th>4</th>\n",
       "      <td>28</td>\n",
       "      <td>Private</td>\n",
       "      <td>Bachelors</td>\n",
       "      <td>13.0</td>\n",
       "      <td>Married-civ-spouse</td>\n",
       "      <td>Prof-specialty</td>\n",
       "      <td>Wife</td>\n",
       "      <td>Black</td>\n",
       "      <td>Female</td>\n",
       "      <td>0.0</td>\n",
       "      <td>0.0</td>\n",
       "      <td>40.0</td>\n",
       "      <td>Cuba</td>\n",
       "      <td>&lt;=50K</td>\n",
       "    </tr>\n",
       "  </tbody>\n",
       "</table>\n",
       "</div>"
      ],
      "text/plain": [
       "   age          workclass education_level  education-num       marital-status  \\\n",
       "0   39          State-gov       Bachelors           13.0        Never-married   \n",
       "1   50   Self-emp-not-inc       Bachelors           13.0   Married-civ-spouse   \n",
       "2   38            Private         HS-grad            9.0             Divorced   \n",
       "3   53            Private            11th            7.0   Married-civ-spouse   \n",
       "4   28            Private       Bachelors           13.0   Married-civ-spouse   \n",
       "\n",
       "           occupation    relationship    race      sex  capital-gain  \\\n",
       "0        Adm-clerical   Not-in-family   White     Male        2174.0   \n",
       "1     Exec-managerial         Husband   White     Male           0.0   \n",
       "2   Handlers-cleaners   Not-in-family   White     Male           0.0   \n",
       "3   Handlers-cleaners         Husband   Black     Male           0.0   \n",
       "4      Prof-specialty            Wife   Black   Female           0.0   \n",
       "\n",
       "   capital-loss  hours-per-week  native-country income  \n",
       "0           0.0            40.0   United-States  <=50K  \n",
       "1           0.0            13.0   United-States  <=50K  \n",
       "2           0.0            40.0   United-States  <=50K  \n",
       "3           0.0            40.0   United-States  <=50K  \n",
       "4           0.0            40.0            Cuba  <=50K  "
      ]
     },
     "execution_count": 2,
     "metadata": {},
     "output_type": "execute_result"
    }
   ],
   "source": [
    "# Carga del dataset:\n",
    "data = pd.read_csv('../practica/census.csv', sep=',', decimal='.')\n",
    "data.head()"
   ]
  },
  {
   "cell_type": "markdown",
   "metadata": {},
   "source": [
    "Cambiamos algunos nombres de columnas que nos facilitará operar con ellas."
   ]
  },
  {
   "cell_type": "code",
   "execution_count": 3,
   "metadata": {},
   "outputs": [
    {
     "data": {
      "text/html": [
       "<div>\n",
       "<style scoped>\n",
       "    .dataframe tbody tr th:only-of-type {\n",
       "        vertical-align: middle;\n",
       "    }\n",
       "\n",
       "    .dataframe tbody tr th {\n",
       "        vertical-align: top;\n",
       "    }\n",
       "\n",
       "    .dataframe thead th {\n",
       "        text-align: right;\n",
       "    }\n",
       "</style>\n",
       "<table border=\"1\" class=\"dataframe\">\n",
       "  <thead>\n",
       "    <tr style=\"text-align: right;\">\n",
       "      <th></th>\n",
       "      <th>age</th>\n",
       "      <th>workclass</th>\n",
       "      <th>education_level</th>\n",
       "      <th>education_num</th>\n",
       "      <th>marital_status</th>\n",
       "      <th>occupation</th>\n",
       "      <th>relationship</th>\n",
       "      <th>race</th>\n",
       "      <th>sex</th>\n",
       "      <th>capital_gain</th>\n",
       "      <th>capital_loss</th>\n",
       "      <th>hours_per_week</th>\n",
       "      <th>native_country</th>\n",
       "      <th>income</th>\n",
       "    </tr>\n",
       "  </thead>\n",
       "  <tbody>\n",
       "    <tr>\n",
       "      <th>0</th>\n",
       "      <td>39</td>\n",
       "      <td>State-gov</td>\n",
       "      <td>Bachelors</td>\n",
       "      <td>13.0</td>\n",
       "      <td>Never-married</td>\n",
       "      <td>Adm-clerical</td>\n",
       "      <td>Not-in-family</td>\n",
       "      <td>White</td>\n",
       "      <td>Male</td>\n",
       "      <td>2174.0</td>\n",
       "      <td>0.0</td>\n",
       "      <td>40.0</td>\n",
       "      <td>United-States</td>\n",
       "      <td>&lt;=50K</td>\n",
       "    </tr>\n",
       "    <tr>\n",
       "      <th>1</th>\n",
       "      <td>50</td>\n",
       "      <td>Self-emp-not-inc</td>\n",
       "      <td>Bachelors</td>\n",
       "      <td>13.0</td>\n",
       "      <td>Married-civ-spouse</td>\n",
       "      <td>Exec-managerial</td>\n",
       "      <td>Husband</td>\n",
       "      <td>White</td>\n",
       "      <td>Male</td>\n",
       "      <td>0.0</td>\n",
       "      <td>0.0</td>\n",
       "      <td>13.0</td>\n",
       "      <td>United-States</td>\n",
       "      <td>&lt;=50K</td>\n",
       "    </tr>\n",
       "    <tr>\n",
       "      <th>2</th>\n",
       "      <td>38</td>\n",
       "      <td>Private</td>\n",
       "      <td>HS-grad</td>\n",
       "      <td>9.0</td>\n",
       "      <td>Divorced</td>\n",
       "      <td>Handlers-cleaners</td>\n",
       "      <td>Not-in-family</td>\n",
       "      <td>White</td>\n",
       "      <td>Male</td>\n",
       "      <td>0.0</td>\n",
       "      <td>0.0</td>\n",
       "      <td>40.0</td>\n",
       "      <td>United-States</td>\n",
       "      <td>&lt;=50K</td>\n",
       "    </tr>\n",
       "    <tr>\n",
       "      <th>3</th>\n",
       "      <td>53</td>\n",
       "      <td>Private</td>\n",
       "      <td>11th</td>\n",
       "      <td>7.0</td>\n",
       "      <td>Married-civ-spouse</td>\n",
       "      <td>Handlers-cleaners</td>\n",
       "      <td>Husband</td>\n",
       "      <td>Black</td>\n",
       "      <td>Male</td>\n",
       "      <td>0.0</td>\n",
       "      <td>0.0</td>\n",
       "      <td>40.0</td>\n",
       "      <td>United-States</td>\n",
       "      <td>&lt;=50K</td>\n",
       "    </tr>\n",
       "    <tr>\n",
       "      <th>4</th>\n",
       "      <td>28</td>\n",
       "      <td>Private</td>\n",
       "      <td>Bachelors</td>\n",
       "      <td>13.0</td>\n",
       "      <td>Married-civ-spouse</td>\n",
       "      <td>Prof-specialty</td>\n",
       "      <td>Wife</td>\n",
       "      <td>Black</td>\n",
       "      <td>Female</td>\n",
       "      <td>0.0</td>\n",
       "      <td>0.0</td>\n",
       "      <td>40.0</td>\n",
       "      <td>Cuba</td>\n",
       "      <td>&lt;=50K</td>\n",
       "    </tr>\n",
       "  </tbody>\n",
       "</table>\n",
       "</div>"
      ],
      "text/plain": [
       "   age          workclass education_level  education_num       marital_status  \\\n",
       "0   39          State-gov       Bachelors           13.0        Never-married   \n",
       "1   50   Self-emp-not-inc       Bachelors           13.0   Married-civ-spouse   \n",
       "2   38            Private         HS-grad            9.0             Divorced   \n",
       "3   53            Private            11th            7.0   Married-civ-spouse   \n",
       "4   28            Private       Bachelors           13.0   Married-civ-spouse   \n",
       "\n",
       "           occupation    relationship    race      sex  capital_gain  \\\n",
       "0        Adm-clerical   Not-in-family   White     Male        2174.0   \n",
       "1     Exec-managerial         Husband   White     Male           0.0   \n",
       "2   Handlers-cleaners   Not-in-family   White     Male           0.0   \n",
       "3   Handlers-cleaners         Husband   Black     Male           0.0   \n",
       "4      Prof-specialty            Wife   Black   Female           0.0   \n",
       "\n",
       "   capital_loss  hours_per_week  native_country income  \n",
       "0           0.0            40.0   United-States  <=50K  \n",
       "1           0.0            13.0   United-States  <=50K  \n",
       "2           0.0            40.0   United-States  <=50K  \n",
       "3           0.0            40.0   United-States  <=50K  \n",
       "4           0.0            40.0            Cuba  <=50K  "
      ]
     },
     "execution_count": 3,
     "metadata": {},
     "output_type": "execute_result"
    }
   ],
   "source": [
    "data = data.rename(columns={'education-num': 'education_num', 'marital-status':'marital_status', 'capital-gain':'capital_gain',\n",
    "                    'capital-loss':'capital_loss', 'native-country': 'native_country', 'hours-per-week':'hours_per_week'})\n",
    "data.head(5)"
   ]
  },
  {
   "cell_type": "code",
   "execution_count": 4,
   "metadata": {},
   "outputs": [
    {
     "data": {
      "text/plain": [
       "age                  int64\n",
       "workclass           object\n",
       "education_level     object\n",
       "education_num      float64\n",
       "marital_status      object\n",
       "occupation          object\n",
       "relationship        object\n",
       "race                object\n",
       "sex                 object\n",
       "capital_gain       float64\n",
       "capital_loss       float64\n",
       "hours_per_week     float64\n",
       "native_country      object\n",
       "income              object\n",
       "dtype: object"
      ]
     },
     "execution_count": 4,
     "metadata": {},
     "output_type": "execute_result"
    }
   ],
   "source": [
    "# Visualizamos los tipos de datos.\n",
    "data.dtypes\n",
    "# Tenemos muchas de tipo object. "
   ]
  },
  {
   "cell_type": "code",
   "execution_count": 5,
   "metadata": {},
   "outputs": [
    {
     "data": {
      "text/plain": [
       "(45222, 14)"
      ]
     },
     "execution_count": 5,
     "metadata": {},
     "output_type": "execute_result"
    }
   ],
   "source": [
    "# Vamos a examinar las dimensiones de nuestro dataset\n",
    "data.shape"
   ]
  },
  {
   "cell_type": "markdown",
   "metadata": {},
   "source": [
    "Revisamos si tenemos observaciones duplicados"
   ]
  },
  {
   "cell_type": "code",
   "execution_count": 6,
   "metadata": {},
   "outputs": [
    {
     "data": {
      "text/plain": [
       "(45222, 14)"
      ]
     },
     "execution_count": 6,
     "metadata": {},
     "output_type": "execute_result"
    }
   ],
   "source": [
    "data.drop_duplicates()\n",
    "data.shape"
   ]
  },
  {
   "cell_type": "code",
   "execution_count": 7,
   "metadata": {},
   "outputs": [
    {
     "data": {
      "text/plain": [
       "(array([], dtype=int64), array([], dtype=int64))"
      ]
     },
     "execution_count": 7,
     "metadata": {},
     "output_type": "execute_result"
    }
   ],
   "source": [
    "# Miramos si hay valores nulos\n",
    "np.where(pd.isnull(data))"
   ]
  },
  {
   "cell_type": "markdown",
   "metadata": {},
   "source": [
    "# Preprocesamiento de las variables"
   ]
  },
  {
   "cell_type": "markdown",
   "metadata": {},
   "source": [
    "## Codificación de las variables categóricas\n",
    "\n",
    "Antes de entrar al detalle con el estudio de las variables, vamos a convertir las variables \n",
    "categóricas. El hacerlo antes del análisis exploratorio nos permite ver las estadísticas clásicas con todas las variables predictoras.\n",
    "\n",
    "Primeramente se hizo una codificación con labelEncoder, que asocia un entero a cada categoría. No obstante, <u>no es lo más conveniente, ya que no existe un orden específico</u> para las variables workclass, marital-status, occupation, relation-ship y native-country. \n",
    "\n",
    "Es por ello que la codificación de las variables categóricas se realiza con **One-hot encoder**, con una excepción. La variable **education-level** <u>tiene su propio orden de codificación implícito</u>. Es por ello que será codificada independientemente."
   ]
  },
  {
   "cell_type": "code",
   "execution_count": 8,
   "metadata": {},
   "outputs": [
    {
     "name": "stdout",
     "output_type": "stream",
     "text": [
      "Categorical labels:  Index(['workclass', 'education_level', 'marital_status', 'occupation',\n",
      "       'relationship', 'race', 'sex', 'native_country', 'income'],\n",
      "      dtype='object')\n"
     ]
    },
    {
     "name": "stderr",
     "output_type": "stream",
     "text": [
      "C:\\Users\\jesus.gonzalez\\AppData\\Local\\Continuum\\Anaconda3\\envs\\ML\\lib\\site-packages\\sklearn\\preprocessing\\_encoders.py:390: DeprecationWarning: The 'categorical_features' keyword is deprecated in version 0.20 and will be removed in 0.22. You can use the ColumnTransformer instead.\n",
      "  \"use the ColumnTransformer instead.\", DeprecationWarning)\n",
      "C:\\Users\\jesus.gonzalez\\AppData\\Local\\Continuum\\Anaconda3\\envs\\ML\\lib\\site-packages\\sklearn\\preprocessing\\_encoders.py:390: DeprecationWarning: The 'categorical_features' keyword is deprecated in version 0.20 and will be removed in 0.22. You can use the ColumnTransformer instead.\n",
      "  \"use the ColumnTransformer instead.\", DeprecationWarning)\n",
      "C:\\Users\\jesus.gonzalez\\AppData\\Local\\Continuum\\Anaconda3\\envs\\ML\\lib\\site-packages\\sklearn\\preprocessing\\_encoders.py:390: DeprecationWarning: The 'categorical_features' keyword is deprecated in version 0.20 and will be removed in 0.22. You can use the ColumnTransformer instead.\n",
      "  \"use the ColumnTransformer instead.\", DeprecationWarning)\n",
      "C:\\Users\\jesus.gonzalez\\AppData\\Local\\Continuum\\Anaconda3\\envs\\ML\\lib\\site-packages\\sklearn\\preprocessing\\_encoders.py:390: DeprecationWarning: The 'categorical_features' keyword is deprecated in version 0.20 and will be removed in 0.22. You can use the ColumnTransformer instead.\n",
      "  \"use the ColumnTransformer instead.\", DeprecationWarning)\n",
      "C:\\Users\\jesus.gonzalez\\AppData\\Local\\Continuum\\Anaconda3\\envs\\ML\\lib\\site-packages\\sklearn\\preprocessing\\_encoders.py:390: DeprecationWarning: The 'categorical_features' keyword is deprecated in version 0.20 and will be removed in 0.22. You can use the ColumnTransformer instead.\n",
      "  \"use the ColumnTransformer instead.\", DeprecationWarning)\n",
      "C:\\Users\\jesus.gonzalez\\AppData\\Local\\Continuum\\Anaconda3\\envs\\ML\\lib\\site-packages\\sklearn\\preprocessing\\_encoders.py:390: DeprecationWarning: The 'categorical_features' keyword is deprecated in version 0.20 and will be removed in 0.22. You can use the ColumnTransformer instead.\n",
      "  \"use the ColumnTransformer instead.\", DeprecationWarning)\n"
     ]
    },
    {
     "data": {
      "text/html": [
       "<div>\n",
       "<style scoped>\n",
       "    .dataframe tbody tr th:only-of-type {\n",
       "        vertical-align: middle;\n",
       "    }\n",
       "\n",
       "    .dataframe tbody tr th {\n",
       "        vertical-align: top;\n",
       "    }\n",
       "\n",
       "    .dataframe thead th {\n",
       "        text-align: right;\n",
       "    }\n",
       "</style>\n",
       "<table border=\"1\" class=\"dataframe\">\n",
       "  <thead>\n",
       "    <tr style=\"text-align: right;\">\n",
       "      <th></th>\n",
       "      <th>workclass</th>\n",
       "      <th>Without-pay</th>\n",
       "      <th>Federal-gov</th>\n",
       "      <th>Self-emp-inc</th>\n",
       "      <th>Private</th>\n",
       "      <th>State-gov</th>\n",
       "      <th>Self-emp-not-inc</th>\n",
       "      <th>Local-gov</th>\n",
       "      <th>marital_status</th>\n",
       "      <th>Divorced</th>\n",
       "      <th>...</th>\n",
       "      <th>Mexico</th>\n",
       "      <th>Honduras</th>\n",
       "      <th>France</th>\n",
       "      <th>Germany</th>\n",
       "      <th>Taiwan</th>\n",
       "      <th>Yugoslavia</th>\n",
       "      <th>Trinadad&amp;Tobago</th>\n",
       "      <th>Outlying-US(Guam-USVI-etc)</th>\n",
       "      <th>Peru</th>\n",
       "      <th>Nicaragua</th>\n",
       "    </tr>\n",
       "  </thead>\n",
       "  <tbody>\n",
       "    <tr>\n",
       "      <th>0</th>\n",
       "      <td>5</td>\n",
       "      <td>0.0</td>\n",
       "      <td>0.0</td>\n",
       "      <td>0.0</td>\n",
       "      <td>0.0</td>\n",
       "      <td>0.0</td>\n",
       "      <td>1.0</td>\n",
       "      <td>0.0</td>\n",
       "      <td>4</td>\n",
       "      <td>0.0</td>\n",
       "      <td>...</td>\n",
       "      <td>0.0</td>\n",
       "      <td>0.0</td>\n",
       "      <td>0.0</td>\n",
       "      <td>0.0</td>\n",
       "      <td>0.0</td>\n",
       "      <td>0.0</td>\n",
       "      <td>0.0</td>\n",
       "      <td>1.0</td>\n",
       "      <td>0.0</td>\n",
       "      <td>0.0</td>\n",
       "    </tr>\n",
       "    <tr>\n",
       "      <th>1</th>\n",
       "      <td>4</td>\n",
       "      <td>0.0</td>\n",
       "      <td>0.0</td>\n",
       "      <td>0.0</td>\n",
       "      <td>0.0</td>\n",
       "      <td>1.0</td>\n",
       "      <td>0.0</td>\n",
       "      <td>0.0</td>\n",
       "      <td>2</td>\n",
       "      <td>0.0</td>\n",
       "      <td>...</td>\n",
       "      <td>0.0</td>\n",
       "      <td>0.0</td>\n",
       "      <td>0.0</td>\n",
       "      <td>0.0</td>\n",
       "      <td>0.0</td>\n",
       "      <td>0.0</td>\n",
       "      <td>0.0</td>\n",
       "      <td>1.0</td>\n",
       "      <td>0.0</td>\n",
       "      <td>0.0</td>\n",
       "    </tr>\n",
       "  </tbody>\n",
       "</table>\n",
       "<p>2 rows × 86 columns</p>\n",
       "</div>"
      ],
      "text/plain": [
       "   workclass   Without-pay   Federal-gov   Self-emp-inc   Private   State-gov  \\\n",
       "0          5           0.0           0.0            0.0       0.0         0.0   \n",
       "1          4           0.0           0.0            0.0       0.0         1.0   \n",
       "\n",
       "    Self-emp-not-inc   Local-gov  marital_status   Divorced     ...      \\\n",
       "0                1.0         0.0               4        0.0     ...       \n",
       "1                0.0         0.0               2        0.0     ...       \n",
       "\n",
       "    Mexico   Honduras   France   Germany   Taiwan   Yugoslavia  \\\n",
       "0      0.0        0.0      0.0       0.0      0.0          0.0   \n",
       "1      0.0        0.0      0.0       0.0      0.0          0.0   \n",
       "\n",
       "    Trinadad&Tobago   Outlying-US(Guam-USVI-etc)   Peru   Nicaragua  \n",
       "0               0.0                          1.0    0.0         0.0  \n",
       "1               0.0                          1.0    0.0         0.0  \n",
       "\n",
       "[2 rows x 86 columns]"
      ]
     },
     "execution_count": 8,
     "metadata": {},
     "output_type": "execute_result"
    }
   ],
   "source": [
    "# One-hot Encoder. \n",
    "# We have created an encoding second dataset.\n",
    "import numpy as np\n",
    "from sklearn.preprocessing import LabelEncoder, OneHotEncoder\n",
    "\n",
    "le = LabelEncoder()\n",
    "enc = OneHotEncoder(categorical_features = [0])\n",
    "data2= pd.DataFrame() # Void df\n",
    "\n",
    "index=[] # Tiene la lista de las variables categóricas\n",
    "for i, d in enumerate(data.dtypes):\n",
    "    if d == 'object':\n",
    "        #print(i, d)\n",
    "        index.append(i)\n",
    "\n",
    "print('Categorical labels: ', data.columns[index])\n",
    "\n",
    "for item in index:\n",
    "    if data.columns[item] not in ['education_level', 'sex', 'income']: # No le aplicamos el ONE_HOT_ENCODER\n",
    "        name= data.columns[item].strip()\n",
    "        col_names= set(data[name])\n",
    "        #print(col_names)\n",
    "        \n",
    "         # Fisrt Step: Integer encode. \n",
    "        data2[data.columns[item]]= le.fit_transform(data[data.columns[item]])\n",
    "        \n",
    "        # Second Step: Binary encode\n",
    "        X= data2[name]\n",
    "        X = np.array(X)\n",
    "        X= X.reshape(len(X), -1)\n",
    "        enc.fit(X)\n",
    "        onehotlabels = enc.transform(X).toarray()\n",
    "        \n",
    "        # Third Step: Transfert to DataSet\n",
    "        i=0\n",
    "        for col in col_names:\n",
    "            loc=data2.shape[1]\n",
    "            #print(col)\n",
    "            data2.insert(loc, col, onehotlabels[:,i])\n",
    "            i+=1\n",
    "data2.head(2)"
   ]
  },
  {
   "cell_type": "markdown",
   "metadata": {},
   "source": [
    "Codificamos la variable **education_level** asignando un orden:\n",
    "\n",
    "     \n",
    "Preschool, 1st-4th, 5th-6th, 7th-8th, 9th, 10th, 11th, 12th, Bachelors, HS-grad, Masters, Doctorate, Prof-school, Assoc-acdm, Assoc-voc, Some-college\n"
   ]
  },
  {
   "cell_type": "code",
   "execution_count": 9,
   "metadata": {},
   "outputs": [
    {
     "data": {
      "text/plain": [
       "array([ 0,  1,  2,  3,  4,  5,  6,  7,  8,  9, 10, 11, 12, 13, 14, 15],\n",
       "      dtype=int64)"
      ]
     },
     "execution_count": 9,
     "metadata": {},
     "output_type": "execute_result"
    }
   ],
   "source": [
    "# Preparación de la codificación\n",
    "\n",
    "education= dict()\n",
    "lista = ['Preschool', '1st-4th', '5th-6th', '7th-8th', '9th', '10th', '11th', '12th', 'Bachelors', 'HS-grad', 'Masters', 'Doctorate', 'Prof-school', 'Assoc-acdm', 'Assoc-voc', 'Some-college']\n",
    "k=0\n",
    "for l in lista:\n",
    "    education[l]=k\n",
    "    k+=1\n",
    "#print(education)\n",
    "replace_map={'education_level':education}\n",
    "\n",
    "#labels= data['education_level'].astype('category').cat.categories.tolist()\n",
    "data2.insert(data2.shape[1], 'education_level', data['education_level'].str.strip())\n",
    "data2.replace(replace_map, inplace=True)\n",
    "np.unique(data2['education_level'])"
   ]
  },
  {
   "cell_type": "markdown",
   "metadata": {},
   "source": [
    "La variable sex es binaria. La codificamos como 1 hombre, 0 mujer."
   ]
  },
  {
   "cell_type": "code",
   "execution_count": 10,
   "metadata": {},
   "outputs": [
    {
     "name": "stdout",
     "output_type": "stream",
     "text": [
      "Valores de sex: [' Female' ' Male']\n"
     ]
    },
    {
     "data": {
      "text/plain": [
       "array([0, 1], dtype=int64)"
      ]
     },
     "execution_count": 10,
     "metadata": {},
     "output_type": "execute_result"
    }
   ],
   "source": [
    "# SEX Encoding\n",
    "\n",
    "print('Valores de sex: %s' % np.unique(data['sex']))\n",
    "replace_map={'sex':{' Female':0, ' Male':1}}\n",
    "data2.insert(data2.shape[1], 'sex', data['sex'])\n",
    "data2.replace(replace_map, inplace=True)\n",
    "np.unique(data2['sex'])"
   ]
  },
  {
   "cell_type": "markdown",
   "metadata": {},
   "source": [
    "Como último punto, se incorporan las columnas numéricas al dataset codificado y la variable de salida."
   ]
  },
  {
   "cell_type": "code",
   "execution_count": 11,
   "metadata": {},
   "outputs": [
    {
     "name": "stdout",
     "output_type": "stream",
     "text": [
      "Column added: age\n",
      "Column added: education_num\n",
      "Column added: capital_gain\n",
      "Column added: capital_loss\n",
      "Column added: hours_per_week\n"
     ]
    }
   ],
   "source": [
    "for item in data:\n",
    "    if (data[item].dtype == 'int64') or (data[item].dtype == 'float64'):\n",
    "        print('Column added: %s' %item)\n",
    "        data2.insert(data2.shape[1], item, data[item])\n"
   ]
  },
  {
   "cell_type": "code",
   "execution_count": 12,
   "metadata": {},
   "outputs": [
    {
     "name": "stdout",
     "output_type": "stream",
     "text": [
      "Valores de la variable de salida: ['<=50K' '>50K']\n"
     ]
    },
    {
     "data": {
      "text/plain": [
       "0    0\n",
       "1    0\n",
       "2    0\n",
       "3    0\n",
       "4    0\n",
       "5    0\n",
       "6    0\n",
       "7    1\n",
       "8    1\n",
       "9    1\n",
       "Name: income, dtype: int64"
      ]
     },
     "execution_count": 12,
     "metadata": {},
     "output_type": "execute_result"
    }
   ],
   "source": [
    "# Encoding the output class.\n",
    "\n",
    "print('Valores de la variable de salida: %s' % np.unique(data['income']))\n",
    "replace_map={'income':{'<=50K':0, '>50K':1}}\n",
    "data2.insert(data2.shape[1], 'income', data['income'])\n",
    "data2.replace(replace_map, inplace=True)\n",
    "data2['income'].head(10)"
   ]
  },
  {
   "cell_type": "code",
   "execution_count": 13,
   "metadata": {},
   "outputs": [
    {
     "name": "stdout",
     "output_type": "stream",
     "text": [
      "Comparamos el tamaño de los datasets: \n",
      "Dataset origen: (45222, 14)\n",
      "Dataset codificado: (45222, 94)\n"
     ]
    }
   ],
   "source": [
    "# Hemos pasado a una estructura con 96 columnas\n",
    "print('Comparamos el tamaño de los datasets: ')\n",
    "print('Dataset origen: %s' %(data.shape,))\n",
    "print('Dataset codificado: %s' %(data2.shape,))"
   ]
  },
  {
   "cell_type": "markdown",
   "metadata": {},
   "source": [
    "## Análisis Exploratorio"
   ]
  },
  {
   "cell_type": "markdown",
   "metadata": {},
   "source": [
    "Vamos a realizar un análisis exploratorio clásico para ver el comportamiento de las variables predictivas."
   ]
  },
  {
   "cell_type": "code",
   "execution_count": 14,
   "metadata": {},
   "outputs": [
    {
     "data": {
      "text/html": [
       "<div>\n",
       "<style scoped>\n",
       "    .dataframe tbody tr th:only-of-type {\n",
       "        vertical-align: middle;\n",
       "    }\n",
       "\n",
       "    .dataframe tbody tr th {\n",
       "        vertical-align: top;\n",
       "    }\n",
       "\n",
       "    .dataframe thead th {\n",
       "        text-align: right;\n",
       "    }\n",
       "</style>\n",
       "<table border=\"1\" class=\"dataframe\">\n",
       "  <thead>\n",
       "    <tr style=\"text-align: right;\">\n",
       "      <th></th>\n",
       "      <th>count</th>\n",
       "      <th>mean</th>\n",
       "      <th>std</th>\n",
       "      <th>min</th>\n",
       "      <th>25%</th>\n",
       "      <th>50%</th>\n",
       "      <th>75%</th>\n",
       "      <th>max</th>\n",
       "    </tr>\n",
       "  </thead>\n",
       "  <tbody>\n",
       "    <tr>\n",
       "      <th>age</th>\n",
       "      <td>45222.0</td>\n",
       "      <td>38.547941</td>\n",
       "      <td>13.217870</td>\n",
       "      <td>17.0</td>\n",
       "      <td>28.0</td>\n",
       "      <td>37.0</td>\n",
       "      <td>47.0</td>\n",
       "      <td>90.0</td>\n",
       "    </tr>\n",
       "    <tr>\n",
       "      <th>education_num</th>\n",
       "      <td>45222.0</td>\n",
       "      <td>10.118460</td>\n",
       "      <td>2.552881</td>\n",
       "      <td>1.0</td>\n",
       "      <td>9.0</td>\n",
       "      <td>10.0</td>\n",
       "      <td>13.0</td>\n",
       "      <td>16.0</td>\n",
       "    </tr>\n",
       "    <tr>\n",
       "      <th>capital_gain</th>\n",
       "      <td>45222.0</td>\n",
       "      <td>1101.430344</td>\n",
       "      <td>7506.430084</td>\n",
       "      <td>0.0</td>\n",
       "      <td>0.0</td>\n",
       "      <td>0.0</td>\n",
       "      <td>0.0</td>\n",
       "      <td>99999.0</td>\n",
       "    </tr>\n",
       "    <tr>\n",
       "      <th>capital_loss</th>\n",
       "      <td>45222.0</td>\n",
       "      <td>88.595418</td>\n",
       "      <td>404.956092</td>\n",
       "      <td>0.0</td>\n",
       "      <td>0.0</td>\n",
       "      <td>0.0</td>\n",
       "      <td>0.0</td>\n",
       "      <td>4356.0</td>\n",
       "    </tr>\n",
       "    <tr>\n",
       "      <th>hours_per_week</th>\n",
       "      <td>45222.0</td>\n",
       "      <td>40.938017</td>\n",
       "      <td>12.007508</td>\n",
       "      <td>1.0</td>\n",
       "      <td>40.0</td>\n",
       "      <td>40.0</td>\n",
       "      <td>45.0</td>\n",
       "      <td>99.0</td>\n",
       "    </tr>\n",
       "  </tbody>\n",
       "</table>\n",
       "</div>"
      ],
      "text/plain": [
       "                  count         mean          std   min   25%   50%   75%  \\\n",
       "age             45222.0    38.547941    13.217870  17.0  28.0  37.0  47.0   \n",
       "education_num   45222.0    10.118460     2.552881   1.0   9.0  10.0  13.0   \n",
       "capital_gain    45222.0  1101.430344  7506.430084   0.0   0.0   0.0   0.0   \n",
       "capital_loss    45222.0    88.595418   404.956092   0.0   0.0   0.0   0.0   \n",
       "hours_per_week  45222.0    40.938017    12.007508   1.0  40.0  40.0  45.0   \n",
       "\n",
       "                    max  \n",
       "age                90.0  \n",
       "education_num      16.0  \n",
       "capital_gain    99999.0  \n",
       "capital_loss     4356.0  \n",
       "hours_per_week     99.0  "
      ]
     },
     "execution_count": 14,
     "metadata": {},
     "output_type": "execute_result"
    }
   ],
   "source": [
    "# Estadísticas estándar de las variables.\n",
    "data.describe().T\n"
   ]
  },
  {
   "cell_type": "markdown",
   "metadata": {},
   "source": [
    "De la observación directa de las métricas estadísticas clásicas, podemos observar lo siguiente:\n",
    "    \n",
    "- **Age**: la variable edad parece tener outlier ya que el valor máx está muy desplazado del valor de los cuartiles.\n",
    "- **WorkClass**: Clase de Trabajo, al ser categórica no nos sirve la media y la desv., pero podemos ver que \"private\" predomina en todos los cuartiles.\n",
    "- **Education_level**: Variable categórica, El nivel de educación predomina el \"bechelor\", aunque tenemos muestras también en el resto de valores.\n",
    "- **Education-num**: Valores discretos. Será interesante ver si los años de educación influyen en el salario final.\n",
    "- **Marital-Status**: Predomina el 'Married-civ-spouse', pero se tendrá que examinar con mas atención.\n",
    "- **Occupation**: No se aprecia uniformidad. Se tendrá que examinar con más atención. \n",
    "- **Relationship**: Se tendrá que examinar con más atención. \n",
    "- **Race**: Mayoritariamente predomina la raza blanca. Será interesante ver la proporción de las otras razas.\n",
    "- **Sex**: Parece que se encuentra uniformamente distribuida entre los dos sexos.\n",
    "- **capital-gain**: 'Wow'. Es una variable numérica en donde vemos que puede haber mucha diferencia entre los valores. \n",
    "- **capital-loss**: Lo mismo que la anterior. Visualizaremos especialmente los outliers de estas dos variables.\n",
    "- **hours-per-week**: Predominan las 40h, pero tenemos outlier.\n",
    "- **native-country**: Parece que los datos son en su mayoría de personas nacidas en United-States.  Seguramente esta variable no aporte mucha información."
   ]
  },
  {
   "cell_type": "code",
   "execution_count": 15,
   "metadata": {
    "scrolled": true
   },
   "outputs": [
    {
     "name": "stdout",
     "output_type": "stream",
     "text": [
      "<=50K    0.752156\n",
      ">50K     0.247844\n",
      "Name: income, dtype: float64\n"
     ]
    },
    {
     "data": {
      "text/plain": [
       "<matplotlib.axes._subplots.AxesSubplot at 0x1bf7609c1d0>"
      ]
     },
     "execution_count": 15,
     "metadata": {},
     "output_type": "execute_result"
    },
    {
     "data": {
      "image/png": "[encoded data removed]",
      "text/plain": [
       "<Figure size 432x288 with 1 Axes>"
      ]
     },
     "metadata": {
      "needs_background": "light"
     },
     "output_type": "display_data"
    }
   ],
   "source": [
    "# Visualizamos la variable target\n",
    "print(data.income.value_counts() / data.income.count())\n",
    "\n",
    "data2['income'].hist()"
   ]
  },
  {
   "cell_type": "markdown",
   "metadata": {},
   "source": [
    "Vemos que nos encontramos con un **desbalanceo de la variable target**  que tendremos que tener en cuenta."
   ]
  },
  {
   "cell_type": "code",
   "execution_count": 16,
   "metadata": {},
   "outputs": [
    {
     "name": "stdout",
     "output_type": "stream",
     "text": [
      "age\n",
      "workclass\n",
      "education_level\n",
      "education_num\n",
      "marital_status\n",
      "occupation\n",
      "relationship\n",
      "race\n",
      "sex\n",
      "capital_gain\n",
      "capital_loss\n",
      "hours_per_week\n",
      "native_country\n"
     ]
    },
    {
     "data": {
      "image/png": "[encoded data removed]",
      "text/plain": [
       "<Figure size 1440x1440 with 13 Axes>"
      ]
     },
     "metadata": {
      "needs_background": "light"
     },
     "output_type": "display_data"
    }
   ],
   "source": [
    "# Pintamos histogramas para cada clase\n",
    "# Visualizamos las clases principales.\n",
    "\n",
    "plt.figure(figsize=(20,20))\n",
    "\n",
    "idx_0 =  data2['income'] == 0\n",
    "idx_1 =  data2['income'] == 1\n",
    "\n",
    "for i,feature in enumerate(data.columns.drop(['income'])): #dataset sin normalizar\n",
    "    print(feature)\n",
    "    plt.subplot(6,5,i+1)   \n",
    "    plt.hist(data2.ix[idx_0,feature],normed=1, alpha=0.75,label='y=0')\n",
    "    plt.hist(data2.ix[idx_1,feature],normed=1, facecolor='red', alpha=0.75,label='y=1')\n",
    "    plt.legend()\n",
    "    plt.title(feature)\n",
    "\n",
    "plt.show()"
   ]
  },
  {
   "cell_type": "markdown",
   "metadata": {},
   "source": [
    "El análisis de frecuencias de las variables nos confirma lo que ya vimos con las estadísticas simples.\n",
    "\n",
    "- Age: La variable edad parece normalmente distribuida con outlier en el extremo derecho.\n",
    "- Workclass: Aparece completamente descompensado hacia el tipo 2.\n",
    "- Education level y Education num: En ambas tenemos 3 que concentran la mayoría de las observaciones de la variable.\n",
    "- Marital Status: La población se reduce basicamente a 3 valores: 'Divorced', ' Married-civ-spouse',' Never-married'.\n",
    "- Occupation: Es interesante ver que esta variable no presenta una opción prioritaria, sino que los valores se encuentran uniformemente distribuidos.\n",
    "- RelationShip: Vemos que la opción de ' Husband' es la mayoritaria. Esto contrasta con ' Wife' que es una de las que menos. Los valores de esta variable parecen que está influida con el desbalanceo que apreciamos en la variable 'sex', en donde predominan los hombres en una proporción 2:1. En el análisis de correlación comprobaremos hasta que punto se encuentran influidas.\n",
    "- Capital-gain y Capital-loss: En ambos casos parecen influyenciados por los outliers. Realizaremos una observación más precisa de estas dos variables.\n",
    "- Hours per week: Normalmente distribuida con una influencia muy importante por las 40 h.\n",
    "- Native-country: Esta variable, como ya vimos con las estadísticas estándar, no nos aporta información relevante."
   ]
  },
  {
   "cell_type": "markdown",
   "metadata": {},
   "source": [
    "A priori, no hay ninguna variable con poder de separación entre las muestras. **Age** es una candidata, pero vamos a aplicarle una transformación logarítmica.\n",
    "\n",
    "(Previamente se ha probado aplicando una transformación sqrt() a ésta y a las variables 'education_level', 'education_num', 'occupation' y 'hours_per_week', viendo que la aplicación no mejoraba la normalidad de estas variables."
   ]
  },
  {
   "cell_type": "code",
   "execution_count": 17,
   "metadata": {},
   "outputs": [],
   "source": [
    "features_to_transform = ['age']\n",
    "\n",
    "for feature in features_to_transform:\n",
    "    data[feature] = data2[feature].apply(lambda x: np.log10(x)) # Transformación logaritmica"
   ]
  },
  {
   "cell_type": "code",
   "execution_count": 18,
   "metadata": {},
   "outputs": [
    {
     "data": {
      "image/png": "[encoded data removed]",
      "text/plain": [
       "<Figure size 1440x1440 with 1 Axes>"
      ]
     },
     "metadata": {
      "needs_background": "light"
     },
     "output_type": "display_data"
    }
   ],
   "source": [
    "# Pintamos de nuevo los histogramas para cada clase\n",
    "plt.figure(figsize=(20,20))\n",
    "\n",
    "idx_0 =  data2['income'] == 0\n",
    "idx_1 =  data2['income'] == 1\n",
    "\n",
    "plt.subplot(6,5,1)\n",
    "plt.hist(data2.ix[idx_0,'age'],normed=1, alpha=0.75,label='y=0')\n",
    "plt.hist(data2.ix[idx_1,'age'],normed=1, facecolor='red', alpha=0.75,label='y=1')\n",
    "plt.legend()\n",
    "plt.title('age')\n",
    "\n",
    "plt.show()"
   ]
  },
  {
   "cell_type": "markdown",
   "metadata": {},
   "source": [
    "Aplicando la transformación logarítmica a la variable no se ha conseguido mejorar la separación entre clases.\n",
    "\n",
    "<u>Como ejemplo educativo se ha decidido dejar el desarrollo.</u>"
   ]
  },
  {
   "cell_type": "code",
   "execution_count": 19,
   "metadata": {},
   "outputs": [
    {
     "data": {
      "image/png": "[encoded data removed]",
      "text/plain": [
       "<Figure size 432x288 with 1 Axes>"
      ]
     },
     "metadata": {
      "needs_background": "light"
     },
     "output_type": "display_data"
    },
    {
     "data": {
      "image/png": "[encoded data removed]",
      "text/plain": [
       "<Figure size 432x288 with 1 Axes>"
      ]
     },
     "metadata": {
      "needs_background": "light"
     },
     "output_type": "display_data"
    }
   ],
   "source": [
    "# Eliminamos los valores extremos de capital-gain\n",
    "data.boxplot(column = 'capital_gain')\n",
    "plt.show()\n",
    "\n",
    "filtro = data['capital_gain'] <= 40000\n",
    "data = data[filtro]\n",
    "\n",
    "data.boxplot(column = 'capital_gain')\n",
    "plt.show()"
   ]
  },
  {
   "cell_type": "code",
   "execution_count": 20,
   "metadata": {},
   "outputs": [
    {
     "data": {
      "image/png": "[encoded data removed]",
      "text/plain": [
       "<Figure size 432x288 with 1 Axes>"
      ]
     },
     "metadata": {
      "needs_background": "light"
     },
     "output_type": "display_data"
    },
    {
     "data": {
      "image/png": "[encoded data removed]",
      "text/plain": [
       "<Figure size 432x288 with 1 Axes>"
      ]
     },
     "metadata": {
      "needs_background": "light"
     },
     "output_type": "display_data"
    }
   ],
   "source": [
    "# Eliminamos los valores extremos de capital-loss\n",
    "data.boxplot(column = 'capital_loss')\n",
    "plt.show()\n",
    "\n",
    "filtro = data['capital_loss'] <= 3500\n",
    "data = data[filtro]\n",
    "\n",
    "data.hist(column = 'capital_loss', bins=25)\n",
    "plt.show()"
   ]
  },
  {
   "cell_type": "markdown",
   "metadata": {},
   "source": [
    "Antes de continuar con el análisis exploratorio, vamos a eliminar la variable 'race' que ya sabemos que no tiene repercusión en la salida."
   ]
  },
  {
   "cell_type": "code",
   "execution_count": null,
   "metadata": {},
   "outputs": [],
   "source": [
    "data2 = data2.drop('race', axis=1)"
   ]
  },
  {
   "cell_type": "markdown",
   "metadata": {},
   "source": [
    "## Análisis de Correlación"
   ]
  },
  {
   "cell_type": "markdown",
   "metadata": {},
   "source": [
    "A continuación miraremos la correlación existente entre las variables predictivas."
   ]
  },
  {
   "cell_type": "code",
   "execution_count": 21,
   "metadata": {
    "scrolled": true
   },
   "outputs": [
    {
     "data": {
      "text/html": [
       "<div>\n",
       "<style scoped>\n",
       "    .dataframe tbody tr th:only-of-type {\n",
       "        vertical-align: middle;\n",
       "    }\n",
       "\n",
       "    .dataframe tbody tr th {\n",
       "        vertical-align: top;\n",
       "    }\n",
       "\n",
       "    .dataframe thead th {\n",
       "        text-align: right;\n",
       "    }\n",
       "</style>\n",
       "<table border=\"1\" class=\"dataframe\">\n",
       "  <thead>\n",
       "    <tr style=\"text-align: right;\">\n",
       "      <th></th>\n",
       "      <th>age</th>\n",
       "      <th>workclass</th>\n",
       "      <th>education_level</th>\n",
       "      <th>education_num</th>\n",
       "      <th>marital_status</th>\n",
       "      <th>occupation</th>\n",
       "      <th>relationship</th>\n",
       "      <th>race</th>\n",
       "      <th>sex</th>\n",
       "      <th>capital_gain</th>\n",
       "      <th>capital_loss</th>\n",
       "      <th>hours_per_week</th>\n",
       "      <th>native_country</th>\n",
       "      <th>income</th>\n",
       "    </tr>\n",
       "  </thead>\n",
       "  <tbody>\n",
       "    <tr>\n",
       "      <th>age</th>\n",
       "      <td>1.000000</td>\n",
       "      <td>0.085892</td>\n",
       "      <td>-0.077084</td>\n",
       "      <td>0.037623</td>\n",
       "      <td>-0.271623</td>\n",
       "      <td>-0.004474</td>\n",
       "      <td>-0.247564</td>\n",
       "      <td>0.023776</td>\n",
       "      <td>0.082053</td>\n",
       "      <td>0.079683</td>\n",
       "      <td>0.059351</td>\n",
       "      <td>0.101992</td>\n",
       "      <td>-0.003180</td>\n",
       "      <td>0.237040</td>\n",
       "    </tr>\n",
       "    <tr>\n",
       "      <th>workclass</th>\n",
       "      <td>0.085892</td>\n",
       "      <td>1.000000</td>\n",
       "      <td>0.006677</td>\n",
       "      <td>0.040779</td>\n",
       "      <td>-0.033221</td>\n",
       "      <td>0.017508</td>\n",
       "      <td>-0.065049</td>\n",
       "      <td>0.049765</td>\n",
       "      <td>0.069638</td>\n",
       "      <td>0.034543</td>\n",
       "      <td>0.008233</td>\n",
       "      <td>0.051366</td>\n",
       "      <td>0.003889</td>\n",
       "      <td>0.015659</td>\n",
       "    </tr>\n",
       "    <tr>\n",
       "      <th>education_level</th>\n",
       "      <td>-0.077084</td>\n",
       "      <td>0.006677</td>\n",
       "      <td>1.000000</td>\n",
       "      <td>0.374428</td>\n",
       "      <td>-0.027439</td>\n",
       "      <td>-0.032458</td>\n",
       "      <td>0.031155</td>\n",
       "      <td>0.008202</td>\n",
       "      <td>-0.057014</td>\n",
       "      <td>0.008668</td>\n",
       "      <td>0.004333</td>\n",
       "      <td>0.012674</td>\n",
       "      <td>0.116192</td>\n",
       "      <td>0.050004</td>\n",
       "    </tr>\n",
       "    <tr>\n",
       "      <th>education_num</th>\n",
       "      <td>0.037623</td>\n",
       "      <td>0.040779</td>\n",
       "      <td>0.374428</td>\n",
       "      <td>1.000000</td>\n",
       "      <td>-0.064986</td>\n",
       "      <td>0.089686</td>\n",
       "      <td>-0.088431</td>\n",
       "      <td>0.031655</td>\n",
       "      <td>0.003417</td>\n",
       "      <td>0.126907</td>\n",
       "      <td>0.081711</td>\n",
       "      <td>0.146206</td>\n",
       "      <td>0.092994</td>\n",
       "      <td>0.332800</td>\n",
       "    </tr>\n",
       "    <tr>\n",
       "      <th>marital_status</th>\n",
       "      <td>-0.271623</td>\n",
       "      <td>-0.033221</td>\n",
       "      <td>-0.027439</td>\n",
       "      <td>-0.064986</td>\n",
       "      <td>1.000000</td>\n",
       "      <td>0.016399</td>\n",
       "      <td>0.180436</td>\n",
       "      <td>-0.070302</td>\n",
       "      <td>-0.120008</td>\n",
       "      <td>-0.042399</td>\n",
       "      <td>-0.034820</td>\n",
       "      <td>-0.183178</td>\n",
       "      <td>-0.022721</td>\n",
       "      <td>-0.192711</td>\n",
       "    </tr>\n",
       "    <tr>\n",
       "      <th>occupation</th>\n",
       "      <td>-0.004474</td>\n",
       "      <td>0.017508</td>\n",
       "      <td>-0.032458</td>\n",
       "      <td>0.089686</td>\n",
       "      <td>0.016399</td>\n",
       "      <td>1.000000</td>\n",
       "      <td>-0.051644</td>\n",
       "      <td>-0.000026</td>\n",
       "      <td>0.056625</td>\n",
       "      <td>0.019435</td>\n",
       "      <td>0.015267</td>\n",
       "      <td>0.016160</td>\n",
       "      <td>-0.002848</td>\n",
       "      <td>0.049787</td>\n",
       "    </tr>\n",
       "    <tr>\n",
       "      <th>relationship</th>\n",
       "      <td>-0.247564</td>\n",
       "      <td>-0.065049</td>\n",
       "      <td>0.031155</td>\n",
       "      <td>-0.088431</td>\n",
       "      <td>0.180436</td>\n",
       "      <td>-0.051644</td>\n",
       "      <td>1.000000</td>\n",
       "      <td>-0.118584</td>\n",
       "      <td>-0.582974</td>\n",
       "      <td>-0.056818</td>\n",
       "      <td>-0.058425</td>\n",
       "      <td>-0.259194</td>\n",
       "      <td>-0.007144</td>\n",
       "      <td>-0.253402</td>\n",
       "    </tr>\n",
       "    <tr>\n",
       "      <th>race</th>\n",
       "      <td>0.023776</td>\n",
       "      <td>0.049765</td>\n",
       "      <td>0.008202</td>\n",
       "      <td>0.031655</td>\n",
       "      <td>-0.070302</td>\n",
       "      <td>-0.000026</td>\n",
       "      <td>-0.118584</td>\n",
       "      <td>1.000000</td>\n",
       "      <td>0.088935</td>\n",
       "      <td>0.014078</td>\n",
       "      <td>0.020955</td>\n",
       "      <td>0.044738</td>\n",
       "      <td>0.124342</td>\n",
       "      <td>0.070844</td>\n",
       "    </tr>\n",
       "    <tr>\n",
       "      <th>sex</th>\n",
       "      <td>0.082053</td>\n",
       "      <td>0.069638</td>\n",
       "      <td>-0.057014</td>\n",
       "      <td>0.003417</td>\n",
       "      <td>-0.120008</td>\n",
       "      <td>0.056625</td>\n",
       "      <td>-0.582974</td>\n",
       "      <td>0.088935</td>\n",
       "      <td>1.000000</td>\n",
       "      <td>0.047444</td>\n",
       "      <td>0.046457</td>\n",
       "      <td>0.231425</td>\n",
       "      <td>-0.004170</td>\n",
       "      <td>0.215760</td>\n",
       "    </tr>\n",
       "    <tr>\n",
       "      <th>capital_gain</th>\n",
       "      <td>0.079683</td>\n",
       "      <td>0.034543</td>\n",
       "      <td>0.008668</td>\n",
       "      <td>0.126907</td>\n",
       "      <td>-0.042399</td>\n",
       "      <td>0.019435</td>\n",
       "      <td>-0.056818</td>\n",
       "      <td>0.014078</td>\n",
       "      <td>0.047444</td>\n",
       "      <td>1.000000</td>\n",
       "      <td>-0.032102</td>\n",
       "      <td>0.083880</td>\n",
       "      <td>0.007643</td>\n",
       "      <td>0.221034</td>\n",
       "    </tr>\n",
       "    <tr>\n",
       "      <th>capital_loss</th>\n",
       "      <td>0.059351</td>\n",
       "      <td>0.008233</td>\n",
       "      <td>0.004333</td>\n",
       "      <td>0.081711</td>\n",
       "      <td>-0.034820</td>\n",
       "      <td>0.015267</td>\n",
       "      <td>-0.058425</td>\n",
       "      <td>0.020955</td>\n",
       "      <td>0.046457</td>\n",
       "      <td>-0.032102</td>\n",
       "      <td>1.000000</td>\n",
       "      <td>0.054195</td>\n",
       "      <td>0.005955</td>\n",
       "      <td>0.148687</td>\n",
       "    </tr>\n",
       "    <tr>\n",
       "      <th>hours_per_week</th>\n",
       "      <td>0.101992</td>\n",
       "      <td>0.051366</td>\n",
       "      <td>0.012674</td>\n",
       "      <td>0.146206</td>\n",
       "      <td>-0.183178</td>\n",
       "      <td>0.016160</td>\n",
       "      <td>-0.259194</td>\n",
       "      <td>0.044738</td>\n",
       "      <td>0.231425</td>\n",
       "      <td>0.083880</td>\n",
       "      <td>0.054195</td>\n",
       "      <td>1.000000</td>\n",
       "      <td>0.007554</td>\n",
       "      <td>0.227199</td>\n",
       "    </tr>\n",
       "    <tr>\n",
       "      <th>native_country</th>\n",
       "      <td>-0.003180</td>\n",
       "      <td>0.003889</td>\n",
       "      <td>0.116192</td>\n",
       "      <td>0.092994</td>\n",
       "      <td>-0.022721</td>\n",
       "      <td>-0.002848</td>\n",
       "      <td>-0.007144</td>\n",
       "      <td>0.124342</td>\n",
       "      <td>-0.004170</td>\n",
       "      <td>0.007643</td>\n",
       "      <td>0.005955</td>\n",
       "      <td>0.007554</td>\n",
       "      <td>1.000000</td>\n",
       "      <td>0.020103</td>\n",
       "    </tr>\n",
       "    <tr>\n",
       "      <th>income</th>\n",
       "      <td>0.237040</td>\n",
       "      <td>0.015659</td>\n",
       "      <td>0.050004</td>\n",
       "      <td>0.332800</td>\n",
       "      <td>-0.192711</td>\n",
       "      <td>0.049787</td>\n",
       "      <td>-0.253402</td>\n",
       "      <td>0.070844</td>\n",
       "      <td>0.215760</td>\n",
       "      <td>0.221034</td>\n",
       "      <td>0.148687</td>\n",
       "      <td>0.227199</td>\n",
       "      <td>0.020103</td>\n",
       "      <td>1.000000</td>\n",
       "    </tr>\n",
       "  </tbody>\n",
       "</table>\n",
       "</div>"
      ],
      "text/plain": [
       "                      age  workclass  education_level  education_num  \\\n",
       "age              1.000000   0.085892        -0.077084       0.037623   \n",
       "workclass        0.085892   1.000000         0.006677       0.040779   \n",
       "education_level -0.077084   0.006677         1.000000       0.374428   \n",
       "education_num    0.037623   0.040779         0.374428       1.000000   \n",
       "marital_status  -0.271623  -0.033221        -0.027439      -0.064986   \n",
       "occupation      -0.004474   0.017508        -0.032458       0.089686   \n",
       "relationship    -0.247564  -0.065049         0.031155      -0.088431   \n",
       "race             0.023776   0.049765         0.008202       0.031655   \n",
       "sex              0.082053   0.069638        -0.057014       0.003417   \n",
       "capital_gain     0.079683   0.034543         0.008668       0.126907   \n",
       "capital_loss     0.059351   0.008233         0.004333       0.081711   \n",
       "hours_per_week   0.101992   0.051366         0.012674       0.146206   \n",
       "native_country  -0.003180   0.003889         0.116192       0.092994   \n",
       "income           0.237040   0.015659         0.050004       0.332800   \n",
       "\n",
       "                 marital_status  occupation  relationship      race       sex  \\\n",
       "age                   -0.271623   -0.004474     -0.247564  0.023776  0.082053   \n",
       "workclass             -0.033221    0.017508     -0.065049  0.049765  0.069638   \n",
       "education_level       -0.027439   -0.032458      0.031155  0.008202 -0.057014   \n",
       "education_num         -0.064986    0.089686     -0.088431  0.031655  0.003417   \n",
       "marital_status         1.000000    0.016399      0.180436 -0.070302 -0.120008   \n",
       "occupation             0.016399    1.000000     -0.051644 -0.000026  0.056625   \n",
       "relationship           0.180436   -0.051644      1.000000 -0.118584 -0.582974   \n",
       "race                  -0.070302   -0.000026     -0.118584  1.000000  0.088935   \n",
       "sex                   -0.120008    0.056625     -0.582974  0.088935  1.000000   \n",
       "capital_gain          -0.042399    0.019435     -0.056818  0.014078  0.047444   \n",
       "capital_loss          -0.034820    0.015267     -0.058425  0.020955  0.046457   \n",
       "hours_per_week        -0.183178    0.016160     -0.259194  0.044738  0.231425   \n",
       "native_country        -0.022721   -0.002848     -0.007144  0.124342 -0.004170   \n",
       "income                -0.192711    0.049787     -0.253402  0.070844  0.215760   \n",
       "\n",
       "                 capital_gain  capital_loss  hours_per_week  native_country  \\\n",
       "age                  0.079683      0.059351        0.101992       -0.003180   \n",
       "workclass            0.034543      0.008233        0.051366        0.003889   \n",
       "education_level      0.008668      0.004333        0.012674        0.116192   \n",
       "education_num        0.126907      0.081711        0.146206        0.092994   \n",
       "marital_status      -0.042399     -0.034820       -0.183178       -0.022721   \n",
       "occupation           0.019435      0.015267        0.016160       -0.002848   \n",
       "relationship        -0.056818     -0.058425       -0.259194       -0.007144   \n",
       "race                 0.014078      0.020955        0.044738        0.124342   \n",
       "sex                  0.047444      0.046457        0.231425       -0.004170   \n",
       "capital_gain         1.000000     -0.032102        0.083880        0.007643   \n",
       "capital_loss        -0.032102      1.000000        0.054195        0.005955   \n",
       "hours_per_week       0.083880      0.054195        1.000000        0.007554   \n",
       "native_country       0.007643      0.005955        0.007554        1.000000   \n",
       "income               0.221034      0.148687        0.227199        0.020103   \n",
       "\n",
       "                   income  \n",
       "age              0.237040  \n",
       "workclass        0.015659  \n",
       "education_level  0.050004  \n",
       "education_num    0.332800  \n",
       "marital_status  -0.192711  \n",
       "occupation       0.049787  \n",
       "relationship    -0.253402  \n",
       "race             0.070844  \n",
       "sex              0.215760  \n",
       "capital_gain     0.221034  \n",
       "capital_loss     0.148687  \n",
       "hours_per_week   0.227199  \n",
       "native_country   0.020103  \n",
       "income           1.000000  "
      ]
     },
     "execution_count": 21,
     "metadata": {},
     "output_type": "execute_result"
    }
   ],
   "source": [
    "columns=data.columns\n",
    "data2[columns].corr()"
   ]
  },
  {
   "cell_type": "markdown",
   "metadata": {},
   "source": [
    "Variables ligeramente correlacionadas son: \n",
    "    - education-level y education-num. A nivel de estudios más altos, más años empleados.\n",
    "    - marital-status y age.\n",
    "    - sex y relation-ship.\n",
    "    - hours-per-week y relation-ship.\n",
    "\n",
    "La variable objetivo **\"income\"**, está influenciada por **\"age\", \"education-num\", \"relation-ship\", \"sex\" y \"capital-gain\"**.\n",
    "\n",
    "No se aprecia correlación fuerte entre ninguna de las variables predictoras. Es por ellos que vamos a aplicar un algoritmo de step que comprobará la influencia de las variables en la salida."
   ]
  },
  {
   "cell_type": "code",
   "execution_count": 22,
   "metadata": {},
   "outputs": [],
   "source": [
    "# convertimos el DataFrame al formato necesario para scikit-learn\n",
    "\n",
    "features = data2.columns.drop(['income'])\n",
    "X = data2[features].as_matrix()\n",
    "y = data2['income'].as_matrix()\n"
   ]
  },
  {
   "cell_type": "markdown",
   "metadata": {},
   "source": [
    "# Etapa de Aprendizaje. Búsqueda de las variables predictoras"
   ]
  },
  {
   "cell_type": "markdown",
   "metadata": {},
   "source": [
    "## Separación de datos en Entrenamiento y Test."
   ]
  },
  {
   "cell_type": "markdown",
   "metadata": {},
   "source": [
    "Hemos visto durante la observación de la variables target, que había un balanceo hacia uno de los valores. \n",
    "\n",
    "Es por ello que vamos a utilizar **la estratificación** con respecto la variable a predecir, para de esta manera \n",
    "mantener la misma proporción existente de ambos valores, __tanto en TRAIN como en TEST__.\n",
    "\n",
    "Escogemos un 20 % para Test y aplicamos el shuffle para barajar los datos "
   ]
  },
  {
   "cell_type": "code",
   "execution_count": 23,
   "metadata": {},
   "outputs": [
    {
     "name": "stdout",
     "output_type": "stream",
     "text": [
      "Datos entrenamiento:  (36177, 93)\n",
      "Datos test:  (9045, 93)\n"
     ]
    }
   ],
   "source": [
    "from sklearn import preprocessing\n",
    "from sklearn.model_selection import train_test_split\n",
    "\n",
    "# Dividimos los datos en entrenamiento y test (80 training, 20 test)\n",
    "X_train, X_test, y_train, y_test = train_test_split(X, y, test_size=.2, shuffle=True, stratify = y, random_state = 0)\n",
    "\n",
    "print('Datos entrenamiento: ', X_train.shape)\n",
    "print('Datos test: ', X_test.shape)"
   ]
  },
  {
   "cell_type": "markdown",
   "metadata": {},
   "source": [
    "## Búsqueda de las variables importantes con Árbol de Decisión"
   ]
  },
  {
   "cell_type": "code",
   "execution_count": 24,
   "metadata": {},
   "outputs": [
    {
     "name": "stdout",
     "output_type": "stream",
     "text": [
      "best mean cross-validation score: 0.853\n",
      "best parameters: {'max_depth': 9}\n"
     ]
    },
    {
     "data": {
      "image/png": "[encoded data removed]",
      "text/plain": [
       "<Figure size 432x288 with 1 Axes>"
      ]
     },
     "metadata": {
      "needs_background": "light"
     },
     "output_type": "display_data"
    }
   ],
   "source": [
    "from sklearn.model_selection import GridSearchCV\n",
    "from sklearn.tree import DecisionTreeClassifier\n",
    "from sklearn import tree\n",
    "\n",
    "\n",
    "maxDepth = range(1,10)\n",
    "param_grid = {'max_depth': maxDepth }\n",
    "grid = GridSearchCV(DecisionTreeClassifier(random_state=0), param_grid=param_grid, cv = 10)\n",
    "grid.fit(X_train, y_train)\n",
    "print(\"best mean cross-validation score: {:.3f}\".format(grid.best_score_))\n",
    "print(\"best parameters: {}\".format(grid.best_params_))\n",
    "\n",
    "scores = np.array(grid.cv_results_['mean_test_score'])\n",
    "plt.plot(maxDepth,scores,'-o')\n",
    "plt.xlabel('max_depth',fontsize=16)\n",
    "plt.ylabel('10-Fold MSE')\n",
    "\n",
    "plt.show()"
   ]
  },
  {
   "cell_type": "code",
   "execution_count": 25,
   "metadata": {},
   "outputs": [
    {
     "name": "stdout",
     "output_type": "stream",
     "text": [
      "Acc Train:  0.8631450921856428\n",
      "Acc Test:  0.8558319513543394\n"
     ]
    }
   ],
   "source": [
    "maxDepthOptimo = grid.best_params_['max_depth']\n",
    "treeModel = DecisionTreeClassifier(max_depth=maxDepthOptimo).fit(X_train,y_train)\n",
    "\n",
    "print(\"Acc Train: \",treeModel.score(X_train,y_train))\n",
    "print(\"Acc Test: \",treeModel.score(X_test,y_test))\n"
   ]
  },
  {
   "cell_type": "markdown",
   "metadata": {},
   "source": [
    "Con un sólo árbol, **se ha obtenido un score bastante bueno** que nos va a servir de base para comparar los diferentes modelos.  \n",
    "\n",
    "Vamos a ver el ranking de variables que ha establecido el árbol de decisión."
   ]
  },
  {
   "cell_type": "code",
   "execution_count": 27,
   "metadata": {},
   "outputs": [
    {
     "data": {
      "image/png": "[encoded data removed]",
      "text/plain": [
       "<Figure size 720x720 with 1 Axes>"
      ]
     },
     "metadata": {
      "needs_background": "light"
     },
     "output_type": "display_data"
    }
   ],
   "source": [
    "importances = treeModel.feature_importances_  # Características importantes\n",
    "importances = importances / np.max(importances)\n",
    "\n",
    "indices = np.argsort(importances)[::-1]\n",
    "max_value= 10\n",
    "indices = indices[0:max_value]\n",
    "\n",
    "plt.figure(figsize=(10,10))\n",
    "#plt.barh(range(X_train.shape[1]),importances[indices])\n",
    "plt.barh(range(max_value),importances[indices])\n",
    "#plt.yticks(range(X_train.shape[1]),features[indices])\n",
    "plt.yticks(range(max_value),features[indices])\n",
    "plt.show()\n",
    "\n",
    "# Antes de cortar la variables vamos a ver como impacta en el modelo la eliminación de las variables\n",
    "# Para ello vamos a hacer validación cruzada con el ranking encontrado."
   ]
  },
  {
   "cell_type": "markdown",
   "metadata": {},
   "source": [
    "Es curioso que la variable age no se encuentre entre las primeras.\n",
    "\n",
    "Vamos a evaluar el comportamiento del subset encontrado."
   ]
  },
  {
   "cell_type": "code",
   "execution_count": 28,
   "metadata": {},
   "outputs": [
    {
     "name": "stdout",
     "output_type": "stream",
     "text": [
      "Pasamos a un subset de  9  variables predictoras.\n"
     ]
    },
    {
     "data": {
      "text/plain": [
       "Index(['age', 'workclass', 'education_num', 'occupation', 'relationship',\n",
       "       'race', 'capital_gain', 'capital_loss', 'hours_per_week', 'income'],\n",
       "      dtype='object')"
      ]
     },
     "execution_count": 28,
     "metadata": {},
     "output_type": "execute_result"
    }
   ],
   "source": [
    "data_tree = data.drop(['native_country', 'education_level','marital_status', 'sex'], axis=1)\n",
    "print('Pasamos a un subset de ', data_tree.shape[1]-1,' variables predictoras.')\n",
    "data_tree.columns"
   ]
  },
  {
   "cell_type": "markdown",
   "metadata": {},
   "source": [
    "Volvemos a evaluar el comportamiento con las variables con mayor influencia en la variable target."
   ]
  },
  {
   "cell_type": "code",
   "execution_count": 29,
   "metadata": {},
   "outputs": [
    {
     "name": "stdout",
     "output_type": "stream",
     "text": [
      "best mean cross-validation score: 0.853\n",
      "best parameters: {'max_depth': 9}\n"
     ]
    },
    {
     "data": {
      "image/png": "[encoded data removed]",
      "text/plain": [
       "<Figure size 432x288 with 1 Axes>"
      ]
     },
     "metadata": {
      "needs_background": "light"
     },
     "output_type": "display_data"
    }
   ],
   "source": [
    "# Buscamos el parámetro libre\n",
    "maxDepth = range(1,10)\n",
    "param_grid = {'max_depth': maxDepth }\n",
    "grid = GridSearchCV(DecisionTreeClassifier(random_state=0), param_grid=param_grid, cv = 10)\n",
    "grid.fit(X_train, y_train)\n",
    "print(\"best mean cross-validation score: {:.3f}\".format(grid.best_score_))\n",
    "print(\"best parameters: {}\".format(grid.best_params_))\n",
    "\n",
    "scores = np.array(grid.cv_results_['mean_test_score'])\n",
    "plt.plot(maxDepth,scores,'-o')\n",
    "plt.xlabel('max_depth',fontsize=16)\n",
    "plt.ylabel('10-Fold MSE')\n",
    "\n",
    "plt.show()"
   ]
  },
  {
   "cell_type": "code",
   "execution_count": 30,
   "metadata": {},
   "outputs": [
    {
     "name": "stdout",
     "output_type": "stream",
     "text": [
      "Acc Train:  0.8631450921856428\n",
      "Acc Test:  0.8558319513543394\n"
     ]
    }
   ],
   "source": [
    "# Miramos el resultado del modelo en test\n",
    "maxDepthOptimo = grid.best_params_['max_depth']\n",
    "treeModel = DecisionTreeClassifier(max_depth=maxDepthOptimo).fit(X_train,y_train)\n",
    "\n",
    "print(\"Acc Train: \",treeModel.score(X_train,y_train))\n",
    "print(\"Acc Test: \",treeModel.score(X_test,y_test))"
   ]
  },
  {
   "cell_type": "markdown",
   "metadata": {},
   "source": [
    "Vemos que la eliminación de las variables no ha afectado al resultado, por lo que la selección de variables es buena y los resultados obtenidor mediante el árbol de decisión, **nos sirve de base para comparar con otros modelos**. "
   ]
  },
  {
   "cell_type": "markdown",
   "metadata": {},
   "source": [
    "### Elección de las variables predictoras mediante StepWise y árbol de decisión"
   ]
  },
  {
   "cell_type": "markdown",
   "metadata": {},
   "source": [
    "Vamos a utilizar una selección de variables hacia adelante (**StepWise**) junto con un algoritmo de árbol de decisión para encontrar las variables más influyentes. Para intentar paliar el problema que tiene el stepwise que no contempla la influencia entre variables, se incluye un paso que randomiza el vector que contiene el nombre de las variables con cada paso."
   ]
  },
  {
   "cell_type": "code",
   "execution_count": 47,
   "metadata": {},
   "outputs": [
    {
     "name": "stdout",
     "output_type": "stream",
     "text": [
      "Pasada Num:  1\n",
      "Best score: train: 0.752200, test: 0.752100\n",
      "Pasada Num:  2\n",
      "Best score: train: 0.863200, test: 0.855900\n",
      "Pasada Num:  3\n",
      "Best score: train: 0.863200, test: 0.855900\n",
      "Pasada Num:  4\n",
      "Best score: train: 0.863200, test: 0.855900\n",
      "Pasada Num:  5\n",
      "Best score: train: 0.863200, test: 0.855900\n",
      "Results:\n",
      "Best Train score:  0.8599\n",
      "Best Test score:  0.8552\n",
      "Best variable list:  [' Outlying-US(Guam-USVI-etc)', ' Yugoslavia', 'capital_loss', ' United-States', ' Jamaica', ' Divorced', ' Cuba', 'education_level', ' Thailand', ' Laos', 'education_num', ' Not-in-family', ' Self-emp-not-inc', ' India', ' Ecuador', 'relationship', ' Honduras', ' Local-gov', ' England', ' Other-service']\n"
     ]
    }
   ],
   "source": [
    "import random\n",
    "#Columns=X.columns\n",
    "\n",
    "index_test= 0\n",
    "best_score_test= 0\n",
    "best_score_train = 0\n",
    "Best_variable =[]\n",
    "for n in range(1,6):\n",
    "    variable_list=[]\n",
    "    #Columns = random.sample(list(data2.columns), len(data2.columns))\n",
    "    # Limited the number of columns. In order to improve its performance, it's possible to increase it\n",
    "    Columns = random.sample(list(data2.columns), 20)\n",
    "    num_iter=1 \n",
    "    print('Pasada Num: ', n)\n",
    "    for i in Columns:\n",
    "        \n",
    "        variable_list.append(i)\n",
    "        #print(variable_list)\n",
    "\n",
    "        X_step_train, X_step_test, y_step_train, y_step_test = train_test_split(data2[variable_list], y, test_size=.25, random_state = 2)\n",
    "\n",
    "        # Buscamos el parámetro libre\n",
    "        maxDepth = range(1,10)\n",
    "        param_grid = {'max_depth': maxDepth }\n",
    "        grid = GridSearchCV(DecisionTreeClassifier(random_state=0), param_grid=param_grid, cv = 10)\n",
    "        grid.fit(X_step_train, y_step_train)\n",
    "\n",
    "        maxDepthOptimo = grid.best_params_['max_depth']\n",
    "        treeModel = DecisionTreeClassifier(max_depth=maxDepthOptimo).fit(X_train,y_train)\n",
    "        \n",
    "        score_test= treeModel.score(X_test,y_test).round(4)\n",
    "        score_train = treeModel.score(X_train,y_train).round(4)\n",
    "        # Descomentar para verbose. Si me da tiempo lo meto como opción en el algoritmo !!!!.\n",
    "        #print(\"Num: %i -> Train: %f; Test: %f \" %(num_iter, score_train, score_test)) #Verbose 1\n",
    "        #print(\"Columns: %s -> Train: %f; Test: %f \" %(variable_list, score_train, score_test)) #Verbose 2\n",
    "        num_iter +=1        \n",
    "        if score_test> best_score_test:\n",
    "            best_score_test = score_test\n",
    "            best_score_train = score_train\n",
    "            Best_variable = variable_list\n",
    "    print('Best score: train: %f, test: %f' %(best_score_train, best_score_test))\n",
    "\n",
    "print(\"Results:\")\n",
    "print(\"Best Train score: \", score_train)\n",
    "print(\"Best Test score: \", score_test)\n",
    "print(\"Best variable list: \", Best_variable)"
   ]
  },
  {
   "cell_type": "markdown",
   "metadata": {},
   "source": [
    "Si comparamos con las variables encontradas con un único árbol de decisión, vemos que no ha habido variación. \n",
    "Un árbol de decisión nos permite con relativa facilidad el descubrir las características más fuertes del dataset. Por contra, <u>es un algoritmo que no es muy robusto </u>. Por ello, tiene que ser complementado con otros algoritmos y su resultado comprobado."
   ]
  },
  {
   "cell_type": "markdown",
   "metadata": {},
   "source": [
    "### Variables predictoras\n",
    "\n",
    "En este apartado vamos a reunir las variables predictoras encontradas con las diferentes técnicas:\n",
    "    \n",
    "- **árbol de decisión** : workclass, age, capital_gain, capital_loss, education_num, occupation, relationship, hours_per_week\n",
    "- **StepWise** : workclass, relationship, capital_loss, capital_gain, education_num, age, hours_per_week, occupation.\n",
    "\n",
    "\n",
    "Con este conjunto, escogemos como variables predictoras las siguientes: \n",
    "    - workclass, capital_gain, capital_loss, age, relationship, education_num, occupation"
   ]
  },
  {
   "cell_type": "markdown",
   "metadata": {},
   "source": [
    "Para poder ver la capacidad de clasificación de los diferentes modelos, utilizamos el conjunto de variables predictoras seleccionadas anteriormente."
   ]
  },
  {
   "cell_type": "code",
   "execution_count": 49,
   "metadata": {},
   "outputs": [
    {
     "data": {
      "text/html": [
       "<div>\n",
       "<style scoped>\n",
       "    .dataframe tbody tr th:only-of-type {\n",
       "        vertical-align: middle;\n",
       "    }\n",
       "\n",
       "    .dataframe tbody tr th {\n",
       "        vertical-align: top;\n",
       "    }\n",
       "\n",
       "    .dataframe thead th {\n",
       "        text-align: right;\n",
       "    }\n",
       "</style>\n",
       "<table border=\"1\" class=\"dataframe\">\n",
       "  <thead>\n",
       "    <tr style=\"text-align: right;\">\n",
       "      <th></th>\n",
       "      <th>workclass</th>\n",
       "      <th>capital_gain</th>\n",
       "      <th>capital_loss</th>\n",
       "      <th>age</th>\n",
       "      <th>relationship</th>\n",
       "      <th>education_num</th>\n",
       "      <th>occupation</th>\n",
       "    </tr>\n",
       "  </thead>\n",
       "  <tbody>\n",
       "    <tr>\n",
       "      <th>0</th>\n",
       "      <td>5</td>\n",
       "      <td>2174.0</td>\n",
       "      <td>0.0</td>\n",
       "      <td>39</td>\n",
       "      <td>1</td>\n",
       "      <td>13.0</td>\n",
       "      <td>0</td>\n",
       "    </tr>\n",
       "    <tr>\n",
       "      <th>1</th>\n",
       "      <td>4</td>\n",
       "      <td>0.0</td>\n",
       "      <td>0.0</td>\n",
       "      <td>50</td>\n",
       "      <td>0</td>\n",
       "      <td>13.0</td>\n",
       "      <td>3</td>\n",
       "    </tr>\n",
       "    <tr>\n",
       "      <th>2</th>\n",
       "      <td>2</td>\n",
       "      <td>0.0</td>\n",
       "      <td>0.0</td>\n",
       "      <td>38</td>\n",
       "      <td>1</td>\n",
       "      <td>9.0</td>\n",
       "      <td>5</td>\n",
       "    </tr>\n",
       "    <tr>\n",
       "      <th>3</th>\n",
       "      <td>2</td>\n",
       "      <td>0.0</td>\n",
       "      <td>0.0</td>\n",
       "      <td>53</td>\n",
       "      <td>0</td>\n",
       "      <td>7.0</td>\n",
       "      <td>5</td>\n",
       "    </tr>\n",
       "    <tr>\n",
       "      <th>4</th>\n",
       "      <td>2</td>\n",
       "      <td>0.0</td>\n",
       "      <td>0.0</td>\n",
       "      <td>28</td>\n",
       "      <td>5</td>\n",
       "      <td>13.0</td>\n",
       "      <td>9</td>\n",
       "    </tr>\n",
       "  </tbody>\n",
       "</table>\n",
       "</div>"
      ],
      "text/plain": [
       "   workclass  capital_gain  capital_loss  age  relationship  education_num  \\\n",
       "0          5        2174.0           0.0   39             1           13.0   \n",
       "1          4           0.0           0.0   50             0           13.0   \n",
       "2          2           0.0           0.0   38             1            9.0   \n",
       "3          2           0.0           0.0   53             0            7.0   \n",
       "4          2           0.0           0.0   28             5           13.0   \n",
       "\n",
       "   occupation  \n",
       "0           0  \n",
       "1           3  \n",
       "2           5  \n",
       "3           5  \n",
       "4           9  "
      ]
     },
     "execution_count": 49,
     "metadata": {},
     "output_type": "execute_result"
    }
   ],
   "source": [
    "BestVariable = ['workclass', 'capital_gain', 'capital_loss', 'age', 'relationship', 'education_num', 'occupation']\n",
    "BestX = data2[BestVariable]\n",
    "BestX.head()"
   ]
  },
  {
   "cell_type": "markdown",
   "metadata": {},
   "source": [
    "## Separación de datos en Entrenamiento y Test."
   ]
  },
  {
   "cell_type": "code",
   "execution_count": 60,
   "metadata": {},
   "outputs": [
    {
     "name": "stdout",
     "output_type": "stream",
     "text": [
      "Datos entrenamiento:  (36177, 93)\n",
      "Datos test:  (9045, 93)\n"
     ]
    }
   ],
   "source": [
    "# Dividimos los datos en entrenamiento y test (80 training, 20 test)\n",
    "X=data2.drop('income', axis=1)\n",
    "#X_train, X_test, y_train, y_test = train_test_split(BestX, y, test_size=.2, shuffle=True, stratify = y, random_state = 0)\n",
    "X_train, X_test, y_train, y_test = train_test_split(X, y, test_size=.2, shuffle=True, stratify = y, random_state = 0)\n",
    "\n",
    "print('Datos entrenamiento: ', X_train.shape)\n",
    "print('Datos test: ', X_test.shape)"
   ]
  },
  {
   "cell_type": "markdown",
   "metadata": {},
   "source": [
    "# Prueba de modelos de Clasificación"
   ]
  },
  {
   "cell_type": "markdown",
   "metadata": {},
   "source": [
    "## Clasificación mediante un modelo de regresión logística"
   ]
  },
  {
   "cell_type": "markdown",
   "metadata": {},
   "source": [
    "Primeramente vamos a considera empezando por un modelo sencillo como es la regresión logística.   \n",
    "Este modelo nos servirá como base para poder comparar."
   ]
  },
  {
   "cell_type": "code",
   "execution_count": 61,
   "metadata": {},
   "outputs": [
    {
     "name": "stdout",
     "output_type": "stream",
     "text": [
      "best mean cross-validation score: 0.847\n",
      "best parameters: {'C': 23.357214690901213}\n",
      "test-set score: 0.85\n"
     ]
    },
    {
     "data": {
      "image/png": "[encoded data removed]",
      "text/plain": [
       "<Figure size 432x288 with 1 Axes>"
      ]
     },
     "metadata": {
      "needs_background": "light"
     },
     "output_type": "display_data"
    }
   ],
   "source": [
    "from sklearn.linear_model import LogisticRegression\n",
    "\n",
    "vectorC = np.logspace(-10, 2, 20)\n",
    "param_grid = {'C': vectorC}\n",
    "grid = GridSearchCV(LogisticRegression(fit_intercept=False), scoring= 'accuracy', param_grid=param_grid, cv = 5)\n",
    "grid.fit(X_train, y_train)\n",
    "print(\"best mean cross-validation score: {:.3f}\".format(grid.best_score_))\n",
    "print(\"best parameters: {}\".format(grid.best_params_))\n",
    "print(\"test-set score: {:.2f}\".format(grid.score(X_test, y_test)))\n",
    "\n",
    "scores = np.array(grid.cv_results_['mean_test_score'])\n",
    "plt.semilogx(vectorC,scores,'-o')\n",
    "plt.xlabel('C')\n",
    "plt.ylabel('5-Fold ACC')\n",
    "plt.show()\n"
   ]
  },
  {
   "cell_type": "markdown",
   "metadata": {},
   "source": [
    "En el eje y tenemos el valor de Accuracy. A mayor valor, mejor comportamiento del modelo entrenado. \n",
    "Por contra, conforme el valor de C se incrementa, aumenta la exactitud hasta llegar a un punto que se mantiene estable."
   ]
  },
  {
   "cell_type": "code",
   "execution_count": 62,
   "metadata": {},
   "outputs": [
    {
     "name": "stdout",
     "output_type": "stream",
     "text": [
      "R2 Train:  0.8484119744589104\n",
      "R2 Test:  0.8504145936981757\n"
     ]
    }
   ],
   "source": [
    "BestC = grid.best_params_['C']\n",
    "lr_model = LogisticRegression(fit_intercept=False, C=BestC).fit(X_train,y_train)\n",
    "\n",
    "print(\"R2 Train: \", lr_model.score(X_train,y_train))\n",
    "print(\"R2 Test: \", lr_model.score(X_test,y_test))"
   ]
  },
  {
   "cell_type": "code",
   "execution_count": 63,
   "metadata": {},
   "outputs": [],
   "source": [
    "def plot_confusion_matrix(confmat):\n",
    "    fig, ax = plt.subplots(figsize=(3, 3))\n",
    "    ax.matshow(confmat, cmap=plt.cm.Blues, alpha=0.5)\n",
    "    for i in range(confmat.shape[0]):\n",
    "        for j in range(confmat.shape[1]):\n",
    "            ax.text(x=j, y=i, s=confmat[i, j], va='center', ha='center')\n",
    "\n",
    "    plt.xlabel('predicted label')\n",
    "    plt.ylabel('true label')\n",
    "\n",
    "    plt.tight_layout()\n",
    "    plt.show()"
   ]
  },
  {
   "cell_type": "code",
   "execution_count": 64,
   "metadata": {},
   "outputs": [],
   "source": [
    "def calcula_metricas(confmat):\n",
    "    \n",
    "    tn, fp, fn, tp = confmat.ravel()\n",
    "    \n",
    "    acc = (tp+tn)/(tn + tp+ fp+ fn)\n",
    "    sen = tp/ (tp+fn)\n",
    "    esp = tn/ (tn+fp)\n",
    "    ppv = tp/ (tp+fp)\n",
    "    fsc = 2*(sen*ppv/(sen+ppv))\n",
    "    \n",
    "    print('ACC: ', acc)\n",
    "    print('SEN: ', sen)\n",
    "    print('ESP: ', esp)\n",
    "    print('PPV: ', ppv)\n",
    "    print('FSC: ', fsc)\n",
    "    \n",
    "    plt.bar(range(5), [acc, sen, esp, ppv, fsc])\n",
    "    plt.xticks(range(5), ['ACC', 'SEN', 'ESP', 'PPV', 'FSC'])\n",
    "    plt.plot([-1, 6], [1,1], color=(0.6, 0.6, 0.6), linestyle='--')\n",
    "    plt.xlim((-0.5, 4.5))\n",
    "    plt.ylim((0,1.1))\n",
    "    plt.title('Métricas')\n",
    "    plt.show()"
   ]
  },
  {
   "cell_type": "markdown",
   "metadata": {},
   "source": [
    "Independientemente de la métrica obtenida, cerca del 80 % y que nos servirá de referencia, vamos a ver que tal predice generando la matriz de confusión."
   ]
  },
  {
   "cell_type": "code",
   "execution_count": 66,
   "metadata": {},
   "outputs": [
    {
     "name": "stdout",
     "output_type": "stream",
     "text": [
      "Train score:\n",
      "===========\n"
     ]
    },
    {
     "data": {
      "image/png": "[encoded data removed]",
      "text/plain": [
       "<Figure size 216x216 with 1 Axes>"
      ]
     },
     "metadata": {
      "needs_background": "light"
     },
     "output_type": "display_data"
    },
    {
     "name": "stdout",
     "output_type": "stream",
     "text": [
      "ACC:  0.8484119744589104\n",
      "SEN:  0.6072942226187821\n",
      "ESP:  0.9278600565947595\n",
      "PPV:  0.7350161987041036\n",
      "FSC:  0.6650787834371563\n"
     ]
    },
    {
     "data": {
      "image/png": "[encoded data removed]",
      "text/plain": [
       "<Figure size 432x288 with 1 Axes>"
      ]
     },
     "metadata": {
      "needs_background": "light"
     },
     "output_type": "display_data"
    },
    {
     "name": "stdout",
     "output_type": "stream",
     "text": [
      "Test score:\n",
      "===========\n"
     ]
    },
    {
     "data": {
      "image/png": "[encoded data removed]",
      "text/plain": [
       "<Figure size 216x216 with 1 Axes>"
      ]
     },
     "metadata": {
      "needs_background": "light"
     },
     "output_type": "display_data"
    },
    {
     "name": "stdout",
     "output_type": "stream",
     "text": [
      "ACC:  0.8504145936981757\n",
      "SEN:  0.6043710972346119\n",
      "ESP:  0.9315008084668529\n",
      "PPV:  0.7440966501922021\n",
      "FSC:  0.6669948314053654\n"
     ]
    },
    {
     "data": {
      "image/png": "[encoded data removed]",
      "text/plain": [
       "<Figure size 432x288 with 1 Axes>"
      ]
     },
     "metadata": {
      "needs_background": "light"
     },
     "output_type": "display_data"
    }
   ],
   "source": [
    "from sklearn.metrics import confusion_matrix\n",
    "\n",
    "print(\"Train score:\")\n",
    "print(\"===========\")\n",
    "y_pred = lr_model.predict(X_train)\n",
    "confmat = confusion_matrix(y_train,y_pred)\n",
    "plot_confusion_matrix(confmat)\n",
    "calcula_metricas(confmat)\n",
    "\n",
    "print(\"Test score:\")\n",
    "print(\"===========\")\n",
    "y_pred = lr_model.predict(X_test)\n",
    "confmat = confusion_matrix(y_test,y_pred)\n",
    "plot_confusion_matrix(confmat)\n",
    "calcula_metricas(confmat)"
   ]
  },
  {
   "cell_type": "markdown",
   "metadata": {},
   "source": [
    "Vemos que el modelo con regresión logística tiene una sensibilidad muy baja. Efectivamente, vemos que el número de personas que ganan más de 50k y que el modelo predice como que están por debajo de ese importe, es muy alto.\n",
    "\n",
    "Por último, vamos a visualizar la curva ROC."
   ]
  },
  {
   "cell_type": "code",
   "execution_count": 67,
   "metadata": {},
   "outputs": [
    {
     "data": {
      "image/png": "[encoded data removed]",
      "text/plain": [
       "<Figure size 432x288 with 1 Axes>"
      ]
     },
     "metadata": {
      "needs_background": "light"
     },
     "output_type": "display_data"
    }
   ],
   "source": [
    "from sklearn.metrics import roc_curve, auc\n",
    "\n",
    "y_prob = lr_model.predict_proba(X_test)[:,1]\n",
    "\n",
    "ejex, ejey, _ = roc_curve(y_test, y_prob)\n",
    "roc_auc = auc(ejex, ejey)\n",
    "\n",
    "plt.figure()\n",
    "plt.plot(ejex, ejey, color='darkorange',lw=2, label='AUC = %0.2f' % roc_auc)\n",
    "\n",
    "plt.plot([0, 1], [0, 1], color=(0.6, 0.6, 0.6), linestyle='--')\n",
    "plt.plot([0, 0, 1],[0, 1, 1],lw=2, linestyle=':',color='black',label='Clasificador perfecto')\n",
    "\n",
    "plt.xlim([-0.05, 1.05])\n",
    "plt.ylim([-0.05, 1.05])\n",
    "\n",
    "plt.xlabel('FPR (1-ESP)')\n",
    "plt.ylabel('SEN')\n",
    "plt.legend(loc=\"lower right\")\n",
    "plt.show()"
   ]
  },
  {
   "cell_type": "markdown",
   "metadata": {},
   "source": [
    "Como la variable target se encuentra desbalanceada, vamos a introducir el parámetro **class_weight** para ajustar los pesos  y comparamos con el resultado anterior.\n",
    "\n",
    "También utilizaremos **F1-score** como medida de control, que mantendrá un equilibrio entre la sensibilidad y la exactitud."
   ]
  },
  {
   "cell_type": "code",
   "execution_count": 68,
   "metadata": {},
   "outputs": [
    {
     "name": "stdout",
     "output_type": "stream",
     "text": [
      "best mean cross-validation score: 0.680\n",
      "best parameters: {'C': 23.357214690901213}\n",
      "test-set score: 0.68\n"
     ]
    },
    {
     "data": {
      "image/png": "[encoded data removed]",
      "text/plain": [
       "<Figure size 432x288 with 1 Axes>"
      ]
     },
     "metadata": {
      "needs_background": "light"
     },
     "output_type": "display_data"
    }
   ],
   "source": [
    "vectorC = np.logspace(-10, 2, 20)\n",
    "param_grid = {'C': vectorC}\n",
    "grid = GridSearchCV(LogisticRegression(fit_intercept=False, class_weight='balanced'), \n",
    "                    scoring= 'f1', \n",
    "                    param_grid=param_grid, cv = 5)\n",
    "grid.fit(X_train, y_train)\n",
    "print(\"best mean cross-validation score: {:.3f}\".format(grid.best_score_))\n",
    "print(\"best parameters: {}\".format(grid.best_params_))\n",
    "print(\"test-set score: {:.2f}\".format(grid.score(X_test, y_test)))\n",
    "\n",
    "scores = np.array(grid.cv_results_['mean_test_score'])\n",
    "plt.semilogx(vectorC,scores,'-o')\n",
    "plt.xlabel('C')\n",
    "plt.ylabel('5-Fold ACC')\n",
    "plt.show()"
   ]
  },
  {
   "cell_type": "code",
   "execution_count": 69,
   "metadata": {},
   "outputs": [
    {
     "name": "stdout",
     "output_type": "stream",
     "text": [
      "R2 Train:  0.8484119744589104\n",
      "R2 Test:  0.8504145936981757\n"
     ]
    }
   ],
   "source": [
    "BestC = grid.best_params_['C']\n",
    "lr_model_balanced = LogisticRegression(fit_intercept=False, class_weight='balanced', C=BestC).fit(X_train,y_train)\n",
    "\n",
    "print(\"R2 Train: \", lr_model.score(X_train,y_train))\n",
    "print(\"R2 Test: \", lr_model.score(X_test,y_test))"
   ]
  },
  {
   "cell_type": "code",
   "execution_count": 71,
   "metadata": {},
   "outputs": [
    {
     "name": "stdout",
     "output_type": "stream",
     "text": [
      "Train score:\n",
      "===========\n"
     ]
    },
    {
     "data": {
      "image/png": "[encoded data removed]",
      "text/plain": [
       "<Figure size 216x216 with 1 Axes>"
      ]
     },
     "metadata": {
      "needs_background": "light"
     },
     "output_type": "display_data"
    },
    {
     "name": "stdout",
     "output_type": "stream",
     "text": [
      "ACC:  0.7983525444343091\n",
      "SEN:  0.8461967432522864\n",
      "ESP:  0.782587924001323\n",
      "PPV:  0.5618751388580315\n",
      "FSC:  0.6753304552939606\n"
     ]
    },
    {
     "data": {
      "image/png": "[encoded data removed]",
      "text/plain": [
       "<Figure size 432x288 with 1 Axes>"
      ]
     },
     "metadata": {
      "needs_background": "light"
     },
     "output_type": "display_data"
    },
    {
     "name": "stdout",
     "output_type": "stream",
     "text": [
      "Test score:\n",
      "===========\n"
     ]
    },
    {
     "data": {
      "image/png": "[encoded data removed]",
      "text/plain": [
       "<Figure size 216x216 with 1 Axes>"
      ]
     },
     "metadata": {
      "needs_background": "light"
     },
     "output_type": "display_data"
    },
    {
     "name": "stdout",
     "output_type": "stream",
     "text": [
      "ACC:  0.8016583747927032\n",
      "SEN:  0.8421052631578947\n",
      "ESP:  0.7883286785241805\n",
      "PPV:  0.5673076923076923\n",
      "FSC:  0.6779174147217235\n"
     ]
    },
    {
     "data": {
      "image/png": "[encoded data removed]",
      "text/plain": [
       "<Figure size 432x288 with 1 Axes>"
      ]
     },
     "metadata": {
      "needs_background": "light"
     },
     "output_type": "display_data"
    }
   ],
   "source": [
    "print(\"Train score:\")\n",
    "print(\"===========\")\n",
    "y_pred = lr_model_balanced.predict(X_train)\n",
    "confmat = confusion_matrix(y_train,y_pred)\n",
    "plot_confusion_matrix(confmat)\n",
    "calcula_metricas(confmat)\n",
    "\n",
    "print(\"Test score:\")\n",
    "print(\"===========\")\n",
    "y_pred = lr_model_balanced.predict(X_test)\n",
    "confmat = confusion_matrix(y_test,y_pred)\n",
    "plot_confusion_matrix(confmat)\n",
    "calcula_metricas(confmat)\n"
   ]
  },
  {
   "cell_type": "code",
   "execution_count": 72,
   "metadata": {},
   "outputs": [
    {
     "data": {
      "image/png": "[encoded data removed]",
      "text/plain": [
       "<Figure size 432x288 with 1 Axes>"
      ]
     },
     "metadata": {
      "needs_background": "light"
     },
     "output_type": "display_data"
    }
   ],
   "source": [
    "y_prob = lr_model_balanced.predict_proba(X_test)[:,1]\n",
    "\n",
    "ejex, ejey, _ = roc_curve(y_test, y_prob)\n",
    "roc_auc = auc(ejex, ejey)\n",
    "\n",
    "plt.figure()\n",
    "plt.plot(ejex, ejey, color='darkorange',lw=2, label='AUC = %0.2f' % roc_auc)\n",
    "\n",
    "plt.plot([0, 1], [0, 1], color=(0.6, 0.6, 0.6), linestyle='--')\n",
    "plt.plot([0, 0, 1],[0, 1, 1],lw=2, linestyle=':',color='black',label='Clasificador perfecto')\n",
    "\n",
    "plt.xlim([-0.05, 1.05])\n",
    "plt.ylim([-0.05, 1.05])\n",
    "\n",
    "plt.xlabel('FPR (1-ESP)')\n",
    "plt.ylabel('SEN')\n",
    "plt.legend(loc=\"lower right\")\n",
    "plt.show()"
   ]
  },
  {
   "cell_type": "markdown",
   "metadata": {},
   "source": [
    "Hemos aumentado ligeramente nuestro AUC utilizando el balanceo y F1-score. A cambio, como era de preveer, se ha reducido nuestra exactitud."
   ]
  },
  {
   "cell_type": "markdown",
   "metadata": {},
   "source": [
    "## Clasificación mediante un modelo de árbol de decisión"
   ]
  },
  {
   "cell_type": "code",
   "execution_count": 73,
   "metadata": {},
   "outputs": [
    {
     "name": "stdout",
     "output_type": "stream",
     "text": [
      "best mean cross-validation score: 0.662\n",
      "best parameters: {'max_depth': 8}\n"
     ]
    },
    {
     "data": {
      "image/png": "[encoded data removed]",
      "text/plain": [
       "<Figure size 432x288 with 1 Axes>"
      ]
     },
     "metadata": {
      "needs_background": "light"
     },
     "output_type": "display_data"
    }
   ],
   "source": [
    "# Buscamos el parámetro libre\n",
    "maxDepth = range(1,10)\n",
    "param_grid = {'max_depth': maxDepth }\n",
    "# Con scoring F1.\n",
    "grid = GridSearchCV(DecisionTreeClassifier(random_state=0), scoring='f1', param_grid=param_grid, cv = 10)\n",
    "grid.fit(X_train, y_train)\n",
    "print(\"best mean cross-validation score: {:.3f}\".format(grid.best_score_))\n",
    "print(\"best parameters: {}\".format(grid.best_params_))\n",
    "\n",
    "scores = np.array(grid.cv_results_['mean_test_score'])\n",
    "plt.plot(maxDepth,scores,'-o')\n",
    "plt.xlabel('max_depth',fontsize=16)\n",
    "plt.ylabel('10-Fold MSE')\n",
    "\n",
    "plt.show()"
   ]
  },
  {
   "cell_type": "code",
   "execution_count": 74,
   "metadata": {},
   "outputs": [
    {
     "name": "stdout",
     "output_type": "stream",
     "text": [
      "Train:  0.85988335130055\n",
      "Test:  0.8551686014372581\n"
     ]
    }
   ],
   "source": [
    "# Miramos el resultado del modelo en test\n",
    "maxDepthOptimo = grid.best_params_['max_depth']\n",
    "treeModel = DecisionTreeClassifier(max_depth=maxDepthOptimo).fit(X_train,y_train)\n",
    "\n",
    "print(\"Train: \",treeModel.score(X_train,y_train))\n",
    "print(\"Test: \",treeModel.score(X_test,y_test))"
   ]
  },
  {
   "cell_type": "code",
   "execution_count": 76,
   "metadata": {},
   "outputs": [
    {
     "name": "stdout",
     "output_type": "stream",
     "text": [
      "Train score:\n",
      "===========\n"
     ]
    },
    {
     "data": {
      "image/png": "[encoded data removed]",
      "text/plain": [
       "<Figure size 216x216 with 1 Axes>"
      ]
     },
     "metadata": {
      "needs_background": "light"
     },
     "output_type": "display_data"
    },
    {
     "name": "stdout",
     "output_type": "stream",
     "text": [
      "ACC:  0.85988335130055\n",
      "SEN:  0.5863261209011822\n",
      "ESP:  0.9500202124140973\n",
      "PPV:  0.7944687925041559\n",
      "FSC:  0.6747096194571006\n"
     ]
    },
    {
     "data": {
      "image/png": "[encoded data removed]",
      "text/plain": [
       "<Figure size 432x288 with 1 Axes>"
      ]
     },
     "metadata": {
      "needs_background": "light"
     },
     "output_type": "display_data"
    },
    {
     "name": "stdout",
     "output_type": "stream",
     "text": [
      "Test score:\n",
      "===========\n"
     ]
    },
    {
     "data": {
      "image/png": "[encoded data removed]",
      "text/plain": [
       "<Figure size 216x216 with 1 Axes>"
      ]
     },
     "metadata": {
      "needs_background": "light"
     },
     "output_type": "display_data"
    },
    {
     "name": "stdout",
     "output_type": "stream",
     "text": [
      "ACC:  0.8551686014372581\n",
      "SEN:  0.5744870651204282\n",
      "ESP:  0.9476701455240335\n",
      "PPV:  0.7834549878345499\n",
      "FSC:  0.662892434379825\n"
     ]
    },
    {
     "data": {
      "image/png": "[encoded data removed]",
      "text/plain": [
       "<Figure size 432x288 with 1 Axes>"
      ]
     },
     "metadata": {
      "needs_background": "light"
     },
     "output_type": "display_data"
    }
   ],
   "source": [
    "print(\"Train score:\")\n",
    "print(\"===========\")\n",
    "y_pred = treeModel.predict(X_train)\n",
    "confmat = confusion_matrix(y_train,y_pred)\n",
    "plot_confusion_matrix(confmat)\n",
    "calcula_metricas(confmat)\n",
    "\n",
    "print(\"Test score:\")\n",
    "print(\"===========\")\n",
    "y_pred = treeModel.predict(X_test)\n",
    "confmat = confusion_matrix(y_test,y_pred)\n",
    "plot_confusion_matrix(confmat)\n",
    "calcula_metricas(confmat)\n"
   ]
  },
  {
   "cell_type": "code",
   "execution_count": 77,
   "metadata": {},
   "outputs": [
    {
     "data": {
      "image/png": "[encoded data removed]",
      "text/plain": [
       "<Figure size 432x288 with 1 Axes>"
      ]
     },
     "metadata": {
      "needs_background": "light"
     },
     "output_type": "display_data"
    }
   ],
   "source": [
    "y_prob = treeModel.predict_proba(X_test)[:,1]\n",
    "\n",
    "ejex, ejey, _ = roc_curve(y_test, y_prob)\n",
    "roc_auc = auc(ejex, ejey)\n",
    "\n",
    "plt.figure()\n",
    "plt.plot(ejex, ejey, color='darkorange',lw=2, label='AUC = %0.2f' % roc_auc)\n",
    "\n",
    "plt.plot([0, 1], [0, 1], color=(0.6, 0.6, 0.6), linestyle='--')\n",
    "plt.plot([0, 0, 1],[0, 1, 1],lw=2, linestyle=':',color='black',label='Clasificador perfecto')\n",
    "\n",
    "plt.xlim([-0.05, 1.05])\n",
    "plt.ylim([-0.05, 1.05])\n",
    "\n",
    "plt.xlabel('FPR (1-ESP)')\n",
    "plt.ylabel('SEN')\n",
    "plt.legend(loc=\"lower right\")\n",
    "plt.show()"
   ]
  },
  {
   "cell_type": "markdown",
   "metadata": {},
   "source": [
    "Con nuestro modelo de clasificación mediante árbol de decisión, **hemos ganado en sensibilidad**, aumentando el área bajo la curva ROC al 90%."
   ]
  },
  {
   "cell_type": "markdown",
   "metadata": {},
   "source": [
    "## Clasificación mediante Knn"
   ]
  },
  {
   "cell_type": "code",
   "execution_count": 78,
   "metadata": {},
   "outputs": [
    {
     "name": "stdout",
     "output_type": "stream",
     "text": [
      "best mean cross-validation score: 0.847\n",
      "best parameters: {'n_neighbors': 8}\n"
     ]
    }
   ],
   "source": [
    "from sklearn.neighbors import KNeighborsClassifier\n",
    "N_neighbors=np.arange(1,10)\n",
    "param_grid = {'n_neighbors': N_neighbors}\n",
    "grid = GridSearchCV(KNeighborsClassifier(), param_grid=param_grid, cv = 5)\n",
    "grid.fit(X_train, y_train)\n",
    "print(\"best mean cross-validation score: {:.3f}\".format(grid.best_score_))\n",
    "print(\"best parameters: {}\".format(grid.best_params_))"
   ]
  },
  {
   "cell_type": "code",
   "execution_count": 79,
   "metadata": {},
   "outputs": [
    {
     "name": "stdout",
     "output_type": "stream",
     "text": [
      "R2 Train:  0.8778505680404677\n",
      "R2 Test:  0.8485351022664456\n"
     ]
    }
   ],
   "source": [
    "Best_Neighbor = grid.best_params_['n_neighbors']\n",
    "\n",
    "Knn= KNeighborsClassifier(n_neighbors=Best_Neighbor)\n",
    "Knn.fit(X_train,y_train)\n",
    "\n",
    "print(\"R2 Train: \", Knn.score(X_train,y_train))\n",
    "print(\"R2 Test: \", Knn.score(X_test,y_test))"
   ]
  },
  {
   "cell_type": "code",
   "execution_count": 80,
   "metadata": {},
   "outputs": [
    {
     "name": "stdout",
     "output_type": "stream",
     "text": [
      "Train score:\n",
      "===========\n"
     ]
    },
    {
     "data": {
      "image/png": "[encoded data removed]",
      "text/plain": [
       "<Figure size 216x216 with 1 Axes>"
      ]
     },
     "metadata": {
      "needs_background": "light"
     },
     "output_type": "display_data"
    },
    {
     "name": "stdout",
     "output_type": "stream",
     "text": [
      "ACC:  0.8778505680404677\n",
      "SEN:  0.6325005576622797\n",
      "ESP:  0.9586931755540039\n",
      "PPV:  0.8345842531272994\n",
      "FSC:  0.7196243893153986\n"
     ]
    },
    {
     "data": {
      "image/png": "[encoded data removed]",
      "text/plain": [
       "<Figure size 432x288 with 1 Axes>"
      ]
     },
     "metadata": {
      "needs_background": "light"
     },
     "output_type": "display_data"
    },
    {
     "name": "stdout",
     "output_type": "stream",
     "text": [
      "Test score:\n",
      "===========\n"
     ]
    },
    {
     "data": {
      "image/png": "[encoded data removed]",
      "text/plain": [
       "<Figure size 216x216 with 1 Axes>"
      ]
     },
     "metadata": {
      "needs_background": "light"
     },
     "output_type": "display_data"
    },
    {
     "name": "stdout",
     "output_type": "stream",
     "text": [
      "ACC:  0.8485351022664456\n",
      "SEN:  0.5776092774308653\n",
      "ESP:  0.937821549316478\n",
      "PPV:  0.7537834691501746\n",
      "FSC:  0.6540404040404041\n"
     ]
    },
    {
     "data": {
      "image/png": "[encoded data removed]",
      "text/plain": [
       "<Figure size 432x288 with 1 Axes>"
      ]
     },
     "metadata": {
      "needs_background": "light"
     },
     "output_type": "display_data"
    }
   ],
   "source": [
    "print(\"Train score:\")\n",
    "print(\"===========\")\n",
    "y_pred = Knn.predict(X_train)\n",
    "confmat = confusion_matrix(y_train,y_pred)\n",
    "plot_confusion_matrix(confmat)\n",
    "calcula_metricas(confmat)\n",
    "\n",
    "print(\"Test score:\")\n",
    "print(\"===========\")\n",
    "y_pred = Knn.predict(X_test)\n",
    "confmat = confusion_matrix(y_test,y_pred)\n",
    "plot_confusion_matrix(confmat)\n",
    "calcula_metricas(confmat)\n"
   ]
  },
  {
   "cell_type": "code",
   "execution_count": 81,
   "metadata": {},
   "outputs": [
    {
     "data": {
      "image/png": "[encoded data removed]",
      "text/plain": [
       "<Figure size 432x288 with 1 Axes>"
      ]
     },
     "metadata": {
      "needs_background": "light"
     },
     "output_type": "display_data"
    }
   ],
   "source": [
    "y_prob = Knn.predict_proba(X_test)[:,1]\n",
    "\n",
    "ejex, ejey, _ = roc_curve(y_test, y_prob)\n",
    "roc_auc = auc(ejex, ejey)\n",
    "\n",
    "plt.figure()\n",
    "plt.plot(ejex, ejey, color='darkorange',lw=2, label='AUC = %0.2f' % roc_auc)\n",
    "\n",
    "plt.plot([0, 1], [0, 1], color=(0.6, 0.6, 0.6), linestyle='--')\n",
    "plt.plot([0, 0, 1],[0, 1, 1],lw=2, linestyle=':',color='black',label='Clasificador perfecto')\n",
    "\n",
    "plt.xlim([-0.05, 1.05])\n",
    "plt.ylim([-0.05, 1.05])\n",
    "\n",
    "plt.xlabel('FPR (1-ESP)')\n",
    "plt.ylabel('SEN')\n",
    "plt.legend(loc=\"lower right\")\n",
    "plt.show()"
   ]
  },
  {
   "cell_type": "markdown",
   "metadata": {},
   "source": [
    "Con el modelo de vecinos más cercanos, seguimos aumentado la sensibilidad del modelo. El AUC se mantiene cerca del 0.90."
   ]
  },
  {
   "cell_type": "markdown",
   "metadata": {},
   "source": [
    "## Clasificación mediante RandomForest"
   ]
  },
  {
   "cell_type": "markdown",
   "metadata": {},
   "source": [
    "Primeramente vamos a encontrar el parámetro de profundidad del árbol del randomForest mediante validación cruzada, fijando el número de árboles del bosque.   \n",
    "Para ello vamos a generar 4 casos, con 50, 100, 200 y 500, controlando la salida.    \n",
    "Nos interesa ver que los errores se mantienen estables conforme aumentamos el número de árboles."
   ]
  },
  {
   "cell_type": "code",
   "execution_count": 82,
   "metadata": {},
   "outputs": [
    {
     "name": "stdout",
     "output_type": "stream",
     "text": [
      "best mean cross-validation score: 0.860\n",
      "best parameters: {'max_depth': 14}\n"
     ]
    },
    {
     "data": {
      "image/png": "[encoded data removed]",
      "text/plain": [
       "<Figure size 432x288 with 1 Axes>"
      ]
     },
     "metadata": {
      "needs_background": "light"
     },
     "output_type": "display_data"
    }
   ],
   "source": [
    "# Encontramos los parámetros libres del RandomForest\n",
    "# Optimizar para el número de cores. n_jobs\n",
    "from sklearn.ensemble import RandomForestClassifier\n",
    "\n",
    "# grid search\n",
    "maxDepth = range(1,15)\n",
    "tuned_parameters = {'max_depth': maxDepth}\n",
    "\n",
    "grid = GridSearchCV(RandomForestClassifier(random_state=0, n_estimators=500, max_features='sqrt'), param_grid=tuned_parameters,cv=10) \n",
    "grid.fit(X_train, y_train)\n",
    "\n",
    "print(\"best mean cross-validation score: {:.3f}\".format(grid.best_score_))\n",
    "print(\"best parameters: {}\".format(grid.best_params_))\n",
    "\n",
    "scores = np.array(grid.cv_results_['mean_test_score'])\n",
    "plt.plot(maxDepth,scores,'-o')\n",
    "plt.xlabel('max_depth')\n",
    "plt.ylabel('10-fold ACC')\n",
    "\n",
    "plt.show()"
   ]
  },
  {
   "cell_type": "code",
   "execution_count": 83,
   "metadata": {},
   "outputs": [
    {
     "name": "stdout",
     "output_type": "stream",
     "text": [
      "Train:  0.8786245404538795\n",
      "Test:  0.8606965174129353\n"
     ]
    }
   ],
   "source": [
    "maxDepthOptimo = grid.best_params_['max_depth']\n",
    "bagModel = RandomForestClassifier(max_depth=maxDepthOptimo,n_estimators=100,max_features='sqrt').fit(X_train,y_train)\n",
    "\n",
    "print(\"Train: \",bagModel.score(X_train,y_train))\n",
    "print(\"Test: \",bagModel.score(X_test,y_test))"
   ]
  },
  {
   "cell_type": "markdown",
   "metadata": {},
   "source": [
    "**Random forest Results:**\n",
    "- n_Estimators: 50, depth: 13, Train: 0.8794, Test: 0.8646\n",
    "- n_Estimators: 100, depth: 13, Train: 0.8795, Test: 0.8656\n",
    "- n_Estimators: 200, depth: 14, Train: 0.8853, Test:  0.8673\n",
    "- n_Estimators: 500, depth: 14, Train: 0.8840, Test:  0.8664\n",
    "\n",
    "Podemos observar como el error se mantiene estable conforme aumentamos la complejidad del modelo con las variables seleccionadas. \n",
    "\n",
    "El mejor valor lo obtenemos con un bosque compuesto por 100 árboles, ya que aunque con 200 tenemos mejor métrica, la diferencia entre entrenamiento y test también aumenta. Entre 100 y 200, por Occam, mejor 100.\n",
    "\n",
    "Como observación, la mejoría encontrada con random forest  y el árbol de decisión, con un 0.8540, es despreciable."
   ]
  },
  {
   "cell_type": "code",
   "execution_count": 84,
   "metadata": {},
   "outputs": [
    {
     "name": "stdout",
     "output_type": "stream",
     "text": [
      "Train score:\n",
      "===========\n"
     ]
    },
    {
     "data": {
      "image/png": "[encoded data removed]",
      "text/plain": [
       "<Figure size 216x216 with 1 Axes>"
      ]
     },
     "metadata": {
      "needs_background": "light"
     },
     "output_type": "display_data"
    },
    {
     "name": "stdout",
     "output_type": "stream",
     "text": [
      "ACC:  0.8786245404538795\n",
      "SEN:  0.6423154137854116\n",
      "ESP:  0.956488184925214\n",
      "PPV:  0.8294685294541264\n",
      "FSC:  0.7239927085297632\n"
     ]
    },
    {
     "data": {
      "image/png": "[encoded data removed]",
      "text/plain": [
       "<Figure size 432x288 with 1 Axes>"
      ]
     },
     "metadata": {
      "needs_background": "light"
     },
     "output_type": "display_data"
    },
    {
     "name": "stdout",
     "output_type": "stream",
     "text": [
      "Test score:\n",
      "===========\n"
     ]
    },
    {
     "data": {
      "image/png": "[encoded data removed]",
      "text/plain": [
       "<Figure size 216x216 with 1 Axes>"
      ]
     },
     "metadata": {
      "needs_background": "light"
     },
     "output_type": "display_data"
    },
    {
     "name": "stdout",
     "output_type": "stream",
     "text": [
      "ACC:  0.8606965174129353\n",
      "SEN:  0.5981266726137378\n",
      "ESP:  0.9472291636042922\n",
      "PPV:  0.7888235294117647\n",
      "FSC:  0.680365296803653\n"
     ]
    },
    {
     "data": {
      "image/png": "[encoded data removed]",
      "text/plain": [
       "<Figure size 432x288 with 1 Axes>"
      ]
     },
     "metadata": {
      "needs_background": "light"
     },
     "output_type": "display_data"
    }
   ],
   "source": [
    "print(\"Train score:\")\n",
    "print(\"===========\")\n",
    "y_pred = bagModel.predict(X_train)\n",
    "confmat = confusion_matrix(y_train,y_pred)\n",
    "plot_confusion_matrix(confmat)\n",
    "calcula_metricas(confmat)\n",
    "\n",
    "print(\"Test score:\")\n",
    "print(\"===========\")\n",
    "y_pred = bagModel.predict(X_test)\n",
    "confmat = confusion_matrix(y_test,y_pred)\n",
    "plot_confusion_matrix(confmat)\n",
    "calcula_metricas(confmat)"
   ]
  },
  {
   "cell_type": "code",
   "execution_count": 85,
   "metadata": {},
   "outputs": [
    {
     "data": {
      "image/png": "[encoded data removed]",
      "text/plain": [
       "<Figure size 432x288 with 1 Axes>"
      ]
     },
     "metadata": {
      "needs_background": "light"
     },
     "output_type": "display_data"
    }
   ],
   "source": [
    "y_prob = bagModel.predict_proba(X_test)[:,1]\n",
    "\n",
    "ejex, ejey, _ = roc_curve(y_test, y_prob)\n",
    "roc_auc = auc(ejex, ejey)\n",
    "\n",
    "plt.figure()\n",
    "plt.plot(ejex, ejey, color='darkorange',lw=2, label='AUC = %0.2f' % roc_auc)\n",
    "\n",
    "plt.plot([0, 1], [0, 1], color=(0.6, 0.6, 0.6), linestyle='--')\n",
    "plt.plot([0, 0, 1],[0, 1, 1],lw=2, linestyle=':',color='black',label='Clasificador perfecto')\n",
    "\n",
    "plt.xlim([-0.05, 1.05])\n",
    "plt.ylim([-0.05, 1.05])\n",
    "\n",
    "plt.xlabel('FPR (1-ESP)')\n",
    "plt.ylabel('SEN')\n",
    "plt.legend(loc=\"lower right\")\n",
    "plt.show()"
   ]
  },
  {
   "cell_type": "markdown",
   "metadata": {},
   "source": [
    "Se ha aumentado la sensibilidad a 0.64 y el AUC a 0.92 con una exactitud del 0.88"
   ]
  },
  {
   "cell_type": "markdown",
   "metadata": {},
   "source": [
    "## Clasificación mediante Boosted Trees"
   ]
  },
  {
   "cell_type": "code",
   "execution_count": 86,
   "metadata": {},
   "outputs": [
    {
     "name": "stdout",
     "output_type": "stream",
     "text": [
      "best mean cross-validation score: 0.870\n",
      "best parameters: {'learning_rate': 0.5, 'n_estimators': 125}\n"
     ]
    }
   ],
   "source": [
    "from sklearn.ensemble import GradientBoostingClassifier \n",
    "\n",
    "Niterations = [25,50,75,100,125,150]\n",
    "learningRate = [0.5,0.1,0.05,0.01]\n",
    "# mantenemos max_depth estático: max_depth=3\n",
    "\n",
    "param_grid = {'n_estimators': Niterations,'learning_rate':learningRate }\n",
    "grid = GridSearchCV(GradientBoostingClassifier(random_state=0, max_depth=3), param_grid=param_grid, cv = 5)\n",
    "grid.fit(X_train, y_train)\n",
    "print(\"best mean cross-validation score: {:.3f}\".format(grid.best_score_))\n",
    "print(\"best parameters: {}\".format(grid.best_params_))"
   ]
  },
  {
   "cell_type": "markdown",
   "metadata": {},
   "source": [
    "Booted Tree Values: Learning rate: 0.5; n_estimators: 100; max_depth=3; Score: 0.867"
   ]
  },
  {
   "cell_type": "code",
   "execution_count": 87,
   "metadata": {},
   "outputs": [
    {
     "data": {
      "image/png": "[encoded data removed]",
      "text/plain": [
       "<Figure size 576x432 with 1 Axes>"
      ]
     },
     "metadata": {
      "needs_background": "light"
     },
     "output_type": "display_data"
    }
   ],
   "source": [
    "# calculamos métricas globales\n",
    "bt = GradientBoostingClassifier(random_state=0, max_depth=3,learning_rate= 0.5, n_estimators= 125)\n",
    "bt.fit(X_train,y_train)\n",
    "\n",
    "error = 1-grid.cv_results_['mean_test_score'].reshape(len(learningRate),len(Niterations))\n",
    "colors = ['r','b','g','k','m']\n",
    "plt.figure(figsize=(8,6))\n",
    "for i,lr in enumerate(learningRate):    \n",
    "    plt.plot(Niterations,error[i,:],colors[i] + '--o',label='lr = %g'%lr)\n",
    "\n",
    "plt.legend()\n",
    "plt.xlabel('# iteraciones')\n",
    "plt.ylabel('5-fold CV Error')\n",
    "plt.title('train: %0.3f\\ntest:  %0.3f'%(bt.score(X_train,y_train),bt.score(X_test,y_test)))\n",
    "plt.grid()\n",
    "plt.show()"
   ]
  },
  {
   "cell_type": "markdown",
   "metadata": {},
   "source": [
    "El parámetro de learning rate escogido es el que tiene el error más bajo. \n",
    "No obstante, el de 0.1 parece que tiene un mejor comportamiento. \n",
    "Miraremos si aumentando el número de árboles sobre este learning rate conseguimos mejorar el score."
   ]
  },
  {
   "cell_type": "code",
   "execution_count": 88,
   "metadata": {
    "scrolled": true
   },
   "outputs": [
    {
     "name": "stdout",
     "output_type": "stream",
     "text": [
      "Train:  0.8794537966111065\n",
      "Test:  0.872636815920398\n"
     ]
    }
   ],
   "source": [
    "bt = GradientBoostingClassifier(random_state=0, max_depth=3,learning_rate= 0.1, n_estimators= 500)\n",
    "bt.fit(X_train,y_train)\n",
    "\n",
    "print(\"Train: \",bt.score(X_train,y_train))\n",
    "print(\"Test: \",bt.score(X_test,y_test))"
   ]
  },
  {
   "cell_type": "markdown",
   "metadata": {},
   "source": [
    "Vemos que se ha mejorado el scoring aumentando el número de iteraciones a 500. \n",
    "\n",
    "Calcularemos su matriz de confusión y Curva ROC bajo estos parámetros."
   ]
  },
  {
   "cell_type": "code",
   "execution_count": 89,
   "metadata": {},
   "outputs": [
    {
     "name": "stdout",
     "output_type": "stream",
     "text": [
      "Train score:\n",
      "===========\n"
     ]
    },
    {
     "data": {
      "image/png": "[encoded data removed]",
      "text/plain": [
       "<Figure size 216x216 with 1 Axes>"
      ]
     },
     "metadata": {
      "needs_background": "light"
     },
     "output_type": "display_data"
    },
    {
     "name": "stdout",
     "output_type": "stream",
     "text": [
      "ACC:  0.8794537966111065\n",
      "SEN:  0.6757751505688155\n",
      "ESP:  0.9465657270956599\n",
      "PPV:  0.8064687874351125\n",
      "FSC:  0.7353601553492324\n"
     ]
    },
    {
     "data": {
      "image/png": "[encoded data removed]",
      "text/plain": [
       "<Figure size 432x288 with 1 Axes>"
      ]
     },
     "metadata": {
      "needs_background": "light"
     },
     "output_type": "display_data"
    },
    {
     "name": "stdout",
     "output_type": "stream",
     "text": [
      "Test score:\n",
      "===========\n"
     ]
    },
    {
     "data": {
      "image/png": "[encoded data removed]",
      "text/plain": [
       "<Figure size 216x216 with 1 Axes>"
      ]
     },
     "metadata": {
      "needs_background": "light"
     },
     "output_type": "display_data"
    },
    {
     "name": "stdout",
     "output_type": "stream",
     "text": [
      "ACC:  0.872636815920398\n",
      "SEN:  0.6641391614629795\n",
      "ESP:  0.9413494046744083\n",
      "PPV:  0.7886652542372882\n",
      "FSC:  0.7210653753026635\n"
     ]
    },
    {
     "data": {
      "image/png": "[encoded data removed]",
      "text/plain": [
       "<Figure size 432x288 with 1 Axes>"
      ]
     },
     "metadata": {
      "needs_background": "light"
     },
     "output_type": "display_data"
    }
   ],
   "source": [
    "print(\"Train score:\")\n",
    "print(\"===========\")\n",
    "y_pred = bt.predict(X_train)\n",
    "confmat = confusion_matrix(y_train,y_pred)\n",
    "plot_confusion_matrix(confmat)\n",
    "calcula_metricas(confmat)\n",
    "\n",
    "print(\"Test score:\")\n",
    "print(\"===========\")\n",
    "y_pred = bt.predict(X_test)\n",
    "confmat = confusion_matrix(y_test,y_pred)\n",
    "plot_confusion_matrix(confmat)\n",
    "calcula_metricas(confmat)"
   ]
  },
  {
   "cell_type": "code",
   "execution_count": 90,
   "metadata": {},
   "outputs": [
    {
     "data": {
      "image/png": "[encoded data removed]",
      "text/plain": [
       "<Figure size 432x288 with 1 Axes>"
      ]
     },
     "metadata": {
      "needs_background": "light"
     },
     "output_type": "display_data"
    }
   ],
   "source": [
    "y_prob = bt.predict_proba(X_test)[:,1]\n",
    "\n",
    "ejex, ejey, _ = roc_curve(y_test, y_prob)\n",
    "roc_auc = auc(ejex, ejey)\n",
    "\n",
    "plt.figure()\n",
    "plt.plot(ejex, ejey, color='darkorange',lw=2, label='AUC = %0.2f' % roc_auc)\n",
    "\n",
    "plt.plot([0, 1], [0, 1], color=(0.6, 0.6, 0.6), linestyle='--')\n",
    "plt.plot([0, 0, 1],[0, 1, 1],lw=2, linestyle=':',color='black',label='Clasificador perfecto')\n",
    "\n",
    "plt.xlim([-0.05, 1.05])\n",
    "plt.ylim([-0.05, 1.05])\n",
    "\n",
    "plt.xlabel('FPR (1-ESP)')\n",
    "plt.ylabel('SEN')\n",
    "plt.legend(loc=\"lower right\")\n",
    "plt.show()"
   ]
  },
  {
   "cell_type": "markdown",
   "metadata": {},
   "source": [
    "La curva ROC evidencia la robustez del algoritmo de Boosted Tree."
   ]
  },
  {
   "cell_type": "markdown",
   "metadata": {},
   "source": [
    "# Conclusiones"
   ]
  },
  {
   "cell_type": "markdown",
   "metadata": {},
   "source": [
    "A continuación se expone una tabla con las métricas por modelo encontradas.  \n",
    "Recordar que nos encontramos ante una muestra que contine la variable target desbalanceada, cosa que nos ha obligado a ajustar el modelo.\n",
    "\n",
    "\n",
    "| Modelo | Acc | Sen | Esp | PPV | FSC | AUC |\n",
    "| ------ | --- | --- | --- | --- | --- | --- |\n",
    "| Regresión logística | 0.85 | 0.60 | 0.93 | 0.74 | 0.67 | 0.90 |\n",
    "| Regresión logísticca balanceada | 0.80 | 0.84 | 0.79 | 0.57 | 0.68 | 0.90 |\n",
    "| Árbol de decisión | 0.86 | 0.57 | 0.94 | 0.78 | 0.66 | 0.90 |\n",
    "| Vecinos más cercanos (Knn) | 0.85 | 0.58 | 0.94 | 0.75 | 0.65 |0.89 |\n",
    "| Random Forest | 0.86 | 0.60 | 0.94 | 0.79 |0.68 | 0.91 |\n",
    "| Boosted Tree | 0.87 | 0.66 |0.94 | 0.79 | 0.72 | 0.93 |"
   ]
  },
  {
   "cell_type": "markdown",
   "metadata": {},
   "source": [
    "Si recapitulamos, las pruebas entre los diferentes algoritmos se ha efectuado con una selección de las variables predictoras encontradas mediante un concenso entre diferentes métodos:\n",
    "\n",
    "<div class = \"alert alert-info\">\n",
    "'relationship', 'workclass', 'capital_loss', 'education_num', 'age', 'hours_per_week', 'capital_gain', 'occupation'\n",
    "</div>\n",
    "\n",
    "A la vista de los datos obtenidos, y mirando los resultados del F1-score, que nos indica la relación entre la sensibilidad y la precisión, junto con el área bajo la curva ROC, nos inclinamos por un modelo de **Boosted Tree, que nos ofrece una mayor robustez**. "
   ]
  }
 ],
 "metadata": {
  "kernelspec": {
   "display_name": "Python 3",
   "language": "python",
   "name": "python3"
  },
  "language_info": {
   "codemirror_mode": {
    "name": "ipython",
    "version": 3
   },
   "file_extension": ".py",
   "mimetype": "text/x-python",
   "name": "python",
   "nbconvert_exporter": "python",
   "pygments_lexer": "ipython3",
   "version": "3.7.2"
  }
 },
 "nbformat": 4,
 "nbformat_minor": 2
}
