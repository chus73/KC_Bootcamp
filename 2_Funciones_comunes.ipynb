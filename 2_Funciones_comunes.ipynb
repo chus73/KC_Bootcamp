{
  "nbformat": 4,
  "nbformat_minor": 0,
  "metadata": {
    "kernelspec": {
      "display_name": "R",
      "language": "R",
      "name": "ir"
    },
    "language_info": {
      "codemirror_mode": "r",
      "file_extension": ".r",
      "mimetype": "text/x-r-source",
      "name": "R",
      "pygments_lexer": "r",
      "version": "3.2.3"
    },
    "colab": {
      "name": "2 - Funciones comunes.ipynb",
      "provenance": [],
      "toc_visible": true,
      "include_colab_link": true
    }
  },
  "cells": [
    {
      "cell_type": "markdown",
      "metadata": {
        "id": "view-in-github",
        "colab_type": "text"
      },
      "source": [
        "<a href=\"https://colab.research.google.com/github/chus73/KC_Bootcamp/blob/master/2_Funciones_comunes.ipynb\" target=\"_parent\"><img src=\"https://colab.research.google.com/assets/colab-badge.svg\" alt=\"Open In Colab\"/></a>"
      ]
    },
    {
      "cell_type": "markdown",
      "metadata": {
        "id": "d21wPNtgTuQI"
      },
      "source": [
        "# Funciones en R\n",
        "\n",
        "\n",
        "\n",
        "Vamos a crear nuestra primera función para restar dos números."
      ]
    },
    {
      "cell_type": "code",
      "metadata": {
        "id": "rCS9NY_0TuQK"
      },
      "source": [
        "restaDosNumeros<-function(x,y){\n",
        "    z <- x-y\n",
        "    return(z)\n",
        "}"
      ],
      "execution_count": null,
      "outputs": []
    },
    {
      "cell_type": "code",
      "metadata": {
        "id": "RUueyYZlTuQR",
        "outputId": "266b22e8-cdb0-4f65-a797-3944a9cd68be"
      },
      "source": [
        "restaDosNumeros"
      ],
      "execution_count": null,
      "outputs": [
        {
          "output_type": "display_data",
          "data": {
            "text/html": [
              "<pre class=language-r><code>function (x, y) \n",
              "{\n",
              "<span style=white-space:pre-wrap>    z &lt;- x - y</span>\n",
              "<span style=white-space:pre-wrap>    return(z)</span>\n",
              "}</code></pre>"
            ],
            "text/latex": "\\begin{minted}{r}\nfunction (x, y) \n\\{\n    z <- x - y\n    return(z)\n\\}\n\\end{minted}",
            "text/markdown": "```r\nfunction (x, y) \n{\n    z <- x - y\n    return(z)\n}\n```",
            "text/plain": [
              "function(x,y){\n",
              "    z <- x-y\n",
              "    return(z)\n",
              "}"
            ]
          },
          "metadata": {
            "tags": []
          }
        }
      ]
    },
    {
      "cell_type": "code",
      "metadata": {
        "id": "zW1zEoL_TuQW",
        "outputId": "f58e3b85-cf4e-41e6-9eb1-206ef25aadaf"
      },
      "source": [
        "restaDosNumeros(10,7)"
      ],
      "execution_count": null,
      "outputs": [
        {
          "output_type": "display_data",
          "data": {
            "text/html": [
              "3"
            ],
            "text/latex": "3",
            "text/markdown": "3",
            "text/plain": [
              "[1] 3"
            ]
          },
          "metadata": {
            "tags": []
          }
        }
      ]
    },
    {
      "cell_type": "markdown",
      "metadata": {
        "id": "9jA8i9-TTuQa"
      },
      "source": [
        "Podemos referenciar los parámetros por nombre:"
      ]
    },
    {
      "cell_type": "code",
      "metadata": {
        "id": "IFLj6N2rTuQa",
        "outputId": "d8326f68-4770-4e34-b3ea-4b4100ab2090"
      },
      "source": [
        "restaDosNumeros(y=15,x=7)"
      ],
      "execution_count": null,
      "outputs": [
        {
          "output_type": "display_data",
          "data": {
            "text/html": [
              "-8"
            ],
            "text/latex": "-8",
            "text/markdown": "-8",
            "text/plain": [
              "[1] -8"
            ]
          },
          "metadata": {
            "tags": []
          }
        }
      ]
    },
    {
      "cell_type": "markdown",
      "metadata": {
        "id": "DWXGJi81TuQe"
      },
      "source": [
        "Podemos definir parámetros opcionales con un valor por defecto."
      ]
    },
    {
      "cell_type": "code",
      "metadata": {
        "id": "p1klgN3KTuQe"
      },
      "source": [
        "restaDosNumerosConEscala<-function(x,y,scale = 1){\n",
        "    (x-y)*scale\n",
        "}"
      ],
      "execution_count": null,
      "outputs": []
    },
    {
      "cell_type": "code",
      "metadata": {
        "id": "0QRdZ1d5TuQm",
        "outputId": "c8025086-7f67-4f4f-d5aa-9682e35a99bf"
      },
      "source": [
        "restaDosNumerosConEscala(10,7)"
      ],
      "execution_count": null,
      "outputs": [
        {
          "output_type": "display_data",
          "data": {
            "text/html": [
              "3"
            ],
            "text/latex": "3",
            "text/markdown": "3",
            "text/plain": [
              "[1] 3"
            ]
          },
          "metadata": {
            "tags": []
          }
        }
      ]
    },
    {
      "cell_type": "code",
      "metadata": {
        "id": "CebN0wOeTuQq",
        "outputId": "8db6a999-1c1e-473d-dd6e-af72da49a768"
      },
      "source": [
        "restaDosNumerosConEscala(10,7,5)"
      ],
      "execution_count": null,
      "outputs": [
        {
          "output_type": "display_data",
          "data": {
            "text/html": [
              "15"
            ],
            "text/latex": "15",
            "text/markdown": "15",
            "text/plain": [
              "[1] 15"
            ]
          },
          "metadata": {
            "tags": []
          }
        }
      ]
    },
    {
      "cell_type": "markdown",
      "metadata": {
        "id": "FqDfxjHHTuQt"
      },
      "source": [
        "Las funciones en R son objetos como puede ser un número, un vector o un data frame."
      ]
    },
    {
      "cell_type": "code",
      "metadata": {
        "id": "c6yNtDQoTuQu",
        "outputId": "45ad155e-db67-403b-fe1a-d18d1e0794fa"
      },
      "source": [
        "ls()"
      ],
      "execution_count": null,
      "outputs": [
        {
          "output_type": "display_data",
          "data": {
            "text/html": [
              "<ol class=list-inline>\n",
              "\t<li>'restaDosNumeros'</li>\n",
              "\t<li>'restaDosNumerosConEscala'</li>\n",
              "</ol>\n"
            ],
            "text/latex": "\\begin{enumerate*}\n\\item 'restaDosNumeros'\n\\item 'restaDosNumerosConEscala'\n\\end{enumerate*}\n",
            "text/markdown": "1. 'restaDosNumeros'\n2. 'restaDosNumerosConEscala'\n\n\n",
            "text/plain": [
              "[1] \"restaDosNumeros\"          \"restaDosNumerosConEscala\""
            ]
          },
          "metadata": {
            "tags": []
          }
        }
      ]
    },
    {
      "cell_type": "markdown",
      "metadata": {
        "id": "wCzY8p8wTuQx"
      },
      "source": [
        "Podemos ver su contenido llamando al nombre del objeto, sin paréntesis."
      ]
    },
    {
      "cell_type": "code",
      "metadata": {
        "id": "MvnOtXOITuQy",
        "outputId": "939ec79a-41f7-44e2-a940-e6a28d366471"
      },
      "source": [
        "restaDosNumerosConEscala"
      ],
      "execution_count": null,
      "outputs": [
        {
          "output_type": "display_data",
          "data": {
            "text/html": [
              "<pre class=language-r><code>function (x, y, scale = 1) \n",
              "{\n",
              "<span style=white-space:pre-wrap>    (x - y) * scale</span>\n",
              "}</code></pre>"
            ],
            "text/latex": "\\begin{minted}{r}\nfunction (x, y, scale = 1) \n\\{\n    (x - y) * scale\n\\}\n\\end{minted}",
            "text/markdown": "```r\nfunction (x, y, scale = 1) \n{\n    (x - y) * scale\n}\n```",
            "text/plain": [
              "function(x,y,scale = 1){\n",
              "    (x-y)*scale\n",
              "}"
            ]
          },
          "metadata": {
            "tags": []
          }
        }
      ]
    },
    {
      "cell_type": "code",
      "metadata": {
        "id": "9YmhmQBWTuQ2",
        "outputId": "a6943982-f3c0-46b7-8eb4-1f27afe21387"
      },
      "source": [
        "seq"
      ],
      "execution_count": null,
      "outputs": [
        {
          "output_type": "display_data",
          "data": {
            "text/html": [
              "<pre class=language-r><code>function (...) \n",
              "UseMethod(\"seq\")</code></pre>"
            ],
            "text/latex": "\\begin{minted}{r}\nfunction (...) \nUseMethod(\"seq\")\n\\end{minted}",
            "text/markdown": "```r\nfunction (...) \nUseMethod(\"seq\")\n```",
            "text/plain": [
              "function (...) \n",
              "UseMethod(\"seq\")\n",
              "<bytecode: 0x3f357c8>\n",
              "<environment: namespace:base>"
            ]
          },
          "metadata": {
            "tags": []
          }
        }
      ]
    },
    {
      "cell_type": "markdown",
      "metadata": {
        "id": "1Lgk79pjTuQ6"
      },
      "source": [
        "## Estimador estadístico\n",
        "\n",
        "Vamos a ver varios ejemplos de funciones en R utilizando estimadores estadísticos.\n",
        "\n",
        "Un [estimador](https://es.wikipedia.org/wiki/Estimador) es un estadístico (esto es, una función de la muestra) usado para estimar un parámetro desconocido de la población.\n",
        "\n",
        "Un estimador es una función que coje valores de una muestra de datos y hace un resumen, **estima un valor que define la muestra**."
      ]
    },
    {
      "cell_type": "markdown",
      "metadata": {
        "id": "-nBiYmwHTuQ8"
      },
      "source": [
        "Como ejemplo de población utilizaremos el siguiente vector de alturas:"
      ]
    },
    {
      "cell_type": "code",
      "metadata": {
        "id": "SpMmzYbETuQ9"
      },
      "source": [
        "alturas<-c(1.80,1.60,1.50,1.90,1.75,1.63,1.65)"
      ],
      "execution_count": null,
      "outputs": []
    },
    {
      "cell_type": "markdown",
      "metadata": {
        "id": "E9fh4r6VTuRD"
      },
      "source": [
        "### Media aritmética\n",
        "\n",
        "En matemáticas y estadística, la [media aritmética](https://es.wikipedia.org/wiki/Media_aritm%C3%A9tica) (también llamada promedio o media) de un conjunto finito de números es el valor característico de una serie de datos cuantitativos, objeto de estudio que parte del principio de la esperanza matemática o valor esperado, se obtiene a partir de la suma de todos sus valores dividida entre el número de sumandos. "
      ]
    },
    {
      "cell_type": "markdown",
      "metadata": {
        "id": "CEuMEdKgTuRE"
      },
      "source": [
        "\\\\[ \\bar{x} =  \\frac{1}{N} \\sum _{i=1}^N x_i\\\\]"
      ]
    },
    {
      "cell_type": "markdown",
      "metadata": {
        "id": "L618m_0yTuRE"
      },
      "source": [
        "En R la función de la media se podría definir así:"
      ]
    },
    {
      "cell_type": "code",
      "metadata": {
        "id": "uMwsueS9TuRF"
      },
      "source": [
        "myMean<-function(X){\n",
        " m <- 0\n",
        " for (xi in X){\n",
        "    # print(paste(\"valor xi\",xi))\n",
        "     m<- m+xi\n",
        " }\n",
        " #for (i in 1:length(X)){\n",
        " #    m <- m+X[i]\n",
        " #}\n",
        " return(m/length(X))\n",
        "}"
      ],
      "execution_count": null,
      "outputs": []
    },
    {
      "cell_type": "code",
      "metadata": {
        "id": "1TBJZARGTuRJ",
        "outputId": "342ed1d7-bbc8-4ac4-8d6d-6b5da4020ad3"
      },
      "source": [
        "\n",
        "myMean(alturas)"
      ],
      "execution_count": null,
      "outputs": [
        {
          "output_type": "display_data",
          "data": {
            "text/html": [
              "1.69"
            ],
            "text/latex": "1.69",
            "text/markdown": "1.69",
            "text/plain": [
              "[1] 1.69"
            ]
          },
          "metadata": {
            "tags": []
          }
        }
      ]
    },
    {
      "cell_type": "markdown",
      "metadata": {
        "id": "mjfDwbTrTuRT"
      },
      "source": [
        "Evidentemente R tiene una función para la media cuya ejecución es mucho más rápida que nuestra función:"
      ]
    },
    {
      "cell_type": "code",
      "metadata": {
        "id": "2juu2LRZTuRU",
        "outputId": "901f6c6d-530a-44b6-e803-022fae46d9f8"
      },
      "source": [
        "mean(alturas)"
      ],
      "execution_count": null,
      "outputs": [
        {
          "output_type": "display_data",
          "data": {
            "text/html": [
              "1.69"
            ],
            "text/latex": "1.69",
            "text/markdown": "1.69",
            "text/plain": [
              "[1] 1.69"
            ]
          },
          "metadata": {
            "tags": []
          }
        }
      ]
    },
    {
      "cell_type": "code",
      "metadata": {
        "id": "eXWUtYkPTuRY",
        "outputId": "5c17849b-d6c1-49cf-b668-7157ee6ec2a8"
      },
      "source": [
        "alturasconNA<-c(alturas,NA,1.8,1.5)\n",
        "alturasconNA"
      ],
      "execution_count": null,
      "outputs": [
        {
          "output_type": "display_data",
          "data": {
            "text/html": [
              "<ol class=list-inline>\n",
              "\t<li>1.8</li>\n",
              "\t<li>1.6</li>\n",
              "\t<li>1.5</li>\n",
              "\t<li>1.9</li>\n",
              "\t<li>1.75</li>\n",
              "\t<li>1.63</li>\n",
              "\t<li>1.65</li>\n",
              "\t<li>&lt;NA&gt;</li>\n",
              "\t<li>1.8</li>\n",
              "\t<li>1.5</li>\n",
              "</ol>\n"
            ],
            "text/latex": "\\begin{enumerate*}\n\\item 1.8\n\\item 1.6\n\\item 1.5\n\\item 1.9\n\\item 1.75\n\\item 1.63\n\\item 1.65\n\\item <NA>\n\\item 1.8\n\\item 1.5\n\\end{enumerate*}\n",
            "text/markdown": "1. 1.8\n2. 1.6\n3. 1.5\n4. 1.9\n5. 1.75\n6. 1.63\n7. 1.65\n8. &lt;NA&gt;\n9. 1.8\n10. 1.5\n\n\n",
            "text/plain": [
              " [1] 1.80 1.60 1.50 1.90 1.75 1.63 1.65   NA 1.80 1.50"
            ]
          },
          "metadata": {
            "tags": []
          }
        }
      ]
    },
    {
      "cell_type": "code",
      "metadata": {
        "id": "YqaiMKAYTuRc",
        "outputId": "42bc5ca7-f68a-4e03-b7c2-3421c75602d9"
      },
      "source": [
        "mean(alturasconNA)\n",
        "mean(alturasconNA, na.rm = T)\n",
        "mean(na.omit(alturasconNA))"
      ],
      "execution_count": null,
      "outputs": [
        {
          "output_type": "display_data",
          "data": {
            "text/html": [
              "&lt;NA&gt;"
            ],
            "text/latex": "<NA>",
            "text/markdown": "&lt;NA&gt;",
            "text/plain": [
              "[1] NA"
            ]
          },
          "metadata": {
            "tags": []
          }
        },
        {
          "output_type": "display_data",
          "data": {
            "text/html": [
              "1.68111111111111"
            ],
            "text/latex": "1.68111111111111",
            "text/markdown": "1.68111111111111",
            "text/plain": [
              "[1] 1.681111"
            ]
          },
          "metadata": {
            "tags": []
          }
        },
        {
          "output_type": "display_data",
          "data": {
            "text/html": [
              "1.68111111111111"
            ],
            "text/latex": "1.68111111111111",
            "text/markdown": "1.68111111111111",
            "text/plain": [
              "[1] 1.681111"
            ]
          },
          "metadata": {
            "tags": []
          }
        }
      ]
    },
    {
      "cell_type": "markdown",
      "metadata": {
        "id": "bJacm5I2TuRg"
      },
      "source": [
        "### Media truncada\n",
        "\n",
        "La media truncada se utiliza cuando queremos quitar los $2p$ elementos más extremos ($p$ elementos por arriba y $p$ por abajo) del array del cómputo de la media. La media truncada es un estimador más robusto que la media.\n",
        "\n",
        "\\\\[ \\bar{x} =  \\frac{1}{N-2p} \\sum _{i=p+1}^{N-p} x_i\\\\]\n",
        "\n",
        "En R se utiliza la función $mean$ con el parámetro $trim$ que indica que porcentaje de elementos del array eliminamos antes de hacer la media"
      ]
    },
    {
      "cell_type": "code",
      "metadata": {
        "id": "4bR7_LJmTuRg",
        "outputId": "2d0edf8b-57a5-4b62-fa1c-7eab910c5eff"
      },
      "source": [
        "mean(alturas,trim = 0.2)"
      ],
      "execution_count": null,
      "outputs": [
        {
          "output_type": "display_data",
          "data": {
            "text/html": [
              "1.686"
            ],
            "text/latex": "1.686",
            "text/markdown": "1.686",
            "text/plain": [
              "[1] 1.686"
            ]
          },
          "metadata": {
            "tags": []
          }
        }
      ]
    },
    {
      "cell_type": "markdown",
      "metadata": {
        "id": "Aai88-cOTuRk"
      },
      "source": [
        "### Media geométrica\n",
        "\n",
        "La [media geométrica](https://es.wikipedia.org/wiki/Media_geom%C3%A9trica) de una cantidad arbitraria de números (por decir n números) es la raíz n-ésima del producto de todos los números."
      ]
    },
    {
      "cell_type": "markdown",
      "metadata": {
        "id": "oIBXNBIFTuRk"
      },
      "source": [
        "\\\\[  \\sqrt[N] {\\prod _{i=1}^N x_i }\\\\]\n",
        "\n",
        "Es equivalente a:\n",
        "\\\\[\n",
        "     e^{\\frac{1}{N} \\sum _{i=1}^N log(x_i)}\n",
        "\\\\]"
      ]
    },
    {
      "cell_type": "code",
      "metadata": {
        "id": "7yjPzrHRTuRl",
        "outputId": "3d6b52ba-8e98-4bf2-cc3e-d3be245ab3b3"
      },
      "source": [
        "myGeometricMean<-function(X,na.rm=F){   \n",
        "    if (na.rm){\n",
        "        X<- na.omit(X)\n",
        "    }\n",
        "    m <- 1\n",
        "    for (xi in X){\n",
        "     m<- m*xi\n",
        "    }\n",
        "    m^(1/length(X))\n",
        "}\n",
        "myGeometricMean2<-function(X,na.rm=F){\n",
        "    exp(mean(log(X),na.rm=na.rm))\n",
        "}\n",
        "myGeometricMean(alturasconNA,na.rm = T)\n",
        "myGeometricMean2(alturasconNA,na.rm = T)"
      ],
      "execution_count": null,
      "outputs": [
        {
          "output_type": "display_data",
          "data": {
            "text/html": [
              "1.67593335864239"
            ],
            "text/latex": "1.67593335864239",
            "text/markdown": "1.67593335864239",
            "text/plain": [
              "[1] 1.675933"
            ]
          },
          "metadata": {
            "tags": []
          }
        },
        {
          "output_type": "display_data",
          "data": {
            "text/html": [
              "1.67593335864239"
            ],
            "text/latex": "1.67593335864239",
            "text/markdown": "1.67593335864239",
            "text/plain": [
              "[1] 1.675933"
            ]
          },
          "metadata": {
            "tags": []
          }
        }
      ]
    },
    {
      "cell_type": "markdown",
      "metadata": {
        "id": "L58HkKl9TuRn"
      },
      "source": [
        "**¿Cual es el TAE medio en el cambio Bitcoins en doláres desde 2011?**\n",
        "\n",
        "En la siguiente tabla podemos ver el precio en dólares a final de cada año, junto con su revalorización porcentual durante ese año."
      ]
    },
    {
      "cell_type": "code",
      "metadata": {
        "id": "FCmEXpJ3TuRo",
        "outputId": "b4625510-7a77-493b-c3d7-5f07b11498b5"
      },
      "source": [
        "value[2:length(value)]\n",
        "value[1:(length(value)-1)]"
      ],
      "execution_count": null,
      "outputs": [
        {
          "output_type": "display_data",
          "data": {
            "text/html": [
              "<ol class=list-inline>\n",
              "\t<li>4.7</li>\n",
              "\t<li>13.2</li>\n",
              "\t<li>760</li>\n",
              "\t<li>316</li>\n",
              "\t<li>430</li>\n",
              "\t<li>980</li>\n",
              "\t<li>12000</li>\n",
              "\t<li>13400</li>\n",
              "</ol>\n"
            ],
            "text/latex": "\\begin{enumerate*}\n\\item 4.7\n\\item 13.2\n\\item 760\n\\item 316\n\\item 430\n\\item 980\n\\item 12000\n\\item 13400\n\\end{enumerate*}\n",
            "text/markdown": "1. 4.7\n2. 13.2\n3. 760\n4. 316\n5. 430\n6. 980\n7. 12000\n8. 13400\n\n\n",
            "text/plain": [
              "[1]     4.7    13.2   760.0   316.0   430.0   980.0 12000.0 13400.0"
            ]
          },
          "metadata": {
            "tags": []
          }
        },
        {
          "output_type": "display_data",
          "data": {
            "text/html": [
              "<ol class=list-inline>\n",
              "\t<li>0.3</li>\n",
              "\t<li>4.7</li>\n",
              "\t<li>13.2</li>\n",
              "\t<li>760</li>\n",
              "\t<li>316</li>\n",
              "\t<li>430</li>\n",
              "\t<li>980</li>\n",
              "\t<li>12000</li>\n",
              "</ol>\n"
            ],
            "text/latex": "\\begin{enumerate*}\n\\item 0.3\n\\item 4.7\n\\item 13.2\n\\item 760\n\\item 316\n\\item 430\n\\item 980\n\\item 12000\n\\end{enumerate*}\n",
            "text/markdown": "1. 0.3\n2. 4.7\n3. 13.2\n4. 760\n5. 316\n6. 430\n7. 980\n8. 12000\n\n\n",
            "text/plain": [
              "[1]     0.3     4.7    13.2   760.0   316.0   430.0   980.0 12000.0"
            ]
          },
          "metadata": {
            "tags": []
          }
        }
      ]
    },
    {
      "cell_type": "code",
      "metadata": {
        "id": "ieyODy-4TuRs",
        "outputId": "f864c2a5-f4b3-4e34-d5ab-09b6cfd65d16"
      },
      "source": [
        "year<-c(2010,2011,2012,2013,2014,2015,2016,2017,2018)\n",
        "value<-c(0.3, 4.7,13.2,760,316,430,980,12000,13400)\n",
        "ratio<-c(NA,value[2:length(value)]/value[1:(length(value)-1)])\n",
        "rate<-(ratio-1)*100\n",
        "\n",
        "bitcoinValue<-data.frame(anyo=year,valor=value,TAE=round(rate,2),ratio=round(ratio,4))\n",
        "bitcoinValue"
      ],
      "execution_count": null,
      "outputs": [
        {
          "output_type": "display_data",
          "data": {
            "text/html": [
              "<table>\n",
              "<thead><tr><th scope=col>anyo</th><th scope=col>valor</th><th scope=col>TAE</th><th scope=col>ratio</th></tr></thead>\n",
              "<tbody>\n",
              "\t<tr><td>2010   </td><td>    0.3</td><td>     NA</td><td>     NA</td></tr>\n",
              "\t<tr><td>2011   </td><td>    4.7</td><td>1466.67</td><td>15.6667</td></tr>\n",
              "\t<tr><td>2012   </td><td>   13.2</td><td> 180.85</td><td> 2.8085</td></tr>\n",
              "\t<tr><td>2013   </td><td>  760.0</td><td>5657.58</td><td>57.5758</td></tr>\n",
              "\t<tr><td>2014   </td><td>  316.0</td><td> -58.42</td><td> 0.4158</td></tr>\n",
              "\t<tr><td>2015   </td><td>  430.0</td><td>  36.08</td><td> 1.3608</td></tr>\n",
              "\t<tr><td>2016   </td><td>  980.0</td><td> 127.91</td><td> 2.2791</td></tr>\n",
              "\t<tr><td>2017   </td><td>12000.0</td><td>1124.49</td><td>12.2449</td></tr>\n",
              "\t<tr><td>2018   </td><td>13400.0</td><td>  11.67</td><td> 1.1167</td></tr>\n",
              "</tbody>\n",
              "</table>\n"
            ],
            "text/latex": "\\begin{tabular}{r|llll}\n anyo & valor & TAE & ratio\\\\\n\\hline\n\t 2010    &     0.3 &      NA &      NA\\\\\n\t 2011    &     4.7 & 1466.67 & 15.6667\\\\\n\t 2012    &    13.2 &  180.85 &  2.8085\\\\\n\t 2013    &   760.0 & 5657.58 & 57.5758\\\\\n\t 2014    &   316.0 &  -58.42 &  0.4158\\\\\n\t 2015    &   430.0 &   36.08 &  1.3608\\\\\n\t 2016    &   980.0 &  127.91 &  2.2791\\\\\n\t 2017    & 12000.0 & 1124.49 & 12.2449\\\\\n\t 2018    & 13400.0 &   11.67 &  1.1167\\\\\n\\end{tabular}\n",
            "text/markdown": "\nanyo | valor | TAE | ratio | \n|---|---|---|---|---|---|---|---|---|\n| 2010    |     0.3 |      NA |      NA | \n| 2011    |     4.7 | 1466.67 | 15.6667 | \n| 2012    |    13.2 |  180.85 |  2.8085 | \n| 2013    |   760.0 | 5657.58 | 57.5758 | \n| 2014    |   316.0 |  -58.42 |  0.4158 | \n| 2015    |   430.0 |   36.08 |  1.3608 | \n| 2016    |   980.0 |  127.91 |  2.2791 | \n| 2017    | 12000.0 | 1124.49 | 12.2449 | \n| 2018    | 13400.0 |   11.67 |  1.1167 | \n\n\n",
            "text/plain": [
              "  anyo valor   TAE     ratio  \n",
              "1 2010     0.3      NA      NA\n",
              "2 2011     4.7 1466.67 15.6667\n",
              "3 2012    13.2  180.85  2.8085\n",
              "4 2013   760.0 5657.58 57.5758\n",
              "5 2014   316.0  -58.42  0.4158\n",
              "6 2015   430.0   36.08  1.3608\n",
              "7 2016   980.0  127.91  2.2791\n",
              "8 2017 12000.0 1124.49 12.2449\n",
              "9 2018 13400.0   11.67  1.1167"
            ]
          },
          "metadata": {
            "tags": []
          }
        }
      ]
    },
    {
      "cell_type": "code",
      "metadata": {
        "id": "l0g42Us8TuRu",
        "outputId": "e5fd3401-24c9-47db-b6f6-4d20e5b84b6f"
      },
      "source": [
        "print(paste0(\"La media aritmética de todos los interes TAE es: \",\n",
        "             round(mean(bitcoinValue$TAE,na.rm=T),2),\"%\"))"
      ],
      "execution_count": null,
      "outputs": [
        {
          "output_type": "stream",
          "text": [
            "[1] \"La media aritm<U+00E9>tica de todos los interes TAE es: 1068.35%\"\n"
          ],
          "name": "stdout"
        }
      ]
    },
    {
      "cell_type": "code",
      "metadata": {
        "id": "a9SNBcZbTuRx",
        "outputId": "89fe0870-7692-4641-dfc8-a76a9f425fbe"
      },
      "source": [
        "realTAEmean<-(myGeometricMean(bitcoinValue$ratio,na.rm=T)-1)*100\n",
        "print(paste0(\"La media real de todos los interes TAE es:\",\n",
        "             round(realTAEmean,2),\"%\"))"
      ],
      "execution_count": null,
      "outputs": [
        {
          "output_type": "stream",
          "text": [
            "[1] \"La media real de todos los interes TAE es:281.29%\"\n"
          ],
          "name": "stdout"
        }
      ]
    },
    {
      "cell_type": "code",
      "metadata": {
        "id": "3EwKGQQFTuR4",
        "outputId": "b0cc7054-1b23-44d4-903c-b2d2d1de1355"
      },
      "source": [
        "realTAEmean/100+1"
      ],
      "execution_count": null,
      "outputs": [
        {
          "output_type": "display_data",
          "data": {
            "text/html": [
              "3.81288083855525"
            ],
            "text/latex": "3.81288083855525",
            "text/markdown": "3.81288083855525",
            "text/plain": [
              "[1] 3.812881"
            ]
          },
          "metadata": {
            "tags": []
          }
        }
      ]
    },
    {
      "cell_type": "code",
      "metadata": {
        "id": "7MVDLM9XTuR8",
        "outputId": "5e45ca4c-88e6-4644-f2e6-b2776e241d91"
      },
      "source": [
        "initialAmount<-0.3\n",
        "round(initialAmount*(realTAEmean/100+1)^8)"
      ],
      "execution_count": null,
      "outputs": [
        {
          "output_type": "display_data",
          "data": {
            "text/html": [
              "13401"
            ],
            "text/latex": "13401",
            "text/markdown": "13401",
            "text/plain": [
              "[1] 13401"
            ]
          },
          "metadata": {
            "tags": []
          }
        }
      ]
    },
    {
      "cell_type": "code",
      "metadata": {
        "id": "VUdN4em6TuR_",
        "outputId": "4207730f-2e0d-4e7c-a450-4510667a0b31"
      },
      "source": [
        "initialAmount<-10\n",
        "\n",
        "print(paste0(\"Si hubieramos invertido $\",initialAmount,\" a un interes del \",round(realTAEmean,2),\n",
        "             \"% TAE, 7 años despues tendríamos $\", round(initialAmount*(realTAEmean/100+1)^7)))"
      ],
      "execution_count": null,
      "outputs": [
        {
          "output_type": "stream",
          "text": [
            "[1] \"Si hubieramos invertido $10 a un interes del 281.29% TAE, 7 a<U+00F1>os despues tendr<U+00ED>amos $117158\"\n"
          ],
          "name": "stdout"
        }
      ]
    },
    {
      "cell_type": "markdown",
      "metadata": {
        "id": "LFhLzQ_iTuSB"
      },
      "source": [
        "![Imagen no cargada. Edita y borra la @ ](https://akifrases.com/frases-imagenes/frase-el-interes-compuesto-es-la-fuerza-mas-poderosa-de-la-galaxia-albert-einstein-110175.jpg  )\n"
      ]
    },
    {
      "cell_type": "markdown",
      "metadata": {
        "id": "dnhCBpyhTuSC"
      },
      "source": [
        "![Imagen no cargada. Edita y borra la @ ](http://weknowmemes.com/wp-content/uploads/2012/07/dont-believe-everything-you-see-on-the-internet.jpg  )\n"
      ]
    },
    {
      "cell_type": "markdown",
      "metadata": {
        "id": "7xdnrJAgTuSC"
      },
      "source": [
        "### Varianza / desviación típica\n",
        "\n",
        "La [variancia](https://es.wikipedia.org/wiki/Varianza) (que suele representarse como $\\sigma ^{2}$,$s^2$ o $Var(X)$) de una variable aleatoria es una medida de dispersión definida como la esperanza del cuadrado de la desviación de dicha variable respecto a su media. O en pocas palabras, es la media de los residuos al cuadrado.\n",
        "\n",
        "Es decir, define lo mucho que varía una variable aleatoria respecto a la media:\n",
        "* Si todos los valores son iguales, no hay variación, la varianza es 0.\n",
        "* Si los valores son muy diferentes unos de otros la varianza es alta.\n",
        "\n",
        "\n",
        "El motivo de usar el cuadrado es porque queremos ver lo mucho que cambia cada elemento sin importar su signo, si cambia por *arriba* o por *abajo*, el signo se elimina. El hecho de ser una función al cuadrado también da mayor importancia a los valores extremos. El problema que esto origina es que las unidades de la varianza están ambién al cuadrado, por ello, a veces se utiliza la **desviación típica**.\n",
        "\n",
        "La raíz cuadrada de la *varianza* es la **desviación típica** que indica **como de típica es la desviación respecto a la media en sus mismas unidades**."
      ]
    },
    {
      "cell_type": "markdown",
      "metadata": {
        "id": "sEEukd1aTuSD"
      },
      "source": [
        "\\\\[ Var[x] =  \\frac{1}{N} \\sum _{i=1}^N \\left( x_i-\\bar{x} \\right)^2 \\\\]\n",
        "\n"
      ]
    },
    {
      "cell_type": "markdown",
      "metadata": {
        "id": "50UM--sZTuSE"
      },
      "source": [
        "En R la función de la varianza se podría definir así:"
      ]
    },
    {
      "cell_type": "code",
      "metadata": {
        "id": "Ut-BZ12ETuSG"
      },
      "source": [
        "myVar<-function(X){\n",
        "    m<-mean(X)\n",
        "    v<-0\n",
        "    for (xi in X){\n",
        "        v<-v+(xi-m)^2\n",
        "    }\n",
        "    v/length(X)\n",
        "}"
      ],
      "execution_count": null,
      "outputs": []
    },
    {
      "cell_type": "code",
      "metadata": {
        "id": "txJDlRHrTuSJ",
        "outputId": "97893b14-a5ad-488b-9463-3d487a5b80dc"
      },
      "source": [
        "print(paste(\"La varianza es:\",myVar(alturas)))\n",
        "print(paste(\"La desviación típica es:\",sqrt(myVar(alturas))))"
      ],
      "execution_count": null,
      "outputs": [
        {
          "output_type": "stream",
          "text": [
            "[1] \"La varianza es: 0.0156\"\n",
            "[1] \"La desviaci<U+00F3>n t<U+00ED>pica es: 0.124899959967968\"\n"
          ],
          "name": "stdout"
        }
      ]
    },
    {
      "cell_type": "markdown",
      "metadata": {
        "id": "EskiUWyvTuSM"
      },
      "source": [
        "Evidentemente R tiene una función para la varianza (*var*) y la desviación típica (*sd*) cuya ejecución es mucho más rápida que nuestra función:"
      ]
    },
    {
      "cell_type": "code",
      "metadata": {
        "id": "IChk6DKbTuSN",
        "outputId": "3940d693-ea9f-4ef3-bc6b-4f66b61d40f2"
      },
      "source": [
        "print(paste(\"La varianza es:\",var(alturas)))\n",
        "print(paste(\"La desviación típica es:\",sd(alturas)))"
      ],
      "execution_count": null,
      "outputs": [
        {
          "output_type": "stream",
          "text": [
            "[1] \"La varianza es: 0.0182\"\n",
            "[1] \"La desviaci<U+00F3>n t<U+00ED>pica es: 0.13490737563232\"\n"
          ],
          "name": "stdout"
        }
      ]
    },
    {
      "cell_type": "markdown",
      "metadata": {
        "id": "sGsDLAJETuSQ"
      },
      "source": [
        "La varianza es un estimador sesgado y R utiliza la fórmula del estimador no sesgado. Veremos que significa eso en el futuro."
      ]
    },
    {
      "cell_type": "markdown",
      "metadata": {
        "id": "5Ke6bzBxTuSR"
      },
      "source": [
        "#### Ejemplo varianza acciones\n",
        "\n",
        "En la siguiente tabla tenemos el valor que una acción ha incrementado su precio respecto al día anterior. Miramos dos acciones, las de Telefónica y Tesla."
      ]
    },
    {
      "cell_type": "code",
      "metadata": {
        "id": "vuQpKR6hTuSS",
        "outputId": "dc13bca3-79cf-4d55-ede3-da3698754a4c"
      },
      "source": [
        "myStocks<-read.csv(\"funcionesR/stockRatio.csv\",stringsAsFactor=F)\n",
        "#str(myStocks)\n",
        "\n",
        "myStocks$date<-as.Date(myStocks$date, format=\"%Y-%m-%d\")\n",
        "str(myStocks)\n",
        "head(myStocks)"
      ],
      "execution_count": null,
      "outputs": [
        {
          "output_type": "stream",
          "text": [
            "'data.frame':\t251 obs. of  3 variables:\n",
            " $ date: Date, format: \"2017-02-01\" \"2017-02-02\" ...\n",
            " $ TEF : num  1.102 0.489 -1.494 -0.258 0.372 ...\n",
            " $ TSLA: num  0.9268 -0.0875 2.5624 -0.1125 1.7865 ...\n"
          ],
          "name": "stdout"
        },
        {
          "output_type": "display_data",
          "data": {
            "text/html": [
              "<table>\n",
              "<thead><tr><th scope=col>date</th><th scope=col>TEF</th><th scope=col>TSLA</th></tr></thead>\n",
              "<tbody>\n",
              "\t<tr><td>2017-02-01 </td><td> 1.1019964 </td><td> 0.92681670</td></tr>\n",
              "\t<tr><td>2017-02-02 </td><td> 0.4893719 </td><td>-0.08745816</td></tr>\n",
              "\t<tr><td>2017-02-03 </td><td>-1.4942021 </td><td> 2.56236301</td></tr>\n",
              "\t<tr><td>2017-02-06 </td><td>-0.2584365 </td><td>-0.11249486</td></tr>\n",
              "\t<tr><td>2017-02-07 </td><td> 0.3717516 </td><td> 1.78653713</td></tr>\n",
              "\t<tr><td>2017-02-08 </td><td> 2.5926228 </td><td> 2.71673739</td></tr>\n",
              "</tbody>\n",
              "</table>\n"
            ],
            "text/latex": "\\begin{tabular}{r|lll}\n date & TEF & TSLA\\\\\n\\hline\n\t 2017-02-01  &  1.1019964  &  0.92681670\\\\\n\t 2017-02-02  &  0.4893719  & -0.08745816\\\\\n\t 2017-02-03  & -1.4942021  &  2.56236301\\\\\n\t 2017-02-06  & -0.2584365  & -0.11249486\\\\\n\t 2017-02-07  &  0.3717516  &  1.78653713\\\\\n\t 2017-02-08  &  2.5926228  &  2.71673739\\\\\n\\end{tabular}\n",
            "text/markdown": "\ndate | TEF | TSLA | \n|---|---|---|---|---|---|\n| 2017-02-01  |  1.1019964  |  0.92681670 | \n| 2017-02-02  |  0.4893719  | -0.08745816 | \n| 2017-02-03  | -1.4942021  |  2.56236301 | \n| 2017-02-06  | -0.2584365  | -0.11249486 | \n| 2017-02-07  |  0.3717516  |  1.78653713 | \n| 2017-02-08  |  2.5926228  |  2.71673739 | \n\n\n",
            "text/plain": [
              "  date       TEF        TSLA       \n",
              "1 2017-02-01  1.1019964  0.92681670\n",
              "2 2017-02-02  0.4893719 -0.08745816\n",
              "3 2017-02-03 -1.4942021  2.56236301\n",
              "4 2017-02-06 -0.2584365 -0.11249486\n",
              "5 2017-02-07  0.3717516  1.78653713\n",
              "6 2017-02-08  2.5926228  2.71673739"
            ]
          },
          "metadata": {
            "tags": []
          }
        }
      ]
    },
    {
      "cell_type": "code",
      "metadata": {
        "id": "2bxu5G6jTuSV",
        "outputId": "7ee3cd3a-f08d-413e-dceb-bf1ffea7c9db"
      },
      "source": [
        "options(repr.plot.height=4,repr.plot.width=6)\n",
        "plot(myStocks$date,myStocks$TSLA,xlab = \"Fecha\",ylab=\"%\",col=\"blue\")\n",
        "points(myStocks$date,myStocks$TEF,col=\"red\",pch=\"*\")\n",
        "legend(myStocks$date[2],7,c(\"TESLA\",\"TELEFONICA\"),pch = c(\"o\",\"*\"),col=c(\"blue\",\"red\"),y.intersp=2)\n",
        "grid()"
      ],
      "execution_count": null,
      "outputs": [
        {
          "output_type": "display_data",
          "data": {
            "image/png": "[encoded data removed]",
            "text/plain": [
              "plot without title"
            ]
          },
          "metadata": {
            "tags": []
          }
        }
      ]
    },
    {
      "cell_type": "markdown",
      "metadata": {
        "id": "XVL6bihATuSX"
      },
      "source": [
        "En la gráfica podemos ver como las acciones de Tesla varían mucho más que las acciones de las de telefónica. Mientras que las acciones de Tesla tienen jornadas donde las subidas o bajadas exceden el 5%, en Telefónica raro es el día que varían más del 3%.\n",
        "\n",
        "La varianza es el estimador estadístico que mejor refleja estos cambios:"
      ]
    },
    {
      "cell_type": "code",
      "metadata": {
        "id": "IMnk1AwJTuSY",
        "outputId": "b74fab6d-e04b-4171-894e-e84ab677365f"
      },
      "source": [
        "paste(\"Varianza de TESLA:\",var(myStocks$TSLA))\n",
        "paste(\"Varianza de TELEFONICA:\",var(myStocks$TEF))\n",
        "paste(\"Desviación típica de TESLA:\",sd(myStocks$TSLA))\n",
        "paste(\"Desviación típica de TESLA:\",sd(myStocks$TEF))"
      ],
      "execution_count": null,
      "outputs": [
        {
          "output_type": "display_data",
          "data": {
            "text/html": [
              "'Varianza de TESLA: 5.06755256345548'"
            ],
            "text/latex": "'Varianza de TESLA: 5.06755256345548'",
            "text/markdown": "'Varianza de TESLA: 5.06755256345548'",
            "text/plain": [
              "[1] \"Varianza de TESLA: 5.06755256345548\""
            ]
          },
          "metadata": {
            "tags": []
          }
        },
        {
          "output_type": "display_data",
          "data": {
            "text/html": [
              "'Varianza de TELEFONICA: 1.14676927374341'"
            ],
            "text/latex": "'Varianza de TELEFONICA: 1.14676927374341'",
            "text/markdown": "'Varianza de TELEFONICA: 1.14676927374341'",
            "text/plain": [
              "[1] \"Varianza de TELEFONICA: 1.14676927374341\""
            ]
          },
          "metadata": {
            "tags": []
          }
        },
        {
          "output_type": "display_data",
          "data": {
            "text/html": [
              "'Desviaci&lt;U+00F3&gt;n t&lt;U+00ED&gt;pica de TESLA: 2.25112251187168'"
            ],
            "text/latex": "'Desviaci<U+00F3>n t<U+00ED>pica de TESLA: 2.25112251187168'",
            "text/markdown": "'Desviaci&lt;U+00F3&gt;n t&lt;U+00ED&gt;pica de TESLA: 2.25112251187168'",
            "text/plain": [
              "[1] \"Desviaci<U+00F3>n t<U+00ED>pica de TESLA: 2.25112251187168\""
            ]
          },
          "metadata": {
            "tags": []
          }
        },
        {
          "output_type": "display_data",
          "data": {
            "text/html": [
              "'Desviaci&lt;U+00F3&gt;n t&lt;U+00ED&gt;pica de TESLA: 1.07087313615732'"
            ],
            "text/latex": "'Desviaci<U+00F3>n t<U+00ED>pica de TESLA: 1.07087313615732'",
            "text/markdown": "'Desviaci&lt;U+00F3&gt;n t&lt;U+00ED&gt;pica de TESLA: 1.07087313615732'",
            "text/plain": [
              "[1] \"Desviaci<U+00F3>n t<U+00ED>pica de TESLA: 1.07087313615732\""
            ]
          },
          "metadata": {
            "tags": []
          }
        }
      ]
    },
    {
      "cell_type": "markdown",
      "metadata": {
        "collapsed": true,
        "id": "kbCgbhrrTuSa"
      },
      "source": [
        "#### Desigualdad de Chebyshev (Нера́венство Чебышёва)\n",
        "\n",
        "La desigualdad de Chebyshev es un resultado que ofrece una cota inferior a la probabilidad de que el valor de una variable aleatoria con varianza finita esté a una cierta distancia de su esperanza matemática."
      ]
    },
    {
      "cell_type": "markdown",
      "metadata": {
        "id": "2dEEMDQQTuSb"
      },
      "source": [
        "\\\\[ Pr\\left( |X-\\bar{x}| \\geq k · \\sigma \\right) \\leq \\frac{1}{k^2} \\\\] "
      ]
    },
    {
      "cell_type": "markdown",
      "metadata": {
        "id": "GX8LZoyfTuSd"
      },
      "source": [
        "O dicho de otras palabras, la probabilidad de que haya valores **fuera** del intervalo $\\left[ \\bar{x}-k\\sigma, \\bar{x}+k\\sigma \\right]$ es menor o igual a $1/{k^2}$.\n",
        "\n",
        "La desigualdad de Chebyshev es un límite muy pesimista, se pueden obtener mejores resultados cuando la distribución es conocida."
      ]
    },
    {
      "cell_type": "markdown",
      "metadata": {
        "id": "CKZgE_ebTuSf"
      },
      "source": [
        "#### Ejemplo Alturas\n",
        "\n",
        "Si miramos el vector de alturas anterior, podemos sacar una tabla en función de k.\n",
        "\n",
        "Por ejemplo podemos decir que como mínimo el 44% ( $\\frac{1}{1.5^2}=0.4444$ ) de las muestras se encuentran fuera del intervalo $\\left[ \\bar{x}-k\\sigma, \\bar{x}+k\\sigma \\right]= [1.69-1.5·0.135,1.69+1.5·0.135]=[1.487639\t,1.892361]$"
      ]
    },
    {
      "cell_type": "code",
      "metadata": {
        "id": "vvaxcMqOTuSh",
        "outputId": "ed056163-adb2-410c-b61e-2c0c01906b1a"
      },
      "source": [
        "mean(alturas)\n",
        "sd(alturas)\n",
        "k<-c(1.01,seq(from=1.5,to=5,by=0.5))\n",
        "margen<-data.frame(limite_inf=mean(alturas)-k*sd(alturas),\n",
        "                   limite_sup=mean(alturas)+k*sd(alturas),\n",
        "                   prob=1/k^2,\n",
        "                   k=k)\n",
        "margen"
      ],
      "execution_count": null,
      "outputs": [
        {
          "output_type": "display_data",
          "data": {
            "text/html": [
              "1.69"
            ],
            "text/latex": "1.69",
            "text/markdown": "1.69",
            "text/plain": [
              "[1] 1.69"
            ]
          },
          "metadata": {
            "tags": []
          }
        },
        {
          "output_type": "display_data",
          "data": {
            "text/html": [
              "0.13490737563232"
            ],
            "text/latex": "0.13490737563232",
            "text/markdown": "0.13490737563232",
            "text/plain": [
              "[1] 0.1349074"
            ]
          },
          "metadata": {
            "tags": []
          }
        },
        {
          "output_type": "display_data",
          "data": {
            "text/html": [
              "<table>\n",
              "<thead><tr><th scope=col>limite_inf</th><th scope=col>limite_sup</th><th scope=col>prob</th><th scope=col>k</th></tr></thead>\n",
              "<tbody>\n",
              "\t<tr><td>1.553744  </td><td>1.826256  </td><td>0.98029605</td><td>1.01      </td></tr>\n",
              "\t<tr><td>1.487639  </td><td>1.892361  </td><td>0.44444444</td><td>1.50      </td></tr>\n",
              "\t<tr><td>1.420185  </td><td>1.959815  </td><td>0.25000000</td><td>2.00      </td></tr>\n",
              "\t<tr><td>1.352732  </td><td>2.027268  </td><td>0.16000000</td><td>2.50      </td></tr>\n",
              "\t<tr><td>1.285278  </td><td>2.094722  </td><td>0.11111111</td><td>3.00      </td></tr>\n",
              "\t<tr><td>1.217824  </td><td>2.162176  </td><td>0.08163265</td><td>3.50      </td></tr>\n",
              "\t<tr><td>1.150370  </td><td>2.229630  </td><td>0.06250000</td><td>4.00      </td></tr>\n",
              "\t<tr><td>1.082917  </td><td>2.297083  </td><td>0.04938272</td><td>4.50      </td></tr>\n",
              "\t<tr><td>1.015463  </td><td>2.364537  </td><td>0.04000000</td><td>5.00      </td></tr>\n",
              "</tbody>\n",
              "</table>\n"
            ],
            "text/latex": "\\begin{tabular}{r|llll}\n limite\\_inf & limite\\_sup & prob & k\\\\\n\\hline\n\t 1.553744   & 1.826256   & 0.98029605 & 1.01      \\\\\n\t 1.487639   & 1.892361   & 0.44444444 & 1.50      \\\\\n\t 1.420185   & 1.959815   & 0.25000000 & 2.00      \\\\\n\t 1.352732   & 2.027268   & 0.16000000 & 2.50      \\\\\n\t 1.285278   & 2.094722   & 0.11111111 & 3.00      \\\\\n\t 1.217824   & 2.162176   & 0.08163265 & 3.50      \\\\\n\t 1.150370   & 2.229630   & 0.06250000 & 4.00      \\\\\n\t 1.082917   & 2.297083   & 0.04938272 & 4.50      \\\\\n\t 1.015463   & 2.364537   & 0.04000000 & 5.00      \\\\\n\\end{tabular}\n",
            "text/markdown": "\nlimite_inf | limite_sup | prob | k | \n|---|---|---|---|---|---|---|---|---|\n| 1.553744   | 1.826256   | 0.98029605 | 1.01       | \n| 1.487639   | 1.892361   | 0.44444444 | 1.50       | \n| 1.420185   | 1.959815   | 0.25000000 | 2.00       | \n| 1.352732   | 2.027268   | 0.16000000 | 2.50       | \n| 1.285278   | 2.094722   | 0.11111111 | 3.00       | \n| 1.217824   | 2.162176   | 0.08163265 | 3.50       | \n| 1.150370   | 2.229630   | 0.06250000 | 4.00       | \n| 1.082917   | 2.297083   | 0.04938272 | 4.50       | \n| 1.015463   | 2.364537   | 0.04000000 | 5.00       | \n\n\n",
            "text/plain": [
              "  limite_inf limite_sup prob       k   \n",
              "1 1.553744   1.826256   0.98029605 1.01\n",
              "2 1.487639   1.892361   0.44444444 1.50\n",
              "3 1.420185   1.959815   0.25000000 2.00\n",
              "4 1.352732   2.027268   0.16000000 2.50\n",
              "5 1.285278   2.094722   0.11111111 3.00\n",
              "6 1.217824   2.162176   0.08163265 3.50\n",
              "7 1.150370   2.229630   0.06250000 4.00\n",
              "8 1.082917   2.297083   0.04938272 4.50\n",
              "9 1.015463   2.364537   0.04000000 5.00"
            ]
          },
          "metadata": {
            "tags": []
          }
        }
      ]
    },
    {
      "cell_type": "code",
      "metadata": {
        "id": "3Q-qvYy2TuSm",
        "outputId": "be978b86-d22b-4c30-8c4c-d64511fea90a"
      },
      "source": [
        "plot(margen$k,margen$prob,t='l',xlab=\"k\",\n",
        "     ylab=\"Probabilidad\",main=\"Desigualdad de Chebyshev\")\n",
        "grid()"
      ],
      "execution_count": null,
      "outputs": [
        {
          "output_type": "display_data",
          "data": {
            "image/png": "[encoded data removed]",
            "text/plain": [
              "Plot with title \"Desigualdad de Chebyshev\""
            ]
          },
          "metadata": {
            "tags": []
          }
        }
      ]
    },
    {
      "cell_type": "markdown",
      "metadata": {
        "id": "HZXAjWaITuSt"
      },
      "source": [
        "#### Ejemplo varianza acciones\n",
        "\n",
        "Podemos repetir el ejercicio anterior con las acciones. Al menos el 50% de las acciones de Telefónica se encuentran en el rango [-1.5,1.53], mientras que en cambio las acciones de Tesla, al tener una mayor varianza su rango crece a [-3,3.35]."
      ]
    },
    {
      "cell_type": "code",
      "metadata": {
        "id": "cgIRU_y4TuSu",
        "outputId": "e0ba27ec-729d-4331-9aa7-30c0775d5ac6"
      },
      "source": [
        "k<-c(sqrt(1/0.75),sqrt(1/0.5),sqrt(1/0.25))\n",
        "margen<-data.frame(TEF_inf=mean(myStocks$TEF)-k*sd(myStocks$TEF),\n",
        "                   TEF_sup=mean(myStocks$TEF)+k*sd(myStocks$TEF),prob=1/k^2,\n",
        "                   TESLA_inf=mean(myStocks$TSLA)-k*sd(myStocks$TSLA),\n",
        "                   TESLA_sup=mean(myStocks$TSLA)+k*sd(myStocks$TSLA)\n",
        "                  )\n",
        "\n",
        "margen"
      ],
      "execution_count": null,
      "outputs": [
        {
          "output_type": "display_data",
          "data": {
            "text/html": [
              "<table>\n",
              "<thead><tr><th scope=col>TEF_inf</th><th scope=col>TEF_sup</th><th scope=col>prob</th><th scope=col>TESLA_inf</th><th scope=col>TESLA_sup</th></tr></thead>\n",
              "<tbody>\n",
              "\t<tr><td>-1.221692</td><td>1.251384 </td><td>0.75     </td><td>-2.433883</td><td>2.764862 </td></tr>\n",
              "\t<tr><td>-1.499598</td><td>1.529289 </td><td>0.50     </td><td>-3.018079</td><td>3.349057 </td></tr>\n",
              "\t<tr><td>-2.126901</td><td>2.156592 </td><td>0.25     </td><td>-4.336756</td><td>4.667734 </td></tr>\n",
              "</tbody>\n",
              "</table>\n"
            ],
            "text/latex": "\\begin{tabular}{r|lllll}\n TEF\\_inf & TEF\\_sup & prob & TESLA\\_inf & TESLA\\_sup\\\\\n\\hline\n\t -1.221692 & 1.251384  & 0.75      & -2.433883 & 2.764862 \\\\\n\t -1.499598 & 1.529289  & 0.50      & -3.018079 & 3.349057 \\\\\n\t -2.126901 & 2.156592  & 0.25      & -4.336756 & 4.667734 \\\\\n\\end{tabular}\n",
            "text/markdown": "\nTEF_inf | TEF_sup | prob | TESLA_inf | TESLA_sup | \n|---|---|---|\n| -1.221692 | 1.251384  | 0.75      | -2.433883 | 2.764862  | \n| -1.499598 | 1.529289  | 0.50      | -3.018079 | 3.349057  | \n| -2.126901 | 2.156592  | 0.25      | -4.336756 | 4.667734  | \n\n\n",
            "text/plain": [
              "  TEF_inf   TEF_sup  prob TESLA_inf TESLA_sup\n",
              "1 -1.221692 1.251384 0.75 -2.433883 2.764862 \n",
              "2 -1.499598 1.529289 0.50 -3.018079 3.349057 \n",
              "3 -2.126901 2.156592 0.25 -4.336756 4.667734 "
            ]
          },
          "metadata": {
            "tags": []
          }
        }
      ]
    },
    {
      "cell_type": "markdown",
      "metadata": {
        "id": "LQiJKnD7TuSx"
      },
      "source": [
        "### Mediana"
      ]
    },
    {
      "cell_type": "markdown",
      "metadata": {
        "id": "Dn5mYRYaTuSx"
      },
      "source": [
        "La mediana es el valor de una distribución tal que la mitad de los elementos son superiores y la mitad son inferiores."
      ]
    },
    {
      "cell_type": "code",
      "metadata": {
        "id": "UsymiOZTTuSy"
      },
      "source": [
        "myMedian<-function(x){\n",
        "  x <- sort(x)\n",
        "  print(x)\n",
        "  i <- (length(x)+1)/2\n",
        "  if (round(i)==i){\n",
        "      x[i]\n",
        "  }else{\n",
        "      (x[floor(i)]+x[ceiling(i)])/2\n",
        "  }\n",
        "}"
      ],
      "execution_count": null,
      "outputs": []
    },
    {
      "cell_type": "code",
      "metadata": {
        "id": "PKlexxwQTuS0",
        "outputId": "2e8d97e7-c7ec-4d09-fe1e-04274e40b871"
      },
      "source": [
        "alturas<-c(1.80,1.60,1.50,1.90,1.75,1.63,1.65,1.7)\n",
        "myMedian(alturas)"
      ],
      "execution_count": null,
      "outputs": [
        {
          "output_type": "stream",
          "text": [
            "[1] 1.50 1.60 1.63 1.65 1.70 1.75 1.80 1.90\n"
          ],
          "name": "stdout"
        },
        {
          "output_type": "display_data",
          "data": {
            "text/html": [
              "1.675"
            ],
            "text/latex": "1.675",
            "text/markdown": "1.675",
            "text/plain": [
              "[1] 1.675"
            ]
          },
          "metadata": {
            "tags": []
          }
        }
      ]
    },
    {
      "cell_type": "markdown",
      "metadata": {
        "id": "VdZMht4pTuS5"
      },
      "source": [
        "Como siempre es aconsejable utilizar la función que R ha preparado"
      ]
    },
    {
      "cell_type": "code",
      "metadata": {
        "id": "Fun7DYXlTuS5",
        "outputId": "3b873b4a-34c5-431b-f3c8-561112d5d79d"
      },
      "source": [
        "median(alturas)"
      ],
      "execution_count": null,
      "outputs": [
        {
          "output_type": "display_data",
          "data": {
            "text/html": [
              "1.675"
            ],
            "text/latex": "1.675",
            "text/markdown": "1.675",
            "text/plain": [
              "[1] 1.675"
            ]
          },
          "metadata": {
            "tags": []
          }
        }
      ]
    },
    {
      "cell_type": "code",
      "metadata": {
        "id": "eIhSsbAzTuS_",
        "outputId": "d246249f-b171-47a4-a7e3-8e512232a051"
      },
      "source": [
        "alturas<-c(1.80,1.60,1.50,1.90,1.75,1.63,1.65,1.7,3,3)\n",
        "mean(alturas)\n",
        "median(alturas)"
      ],
      "execution_count": null,
      "outputs": [
        {
          "output_type": "display_data",
          "data": {
            "text/html": [
              "1.953"
            ],
            "text/latex": "1.953",
            "text/markdown": "1.953",
            "text/plain": [
              "[1] 1.953"
            ]
          },
          "metadata": {
            "tags": []
          }
        },
        {
          "output_type": "display_data",
          "data": {
            "text/html": [
              "1.725"
            ],
            "text/latex": "1.725",
            "text/markdown": "1.725",
            "text/plain": [
              "[1] 1.725"
            ]
          },
          "metadata": {
            "tags": []
          }
        }
      ]
    },
    {
      "cell_type": "markdown",
      "metadata": {
        "id": "B054D_3LTuTD"
      },
      "source": [
        "Media y mediana no tienen porqué ser iguales. Ejemplo salarios brutos españoles de 2016 [Fuente](http://www.ine.es/prensa/epa_2016_d.pdf):\n",
        "* **Salario medio:** 1878,1€/mes\n",
        "* **Salario mediano:** 1594,5€/mes\n",
        "\n",
        "Esto indica que hay poca gente con sueldos muy altos que sube la media, la distribución no es simétrica."
      ]
    },
    {
      "cell_type": "markdown",
      "metadata": {
        "id": "qvTeN4AeTuTE"
      },
      "source": [
        "### Cuartiles"
      ]
    },
    {
      "cell_type": "markdown",
      "metadata": {
        "id": "1KmckuHtTuTE"
      },
      "source": [
        "Los [cuartiles](https://es.wikipedia.org/wiki/Cuartil) son los tres valores que dividen un conjunto de datos ordenados en cuatro partes porcentualmente iguales.\n",
        "* Q1: El 25% de las muestras se encuentran por debajo del primer cuartil.\n",
        "* Q2: El 50% de las muestras se encuentran por debajo del segundo cuartil. Este valor también se le conoce como *mediana*\n",
        "* Q3: El 75% de las muestras se encuentran por debajo del tercer cuartil.\n",
        "* Rango intercuantílico (IQR): Q3-Q1\n",
        "\n",
        "Una forma muy práctica de mostrar estos valores es con el diagrama de cajas (boxplot en inglés).\n",
        "El boxplot se compone de:\n",
        "* Caja (Box): El lado superior indica el lugar de Q3, el lado inferior es Q1 y la línea que lo atraviesa es Q2\n",
        "* Bigotes (Whiskers): Dos líneas que se exitienden 1.5 veces el IQR desde Q3 y desde Q1.\n",
        "* Valores atípicos (Outlayers): Valores que se encuentran fuera de los bigotes."
      ]
    },
    {
      "cell_type": "code",
      "metadata": {
        "scrolled": false,
        "id": "XZFi3nFGTuTG",
        "outputId": "8b650eb0-28c6-4a49-9ab7-60e3eb011a04"
      },
      "source": [
        "X<-myStocks$TEF\n",
        "boxplot(X)\n",
        "grid()\n",
        "\n",
        "q1<-quantile(X,0.25)\n",
        "q3<-quantile(X,0.75)\n",
        "iqr<-q3-q1\n",
        "\n",
        "text(1.25,quantile(X,0.75),\"Q3\")\n",
        "text(1.29,median(X),\"mediana\")\n",
        "text(1.25,quantile(X,0.25),\"Q1\")\n",
        "text(1.25,q3+1.5*iqr,\"Q3+1.5·IQR\")\n",
        "text(1.25,q1-1.5*iqr,\"Q1-1.5·IQR\")\n",
        "\n",
        "text(0.9,q3+1.8*iqr,\"Outlayers\")"
      ],
      "execution_count": null,
      "outputs": [
        {
          "output_type": "display_data",
          "data": {
            "image/png": "[encoded data removed]",
            "text/plain": [
              "plot without title"
            ]
          },
          "metadata": {
            "tags": []
          }
        }
      ]
    },
    {
      "cell_type": "markdown",
      "metadata": {
        "id": "7FvQMGzCTuTJ"
      },
      "source": [
        "### Quantiles o percentiles\n",
        "\n",
        "El percentil indica el porcentaje de muestras que se encuentran debajo de un umbral dado. Es igual al cuantil, solo que este está dado en tanto por 1 mientras que el percentil está dado en tanto por ciento."
      ]
    },
    {
      "cell_type": "markdown",
      "metadata": {
        "id": "ANlbFk0RTuTJ"
      },
      "source": [
        "#### Ejemplo:\n",
        "Los percentiles se utilizan mucho para mostrar si el peso de un bebé es el correcto o se desvía mucho de lo esperado.\n",
        "![](funcionesR/percentiles.png)\n",
        "Fuente [OMS](http://www.who.int/childgrowth/standards/sft_wfa_girls_p/en/)"
      ]
    },
    {
      "cell_type": "markdown",
      "metadata": {
        "id": "7Rla4l-MTuTJ"
      },
      "source": [
        "En R tenemos la función *quantile()*"
      ]
    },
    {
      "cell_type": "code",
      "metadata": {
        "id": "ZXF2UJHdTuTK",
        "outputId": "f07e0581-ddcb-458a-bb1e-e7549f853a97"
      },
      "source": [
        "quantile(alturas,0.92)"
      ],
      "execution_count": null,
      "outputs": [
        {
          "output_type": "display_data",
          "data": {
            "text/html": [
              "<strong>92%:</strong> 3"
            ],
            "text/latex": "\\textbf{92\\textbackslash{}\\%:} 3",
            "text/markdown": "**92%:** 3",
            "text/plain": [
              "92% \n",
              "  3 "
            ]
          },
          "metadata": {
            "tags": []
          }
        }
      ]
    },
    {
      "cell_type": "markdown",
      "metadata": {
        "collapsed": true,
        "id": "vvqwFeN6TuTM"
      },
      "source": [
        "\n",
        "### Moda\n",
        "\n",
        "Es el valor con mayor frecuencia en una distribución."
      ]
    },
    {
      "cell_type": "code",
      "metadata": {
        "scrolled": true,
        "id": "sPrBCLumTuTM",
        "outputId": "071cd971-0a78-4740-f1cd-7e9db372d88a"
      },
      "source": [
        "set.seed(123)\n",
        "# Creamos una secuencia de 40 números aleatorios\n",
        "vec<-round(rnorm(40,mean=7,sd=2))\n",
        "vec"
      ],
      "execution_count": null,
      "outputs": [
        {
          "output_type": "display_data",
          "data": {
            "text/html": [
              "<ol class=list-inline>\n",
              "\t<li>6</li>\n",
              "\t<li>7</li>\n",
              "\t<li>10</li>\n",
              "\t<li>7</li>\n",
              "\t<li>7</li>\n",
              "\t<li>10</li>\n",
              "\t<li>8</li>\n",
              "\t<li>4</li>\n",
              "\t<li>6</li>\n",
              "\t<li>6</li>\n",
              "\t<li>9</li>\n",
              "\t<li>8</li>\n",
              "\t<li>8</li>\n",
              "\t<li>7</li>\n",
              "\t<li>6</li>\n",
              "\t<li>11</li>\n",
              "\t<li>8</li>\n",
              "\t<li>3</li>\n",
              "\t<li>8</li>\n",
              "\t<li>6</li>\n",
              "\t<li>5</li>\n",
              "\t<li>7</li>\n",
              "\t<li>5</li>\n",
              "\t<li>6</li>\n",
              "\t<li>6</li>\n",
              "\t<li>4</li>\n",
              "\t<li>9</li>\n",
              "\t<li>7</li>\n",
              "\t<li>5</li>\n",
              "\t<li>10</li>\n",
              "\t<li>8</li>\n",
              "\t<li>6</li>\n",
              "\t<li>9</li>\n",
              "\t<li>9</li>\n",
              "\t<li>9</li>\n",
              "\t<li>8</li>\n",
              "\t<li>8</li>\n",
              "\t<li>7</li>\n",
              "\t<li>6</li>\n",
              "\t<li>6</li>\n",
              "</ol>\n"
            ],
            "text/latex": "\\begin{enumerate*}\n\\item 6\n\\item 7\n\\item 10\n\\item 7\n\\item 7\n\\item 10\n\\item 8\n\\item 4\n\\item 6\n\\item 6\n\\item 9\n\\item 8\n\\item 8\n\\item 7\n\\item 6\n\\item 11\n\\item 8\n\\item 3\n\\item 8\n\\item 6\n\\item 5\n\\item 7\n\\item 5\n\\item 6\n\\item 6\n\\item 4\n\\item 9\n\\item 7\n\\item 5\n\\item 10\n\\item 8\n\\item 6\n\\item 9\n\\item 9\n\\item 9\n\\item 8\n\\item 8\n\\item 7\n\\item 6\n\\item 6\n\\end{enumerate*}\n",
            "text/markdown": "1. 6\n2. 7\n3. 10\n4. 7\n5. 7\n6. 10\n7. 8\n8. 4\n9. 6\n10. 6\n11. 9\n12. 8\n13. 8\n14. 7\n15. 6\n16. 11\n17. 8\n18. 3\n19. 8\n20. 6\n21. 5\n22. 7\n23. 5\n24. 6\n25. 6\n26. 4\n27. 9\n28. 7\n29. 5\n30. 10\n31. 8\n32. 6\n33. 9\n34. 9\n35. 9\n36. 8\n37. 8\n38. 7\n39. 6\n40. 6\n\n\n",
            "text/plain": [
              " [1]  6  7 10  7  7 10  8  4  6  6  9  8  8  7  6 11  8  3  8  6  5  7  5  6  6\n",
              "[26]  4  9  7  5 10  8  6  9  9  9  8  8  7  6  6"
            ]
          },
          "metadata": {
            "tags": []
          }
        }
      ]
    },
    {
      "cell_type": "code",
      "metadata": {
        "scrolled": true,
        "id": "6twwlQaETuTP",
        "outputId": "700cc5aa-19eb-4bf7-f33b-3c8d2073b72e"
      },
      "source": [
        "#Contamos las veces que aparece cada uno\n",
        "myTable <- table(vec)\n",
        "myTable"
      ],
      "execution_count": null,
      "outputs": [
        {
          "output_type": "display_data",
          "data": {
            "text/plain": [
              "vec\n",
              " 3  4  5  6  7  8  9 10 11 \n",
              " 1  2  3 10  7  8  5  3  1 "
            ]
          },
          "metadata": {
            "tags": []
          }
        }
      ]
    },
    {
      "cell_type": "code",
      "metadata": {
        "id": "_QYhiX2fTuTS",
        "outputId": "ff72d970-3523-42c9-b996-3fece540e432"
      },
      "source": [
        "str(myTable)"
      ],
      "execution_count": null,
      "outputs": [
        {
          "output_type": "stream",
          "text": [
            " 'table' int [1:9(1d)] 1 2 3 10 7 8 5 3 1\n",
            " - attr(*, \"dimnames\")=List of 1\n",
            "  ..$ vec: chr [1:9] \"3\" \"4\" \"5\" \"6\" ...\n"
          ],
          "name": "stdout"
        }
      ]
    },
    {
      "cell_type": "code",
      "metadata": {
        "id": "6BCBBUf5TuTW",
        "outputId": "e694e974-d982-40ce-8e09-511d26621a68"
      },
      "source": [
        "names(myTable)"
      ],
      "execution_count": null,
      "outputs": [
        {
          "output_type": "display_data",
          "data": {
            "text/html": [
              "<ol class=list-inline>\n",
              "\t<li>'3'</li>\n",
              "\t<li>'4'</li>\n",
              "\t<li>'5'</li>\n",
              "\t<li>'6'</li>\n",
              "\t<li>'7'</li>\n",
              "\t<li>'8'</li>\n",
              "\t<li>'9'</li>\n",
              "\t<li>'10'</li>\n",
              "\t<li>'11'</li>\n",
              "</ol>\n"
            ],
            "text/latex": "\\begin{enumerate*}\n\\item '3'\n\\item '4'\n\\item '5'\n\\item '6'\n\\item '7'\n\\item '8'\n\\item '9'\n\\item '10'\n\\item '11'\n\\end{enumerate*}\n",
            "text/markdown": "1. '3'\n2. '4'\n3. '5'\n4. '6'\n5. '7'\n6. '8'\n7. '9'\n8. '10'\n9. '11'\n\n\n",
            "text/plain": [
              "[1] \"3\"  \"4\"  \"5\"  \"6\"  \"7\"  \"8\"  \"9\"  \"10\" \"11\""
            ]
          },
          "metadata": {
            "tags": []
          }
        }
      ]
    },
    {
      "cell_type": "code",
      "metadata": {
        "id": "MZbzkm6vTuTa",
        "outputId": "8764d20e-6142-4fdb-a132-fd609fb3cfa3"
      },
      "source": [
        "names(which.max(myTable))"
      ],
      "execution_count": null,
      "outputs": [
        {
          "output_type": "display_data",
          "data": {
            "text/html": [
              "'6'"
            ],
            "text/latex": "'6'",
            "text/markdown": "'6'",
            "text/plain": [
              "[1] \"6\""
            ]
          },
          "metadata": {
            "tags": []
          }
        }
      ]
    },
    {
      "cell_type": "code",
      "metadata": {
        "id": "IzIU_xabTuTg",
        "outputId": "d9131ea3-d9ca-4d0a-a088-7c4b276faf8f"
      },
      "source": [
        "names(myTable)[which.max(myTable)]"
      ],
      "execution_count": null,
      "outputs": [
        {
          "output_type": "display_data",
          "data": {
            "text/html": [
              "'6'"
            ],
            "text/latex": "'6'",
            "text/markdown": "'6'",
            "text/plain": [
              "[1] \"6\""
            ]
          },
          "metadata": {
            "tags": []
          }
        }
      ]
    },
    {
      "cell_type": "code",
      "metadata": {
        "id": "ksVT429YTuTj",
        "outputId": "184a2617-70cf-4d03-d01e-29530cc899b5"
      },
      "source": [
        "print(paste(\"La posición del máximo es:\",which.max(myTable)))\n",
        "\n",
        "print(paste(\"El número más común es:\",names(myTable)[which.max(myTable)]))\n",
        "print(paste(\"Ese número ha aparecido \",max(myTable),\"veces\"))\n"
      ],
      "execution_count": null,
      "outputs": [
        {
          "output_type": "stream",
          "text": [
            "[1] \"La posición del máximo es: 4\"\n",
            "[1] \"El número más común es: 6\"\n",
            "[1] \"Ese número ha aparecido  10 veces\"\n"
          ],
          "name": "stdout"
        }
      ]
    }
  ]
}